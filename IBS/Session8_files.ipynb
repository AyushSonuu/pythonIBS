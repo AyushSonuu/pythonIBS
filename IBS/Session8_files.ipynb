{
 "cells": [
  {
   "cell_type": "markdown",
   "id": "415f777f-0936-41b7-ba4f-9280c6076eb2",
   "metadata": {},
   "source": [
    "# Files"
   ]
  },
  {
   "cell_type": "code",
   "execution_count": 6,
   "id": "27afc98f-37ee-471b-89fd-7cad07bd42c4",
   "metadata": {},
   "outputs": [],
   "source": [
    "# Documentation: https://docs.python.org/3/tutorial/inputoutput.html#reading-and-writing-files"
   ]
  },
  {
   "cell_type": "markdown",
   "id": "b51c5947-38f1-4141-9da7-7b17ebd6e638",
   "metadata": {},
   "source": [
    "## Paradigm"
   ]
  },
  {
   "cell_type": "code",
   "execution_count": 7,
   "id": "6d4b1a32-d959-4712-ba61-6d3ff2ff7f3f",
   "metadata": {},
   "outputs": [],
   "source": [
    "# 1) open \n",
    "# 2) read/write/append \n",
    "# 3) close"
   ]
  },
  {
   "cell_type": "markdown",
   "id": "a86d3400-1f26-4842-8051-4ac0af17cd6e",
   "metadata": {},
   "source": [
    "## Creating a text file"
   ]
  },
  {
   "cell_type": "code",
   "execution_count": 8,
   "id": "9fc08407-f6d2-44bd-babc-211d0ca32d4d",
   "metadata": {},
   "outputs": [],
   "source": [
    "# Below commands just create a file. It can be done using editor too\n",
    "! echo \"sample content line number 1\" > abc.txt\n",
    "! echo \"sample content line number 2\" >> abc.txt\n",
    "! echo \"sample content line number 3\" >> abc.txt"
   ]
  },
  {
   "cell_type": "code",
   "execution_count": 9,
   "id": "da3f080c-ac91-4bca-90f8-275b28c738ff",
   "metadata": {},
   "outputs": [
    {
     "name": "stdout",
     "output_type": "stream",
     "text": [
      "sample content line number 1\n",
      "sample content line number 2\n",
      "sample content line number 3\n"
     ]
    }
   ],
   "source": [
    "! cat abc.txt"
   ]
  },
  {
   "cell_type": "markdown",
   "id": "ccb24a4a-99ea-4910-9edc-3bdaf8b5dfab",
   "metadata": {},
   "source": [
    "## Opening a file"
   ]
  },
  {
   "cell_type": "code",
   "execution_count": 10,
   "id": "8b89d8a8-ff0b-4b95-9483-dfeefbc8674f",
   "metadata": {},
   "outputs": [],
   "source": [
    "#help(open)"
   ]
  },
  {
   "cell_type": "code",
   "execution_count": 11,
   "id": "44e78eb6-48e6-4502-a546-36aae20b2273",
   "metadata": {},
   "outputs": [
    {
     "data": {
      "text/plain": [
       "_io.TextIOWrapper"
      ]
     },
     "execution_count": 11,
     "metadata": {},
     "output_type": "execute_result"
    }
   ],
   "source": [
    "#file = open('abc.txt', 'r')\n",
    "file = open('abc.txt', \"r\") # text is by default\n",
    "type(file)"
   ]
  },
  {
   "cell_type": "code",
   "execution_count": 12,
   "id": "1a5bb8d5-f18c-40c6-94c5-dc9a4533df8d",
   "metadata": {},
   "outputs": [],
   "source": [
    "#byte to char\n",
    "# unicode char : 1 to 4 bytes"
   ]
  },
  {
   "cell_type": "code",
   "execution_count": 13,
   "id": "ef795808-7a72-44be-8f2a-ae81a0230a06",
   "metadata": {},
   "outputs": [],
   "source": [
    "#import io\n",
    "#help(io)"
   ]
  },
  {
   "cell_type": "code",
   "execution_count": 14,
   "id": "7ffd567b-17d2-4ec7-8e88-742941a27ad9",
   "metadata": {},
   "outputs": [
    {
     "data": {
      "text/plain": [
       "['_CHUNK_SIZE',\n",
       " '__class__',\n",
       " '__del__',\n",
       " '__delattr__',\n",
       " '__dict__',\n",
       " '__dir__',\n",
       " '__doc__',\n",
       " '__enter__',\n",
       " '__eq__',\n",
       " '__exit__',\n",
       " '__format__',\n",
       " '__ge__',\n",
       " '__getattribute__',\n",
       " '__gt__',\n",
       " '__hash__',\n",
       " '__init__',\n",
       " '__init_subclass__',\n",
       " '__iter__',\n",
       " '__le__',\n",
       " '__lt__',\n",
       " '__ne__',\n",
       " '__new__',\n",
       " '__next__',\n",
       " '__reduce__',\n",
       " '__reduce_ex__',\n",
       " '__repr__',\n",
       " '__setattr__',\n",
       " '__sizeof__',\n",
       " '__str__',\n",
       " '__subclasshook__',\n",
       " '_checkClosed',\n",
       " '_checkReadable',\n",
       " '_checkSeekable',\n",
       " '_checkWritable',\n",
       " '_finalizing',\n",
       " 'buffer',\n",
       " 'close',\n",
       " 'closed',\n",
       " 'detach',\n",
       " 'encoding',\n",
       " 'errors',\n",
       " 'fileno',\n",
       " 'flush',\n",
       " 'isatty',\n",
       " 'line_buffering',\n",
       " 'mode',\n",
       " 'name',\n",
       " 'newlines',\n",
       " 'read',\n",
       " 'readable',\n",
       " 'readline',\n",
       " 'readlines',\n",
       " 'reconfigure',\n",
       " 'seek',\n",
       " 'seekable',\n",
       " 'tell',\n",
       " 'truncate',\n",
       " 'writable',\n",
       " 'write',\n",
       " 'write_through',\n",
       " 'writelines']"
      ]
     },
     "execution_count": 14,
     "metadata": {},
     "output_type": "execute_result"
    }
   ],
   "source": [
    "dir(file)"
   ]
  },
  {
   "cell_type": "code",
   "execution_count": 15,
   "id": "407073da-a7d8-4d23-a214-cea0f36a9d63",
   "metadata": {},
   "outputs": [],
   "source": [
    "#help(file)"
   ]
  },
  {
   "cell_type": "code",
   "execution_count": 16,
   "id": "372d4498-8567-4417-9d9d-0d37dc4cc35f",
   "metadata": {},
   "outputs": [
    {
     "name": "stdout",
     "output_type": "stream",
     "text": [
      "abc.txt\n"
     ]
    }
   ],
   "source": [
    "print(file.name)"
   ]
  },
  {
   "cell_type": "code",
   "execution_count": 17,
   "id": "987914d5-f769-4640-bb1a-102ee113d99a",
   "metadata": {},
   "outputs": [
    {
     "name": "stdout",
     "output_type": "stream",
     "text": [
      "r\n"
     ]
    }
   ],
   "source": [
    "print(file.mode)"
   ]
  },
  {
   "cell_type": "code",
   "execution_count": 18,
   "id": "f1c0bbe9-4270-4a0b-a2fe-2752fffcf9b2",
   "metadata": {},
   "outputs": [
    {
     "name": "stdout",
     "output_type": "stream",
     "text": [
      "False\n"
     ]
    }
   ],
   "source": [
    "print(file.closed)"
   ]
  },
  {
   "cell_type": "markdown",
   "id": "3d27ccb0-7d30-4667-bdd5-e96efdab1f55",
   "metadata": {},
   "source": [
    "## Reading file contents"
   ]
  },
  {
   "cell_type": "code",
   "execution_count": 19,
   "id": "8413a59d-90b6-4a61-af31-e2688880a534",
   "metadata": {},
   "outputs": [
    {
     "name": "stdout",
     "output_type": "stream",
     "text": [
      "Help on built-in function read:\n",
      "\n",
      "read(size=-1, /) method of _io.TextIOWrapper instance\n",
      "    Read at most n characters from stream.\n",
      "    \n",
      "    Read from underlying buffer until we have n characters or we hit EOF.\n",
      "    If n is negative or omitted, read until EOF.\n",
      "\n"
     ]
    }
   ],
   "source": [
    "help(file.read)"
   ]
  },
  {
   "cell_type": "code",
   "execution_count": 20,
   "id": "01c9d2e3-ad22-46f2-9781-f1c244d0b502",
   "metadata": {},
   "outputs": [],
   "source": [
    "content = file.read()"
   ]
  },
  {
   "cell_type": "code",
   "execution_count": 21,
   "id": "ef3468f7-d876-4f8f-ae42-4133de337ca6",
   "metadata": {},
   "outputs": [
    {
     "name": "stdout",
     "output_type": "stream",
     "text": [
      "sample content line number 1\n",
      "sample content line number 2\n",
      "sample content line number 3\n",
      "\n"
     ]
    }
   ],
   "source": [
    "print(content)"
   ]
  },
  {
   "cell_type": "markdown",
   "id": "c2c6f65f-2269-481a-9748-24a051a4e4aa",
   "metadata": {},
   "source": [
    "## Closing the file"
   ]
  },
  {
   "cell_type": "code",
   "execution_count": 22,
   "id": "ef5cf7e6-1e88-42e0-8c2c-e7f5577deb88",
   "metadata": {},
   "outputs": [
    {
     "name": "stdout",
     "output_type": "stream",
     "text": [
      "Help on built-in function close:\n",
      "\n",
      "close() method of _io.TextIOWrapper instance\n",
      "    Flush and close the IO object.\n",
      "    \n",
      "    This method has no effect if the file is already closed.\n",
      "\n"
     ]
    }
   ],
   "source": [
    "help(file.close)"
   ]
  },
  {
   "cell_type": "code",
   "execution_count": 23,
   "id": "76a9c419-814c-48c2-930d-d12c4427bdd4",
   "metadata": {},
   "outputs": [
    {
     "data": {
      "text/plain": [
       "False"
      ]
     },
     "execution_count": 23,
     "metadata": {},
     "output_type": "execute_result"
    }
   ],
   "source": [
    "file.closed # has value False, as file is not yet closed"
   ]
  },
  {
   "cell_type": "code",
   "execution_count": 24,
   "id": "0e396ba9-7282-4f64-986f-e9944b31e2ed",
   "metadata": {},
   "outputs": [],
   "source": [
    "file.close()"
   ]
  },
  {
   "cell_type": "code",
   "execution_count": 25,
   "id": "019aaabd-3019-468d-bed4-9cda5cdf1753",
   "metadata": {},
   "outputs": [
    {
     "data": {
      "text/plain": [
       "True"
      ]
     },
     "execution_count": 25,
     "metadata": {},
     "output_type": "execute_result"
    }
   ],
   "source": [
    "file.closed # has value True, as file is closed"
   ]
  },
  {
   "cell_type": "markdown",
   "id": "2ca4b2d2-ff43-48a1-856d-85cead8c0ecc",
   "metadata": {},
   "source": [
    "## Reading file chunk by chunk"
   ]
  },
  {
   "cell_type": "code",
   "execution_count": 26,
   "id": "50d3a662-a62a-42ba-9823-73f18d71a86c",
   "metadata": {},
   "outputs": [],
   "source": [
    "# concept of file position (returned by file.tell() )"
   ]
  },
  {
   "cell_type": "code",
   "execution_count": 27,
   "id": "275e16ce-31d5-4fa1-9fed-c43f651e9fb9",
   "metadata": {},
   "outputs": [
    {
     "name": "stdout",
     "output_type": "stream",
     "text": [
      "sample content line number 1\n",
      "sample content line number 2\n",
      "sample content line number 3\n"
     ]
    }
   ],
   "source": [
    "! cat abc.txt"
   ]
  },
  {
   "cell_type": "code",
   "execution_count": 28,
   "id": "dee09dfb-5a6d-46a3-a14c-26f0daec3b90",
   "metadata": {},
   "outputs": [
    {
     "name": "stdout",
     "output_type": "stream",
     "text": [
      "position= 0\n",
      "content=[sample con]\n",
      "position= 10\n",
      "content=[tent line ]\n",
      "position= 20\n",
      "content=[number 1\n",
      "s]\n",
      "position= 30\n"
     ]
    }
   ],
   "source": [
    "file = open(\"abc.txt\", \"r\")\n",
    "print(\"position=\",file.tell())\n",
    "\n",
    "content = file.read(10) # Maximum 10 characters\n",
    "print(f\"content=[{content}]\")\n",
    "print(\"position=\",file.tell())\n",
    "\n",
    "content = file.read(10) # Maximum 10 characters\n",
    "print(f\"content=[{content}]\")\n",
    "print(\"position=\",file.tell())\n",
    "\n",
    "content = file.read(10) # Maximum 10 characters\n",
    "print(f\"content=[{content}]\")\n",
    "print(\"position=\",file.tell())\n",
    "\n",
    "file.close()\n"
   ]
  },
  {
   "cell_type": "markdown",
   "id": "6f8d63bc-4c66-4853-8902-66e06dc445c5",
   "metadata": {},
   "source": [
    "## Seeking (changing) the file position"
   ]
  },
  {
   "cell_type": "code",
   "execution_count": 29,
   "id": "c32b9ea4-2cf7-4fc3-9dd5-9c6ec601a483",
   "metadata": {},
   "outputs": [
    {
     "name": "stdout",
     "output_type": "stream",
     "text": [
      "Help on built-in function seek:\n",
      "\n",
      "seek(cookie, whence=0, /) method of _io.TextIOWrapper instance\n",
      "    Change stream position.\n",
      "    \n",
      "    Change the stream position to the given byte offset. The offset is\n",
      "    interpreted relative to the position indicated by whence.  Values\n",
      "    for whence are:\n",
      "    \n",
      "    * 0 -- start of stream (the default); offset should be zero or positive\n",
      "    * 1 -- current stream position; offset may be negative\n",
      "    * 2 -- end of stream; offset is usually negative\n",
      "    \n",
      "    Return the new absolute position.\n",
      "\n"
     ]
    }
   ],
   "source": [
    "help(file.seek)"
   ]
  },
  {
   "cell_type": "code",
   "execution_count": 30,
   "id": "93d14717-6b76-408b-8a13-5852ad6c2c0c",
   "metadata": {},
   "outputs": [
    {
     "name": "stdout",
     "output_type": "stream",
     "text": [
      "content=[tent line ]\n",
      "position= 20\n",
      "content=[number 1\n",
      "s]\n",
      "position= 30\n",
      "content=[ample cont]\n",
      "position= 40\n"
     ]
    }
   ],
   "source": [
    "# start reading at offset 10\n",
    "file = open(\"abc.txt\", \"r\")\n",
    "file.seek(10)\n",
    "\n",
    "\n",
    "content = file.read(10) # Maximum 10 characters\n",
    "print(f\"content=[{content}]\")\n",
    "print(\"position=\",file.tell())\n",
    "\n",
    "content = file.read(10) # Maximum 10 characters\n",
    "print(f\"content=[{content}]\")\n",
    "print(\"position=\",file.tell())\n",
    "\n",
    "content = file.read(10) # Maximum 10 characters\n",
    "print(f\"content=[{content}]\")\n",
    "print(\"position=\",file.tell())\n",
    "\n",
    "file.close()\n"
   ]
  },
  {
   "cell_type": "code",
   "execution_count": 31,
   "id": "432ff256-8dbf-474a-9543-0c6e11c02475",
   "metadata": {},
   "outputs": [
    {
     "name": "stdout",
     "output_type": "stream",
     "text": [
      "content=[sample con]\n",
      "position= 0\n",
      "content=[sample con]\n",
      "position= 0\n",
      "content=[sample con]\n",
      "position= 10\n"
     ]
    }
   ],
   "source": [
    "# keep shifting back to offset 0\n",
    "file = open(\"abc.txt\", \"r\")\n",
    "\n",
    "\n",
    "content = file.read(10) # Maximum 10 characters\n",
    "print(f\"content=[{content}]\")\n",
    "file.seek(0)\n",
    "print(\"position=\",file.tell())\n",
    "\n",
    "content = file.read(10) # Maximum 10 characters\n",
    "print(f\"content=[{content}]\")\n",
    "file.seek(0)\n",
    "print(\"position=\",file.tell())\n",
    "      \n",
    "content = file.read(10) # Maximum 10 characters\n",
    "print(f\"content=[{content}]\")\n",
    "print(\"position=\",file.tell())\n",
    "\n",
    "file.close()\n"
   ]
  },
  {
   "cell_type": "markdown",
   "id": "1bb987ef-10b7-4d1f-84bd-c9bac8db7bce",
   "metadata": {},
   "source": [
    "## complete code for reading chunk by chunk"
   ]
  },
  {
   "cell_type": "code",
   "execution_count": 32,
   "id": "f108ab7b-22e3-424a-90d8-e3395a958168",
   "metadata": {},
   "outputs": [
    {
     "name": "stdout",
     "output_type": "stream",
     "text": [
      "content=[sample con]\n",
      "content=[tent line ]\n",
      "content=[number 1\n",
      "s]\n",
      "content=[ample cont]\n",
      "content=[ent line n]\n",
      "content=[umber 2\n",
      "sa]\n",
      "content=[mple conte]\n",
      "content=[nt line nu]\n",
      "content=[mber 3\n",
      "]\n",
      "Reached end of file\n"
     ]
    }
   ],
   "source": [
    "#Version1\n",
    "file = open(\"abc.txt\", \"r\")\n",
    "\n",
    "while True: \n",
    "    content = file.read(10)\n",
    "    if len(content) == 0:\n",
    "        print(\"Reached end of file\")\n",
    "        break\n",
    "    print(f\"content=[{content}]\")\n",
    "   \n",
    "file.close()"
   ]
  },
  {
   "cell_type": "code",
   "execution_count": 33,
   "id": "6ab00781-d0dc-45ca-b942-8521b321085e",
   "metadata": {},
   "outputs": [
    {
     "name": "stdout",
     "output_type": "stream",
     "text": [
      "content=[sample con]\n",
      "content=[tent line ]\n",
      "content=[number 1\n",
      "s]\n",
      "content=[ample cont]\n",
      "content=[ent line n]\n",
      "content=[umber 2\n",
      "sa]\n",
      "content=[mple conte]\n",
      "content=[nt line nu]\n",
      "content=[mber 3\n",
      "]\n"
     ]
    }
   ],
   "source": [
    "# Version2\n",
    "file = open(\"abc.txt\", \"r\")\n",
    "\n",
    "content = file.read(10)\n",
    "while len(content) > 0:\n",
    "    print(f\"content=[{content}]\")\n",
    "    content = file.read(10)\n",
    "   \n",
    "file.close()"
   ]
  },
  {
   "cell_type": "code",
   "execution_count": 34,
   "id": "6a0fac03-5295-44d6-9799-a27dc8f5e91a",
   "metadata": {},
   "outputs": [
    {
     "name": "stdout",
     "output_type": "stream",
     "text": [
      "content=[sample con]\n",
      "content=[tent line ]\n",
      "content=[number 1\n",
      "s]\n",
      "content=[ample cont]\n",
      "content=[ent line n]\n",
      "content=[umber 2\n",
      "sa]\n",
      "content=[mple conte]\n",
      "content=[nt line nu]\n",
      "content=[mber 3\n",
      "]\n"
     ]
    }
   ],
   "source": [
    "# Version2\n",
    "file = open(\"abc.txt\", \"r\")\n",
    "\n",
    "\n",
    "while content := file.read(10):\n",
    "    print(f\"content=[{content}]\")\n",
    "    \n",
    "   \n",
    "file.close()"
   ]
  },
  {
   "cell_type": "code",
   "execution_count": 35,
   "id": "49e565e7-65e0-4012-a6d0-2bd54162dddf",
   "metadata": {},
   "outputs": [
    {
     "name": "stdout",
     "output_type": "stream",
     "text": [
      "content=[sample con]\n",
      "content=[tent line ]\n",
      "content=[number 1\n",
      "s]\n",
      "content=[ample cont]\n",
      "content=[ent line n]\n",
      "content=[umber 2\n",
      "sa]\n",
      "content=[mple conte]\n",
      "content=[nt line nu]\n",
      "content=[mber 3\n",
      "]\n"
     ]
    }
   ],
   "source": [
    "# Version 3\n",
    "file = open(\"abc.txt\", \"r\")\n",
    "\n",
    "while len(content := file.read(10)) > 0:\n",
    "    print(f\"content=[{content}]\")\n",
    "   \n",
    "file.close()"
   ]
  },
  {
   "cell_type": "code",
   "execution_count": 36,
   "id": "0660c6ef-7b78-43dc-b881-6ae407c558f9",
   "metadata": {},
   "outputs": [
    {
     "name": "stdout",
     "output_type": "stream",
     "text": [
      "content=[sample con]\n",
      "content=[tent line ]\n",
      "content=[number 1\n",
      "s]\n",
      "content=[ample cont]\n",
      "content=[ent line n]\n",
      "content=[umber 2\n",
      "sa]\n",
      "content=[mple conte]\n",
      "content=[nt line nu]\n",
      "content=[mber 3\n",
      "]\n"
     ]
    }
   ],
   "source": [
    "# Version 4\n",
    "file = open(\"abc.txt\", \"r\")\n",
    "\n",
    "while content := file.read(10):\n",
    "    print(f\"content=[{content}]\")\n",
    "   \n",
    "file.close()"
   ]
  },
  {
   "cell_type": "markdown",
   "id": "a909e2df-b5c1-4add-93eb-525417f80af1",
   "metadata": {},
   "source": [
    "## Resource leaks"
   ]
  },
  {
   "cell_type": "code",
   "execution_count": 37,
   "id": "9acef6a5-d047-4773-815a-c5b78a535f45",
   "metadata": {},
   "outputs": [
    {
     "name": "stdout",
     "output_type": "stream",
     "text": [
      "content=[sample con]\n"
     ]
    },
    {
     "ename": "ZeroDivisionError",
     "evalue": "division by zero",
     "output_type": "error",
     "traceback": [
      "\u001b[0;31m---------------------------------------------------------------------------\u001b[0m",
      "\u001b[0;31mZeroDivisionError\u001b[0m                         Traceback (most recent call last)",
      "Cell \u001b[0;32mIn[37], line 6\u001b[0m\n\u001b[1;32m      4\u001b[0m \u001b[38;5;28;01mwhile\u001b[39;00m content \u001b[38;5;241m:=\u001b[39m file\u001b[38;5;241m.\u001b[39mread(\u001b[38;5;241m10\u001b[39m):\n\u001b[1;32m      5\u001b[0m     \u001b[38;5;28mprint\u001b[39m(\u001b[38;5;124mf\u001b[39m\u001b[38;5;124m\"\u001b[39m\u001b[38;5;124mcontent=[\u001b[39m\u001b[38;5;132;01m{\u001b[39;00mcontent\u001b[38;5;132;01m}\u001b[39;00m\u001b[38;5;124m]\u001b[39m\u001b[38;5;124m\"\u001b[39m)\n\u001b[0;32m----> 6\u001b[0m     \u001b[38;5;28mprint\u001b[39m(\u001b[38;5;241;43m1\u001b[39;49m\u001b[38;5;241;43m/\u001b[39;49m\u001b[38;5;241;43m0\u001b[39;49m) \u001b[38;5;66;03m# just to raise exception\u001b[39;00m\n\u001b[1;32m      8\u001b[0m \u001b[38;5;28mprint\u001b[39m(\u001b[38;5;124m\"\u001b[39m\u001b[38;5;124mclosing file\u001b[39m\u001b[38;5;124m\"\u001b[39m)\n\u001b[1;32m      9\u001b[0m file\u001b[38;5;241m.\u001b[39mclose()\n",
      "\u001b[0;31mZeroDivisionError\u001b[0m: division by zero"
     ]
    }
   ],
   "source": [
    "# What if an exception occurs between open() and close()\n",
    "file = open(\"abc.txt\", \"r\")\n",
    "\n",
    "while content := file.read(10):\n",
    "    print(f\"content=[{content}]\")\n",
    "    print(1/0) # just to raise exception\n",
    "\n",
    "print(\"closing file\")\n",
    "file.close()"
   ]
  },
  {
   "cell_type": "code",
   "execution_count": null,
   "id": "4d3102c6-d269-4eaa-a01c-e85296429a09",
   "metadata": {},
   "outputs": [],
   "source": [
    "# Fixing the resource leak problem (the hard way)\n",
    "# try-exceptblock1-exceptblock2-exceptblock3-else-finally\n",
    "#   try \n",
    "#   except\n",
    "#   else\n",
    "#   finally\n",
    "file = open(\"abc.txt\", \"r\")\n",
    "\n",
    "try:\n",
    "    while content := file.read(10):\n",
    "        print(f\"content=[{content}]\")\n",
    "        print(1/0) # just to raise exception\n",
    "    \n",
    "finally:\n",
    "    print(\"closing file\")\n",
    "    file.close()"
   ]
  },
  {
   "cell_type": "markdown",
   "id": "fef49b16-9f0d-4b4c-992e-ebd8b998ba30",
   "metadata": {},
   "source": [
    "## with statement (context manager)"
   ]
  },
  {
   "cell_type": "code",
   "execution_count": null,
   "id": "6c090e1a-c7d1-46b6-80b4-c1cf0c13e53e",
   "metadata": {},
   "outputs": [],
   "source": [
    "# Fixing the resource leak problem (the elegant way)\n",
    "\n",
    "\n",
    "with open(\"abc.txt\", \"r\") as file:\n",
    "    while content := file.read(10):\n",
    "        print(f\"content=[{content}]\")\n",
    "        print(1/0)\n",
    "   \n",
    "\n",
    "    \n",
    "# need not call file.close()\n",
    "\n",
    "\n",
    "# file.__enter__()\n",
    "\n",
    "# file.__exit__()"
   ]
  },
  {
   "cell_type": "code",
   "execution_count": null,
   "id": "1bb7b62b-0506-43d5-9f6d-ce84fac1a37b",
   "metadata": {},
   "outputs": [],
   "source": [
    "file.closed"
   ]
  },
  {
   "cell_type": "code",
   "execution_count": null,
   "id": "458f9970-4122-4835-8cfe-16cb538279ba",
   "metadata": {},
   "outputs": [],
   "source": [
    "# Fixing the resource leak problem (the elegant way)\n",
    "with open(\"abc.txt\", \"r\") as file: \n",
    "    while content := file.read(10):\n",
    "        print(f\"content=[{content}]\")\n",
    "        #print(1/0) # just to raise exception\n",
    "    \n",
    "# need not call file.close()"
   ]
  },
  {
   "cell_type": "code",
   "execution_count": null,
   "id": "981eda7f-36ec-4f97-a07d-40a911e862c5",
   "metadata": {},
   "outputs": [],
   "source": [
    "file.closed"
   ]
  },
  {
   "cell_type": "code",
   "execution_count": null,
   "id": "329adc90-1ff5-4c89-82e3-9ca23ae15cc4",
   "metadata": {},
   "outputs": [],
   "source": [
    "# Based on  __enter__() and  __exit__()"
   ]
  },
  {
   "cell_type": "markdown",
   "id": "06bfba08-b03d-4594-9914-b1bad74ed20d",
   "metadata": {},
   "source": [
    "## Writing contents in a file"
   ]
  },
  {
   "cell_type": "code",
   "execution_count": null,
   "id": "82cbf1e6-9033-4636-abc6-9e5e23ffd40f",
   "metadata": {},
   "outputs": [],
   "source": [
    "# Now let us overwrite the file and write out own content\n"
   ]
  },
  {
   "cell_type": "code",
   "execution_count": null,
   "id": "d6fcf126-3ffd-44db-b086-f06383fc1bf5",
   "metadata": {},
   "outputs": [],
   "source": [
    "#import io"
   ]
  },
  {
   "cell_type": "code",
   "execution_count": null,
   "id": "cdb4ce10-2c29-4210-b9fa-068433787f3c",
   "metadata": {},
   "outputs": [],
   "source": [
    "#help(io)"
   ]
  },
  {
   "cell_type": "code",
   "execution_count": null,
   "id": "dbf6602e-50bc-48c4-8b73-d5a3ce6b1eaf",
   "metadata": {},
   "outputs": [],
   "source": [
    "! echo \"line1\\nline2\\line3\\nline4\" > abc.txt"
   ]
  },
  {
   "cell_type": "code",
   "execution_count": null,
   "id": "66967c21-c389-43d5-b782-c6c06a3c31af",
   "metadata": {},
   "outputs": [],
   "source": [
    "! cat abc.txt"
   ]
  },
  {
   "cell_type": "code",
   "execution_count": null,
   "id": "a4904fa7-d146-4aa3-bfda-37de23455cf1",
   "metadata": {},
   "outputs": [],
   "source": [
    "file=open('abc.txt', 'w')"
   ]
  },
  {
   "cell_type": "code",
   "execution_count": null,
   "id": "e380fd90-d402-4d18-9a89-2d5794ed2e26",
   "metadata": {},
   "outputs": [],
   "source": [
    "! cat abc.txt"
   ]
  },
  {
   "cell_type": "code",
   "execution_count": null,
   "id": "436dafa1-e178-4f83-bca3-10239b47b0d6",
   "metadata": {},
   "outputs": [],
   "source": [
    "type(file)"
   ]
  },
  {
   "cell_type": "code",
   "execution_count": null,
   "id": "e6eb866e-d49c-489b-8cbb-622883514d97",
   "metadata": {},
   "outputs": [],
   "source": [
    "! cat abc.txt # Notice file contents have got truncated"
   ]
  },
  {
   "cell_type": "code",
   "execution_count": null,
   "id": "8fee0f5e-93f6-49c4-8fca-d551fca70549",
   "metadata": {},
   "outputs": [],
   "source": [
    "help(file.write)"
   ]
  },
  {
   "cell_type": "code",
   "execution_count": null,
   "id": "2e2c6639-6fec-4ca9-b5fe-f74fe6c1e6e0",
   "metadata": {},
   "outputs": [],
   "source": [
    "file.write('This is line 1\\nThis is line 2\\nThis is line 3')"
   ]
  },
  {
   "cell_type": "code",
   "execution_count": null,
   "id": "30e65980-3b2b-4074-9f6b-360fd9e16c98",
   "metadata": {},
   "outputs": [],
   "source": [
    "len('This is line 1\\nThis is line 2\\nThis is line 3')"
   ]
  },
  {
   "cell_type": "code",
   "execution_count": null,
   "id": "588b1aad-4fe4-4b19-811f-a8849575abc9",
   "metadata": {},
   "outputs": [],
   "source": [
    "file.name"
   ]
  },
  {
   "cell_type": "code",
   "execution_count": null,
   "id": "60d3e286-7598-476a-8e5f-d12223229626",
   "metadata": {},
   "outputs": [],
   "source": [
    "! ls -l abc.txt # why size is 0"
   ]
  },
  {
   "cell_type": "code",
   "execution_count": null,
   "id": "c1606041-32bc-4636-9f5e-a81249304a3d",
   "metadata": {},
   "outputs": [],
   "source": [
    "! cat abc.txt # why content is empty?"
   ]
  },
  {
   "cell_type": "code",
   "execution_count": null,
   "id": "554d1313-2d0a-4193-bba0-c8f6b00b851f",
   "metadata": {},
   "outputs": [],
   "source": [
    "file.closed # boolean flag"
   ]
  },
  {
   "cell_type": "code",
   "execution_count": null,
   "id": "d774c7d2-ad48-4c61-b2c9-c9cb10969670",
   "metadata": {},
   "outputs": [],
   "source": [
    "file.flush() # flush without close"
   ]
  },
  {
   "cell_type": "code",
   "execution_count": null,
   "id": "4ebcaed7-2a28-4e62-b793-418fd31992a0",
   "metadata": {},
   "outputs": [],
   "source": [
    "dir(file)"
   ]
  },
  {
   "cell_type": "code",
   "execution_count": null,
   "id": "2d551aae-3dd1-4733-a695-226ee828f3fc",
   "metadata": {},
   "outputs": [],
   "source": [
    "file.close()"
   ]
  },
  {
   "cell_type": "code",
   "execution_count": null,
   "id": "9a39914a-95db-4920-b415-153d1d53cff6",
   "metadata": {},
   "outputs": [],
   "source": [
    "file.closed"
   ]
  },
  {
   "cell_type": "code",
   "execution_count": null,
   "id": "b2ce516b-aaa4-43b1-9c3c-02970b8f1e9e",
   "metadata": {},
   "outputs": [],
   "source": [
    "! ls -l abc.txt"
   ]
  },
  {
   "cell_type": "code",
   "execution_count": null,
   "id": "4b9fd8d2-7801-44b4-9b08-18cd768a45d4",
   "metadata": {},
   "outputs": [],
   "source": [
    "! cat abc.txt"
   ]
  },
  {
   "cell_type": "code",
   "execution_count": null,
   "id": "5f8fbe6a-d119-4d7e-a8cb-684032a27499",
   "metadata": {},
   "outputs": [],
   "source": [
    "# Complete program\n",
    "\n",
    "with open('abc.txt', 'w') as file:\n",
    "    file.write('This is line 1\\nThis is line 2\\nThis is line 3')"
   ]
  },
  {
   "cell_type": "code",
   "execution_count": null,
   "id": "9a8f83b8-6f2e-4f30-b157-4c56520fb5ab",
   "metadata": {},
   "outputs": [],
   "source": [
    "! cat abc.txt"
   ]
  },
  {
   "cell_type": "markdown",
   "id": "ce48735e-41be-43b9-9329-4dcefe2730c4",
   "metadata": {},
   "source": [
    "## Appending contents to a file"
   ]
  },
  {
   "cell_type": "code",
   "execution_count": null,
   "id": "02e5fb2c-4dd3-4ed5-be81-2069cb767df4",
   "metadata": {},
   "outputs": [],
   "source": [
    "# Now lets append content to the file"
   ]
  },
  {
   "cell_type": "code",
   "execution_count": null,
   "id": "9bd5e436-2fe6-46a9-beff-570a39620a51",
   "metadata": {},
   "outputs": [],
   "source": [
    "with open('abc.txt', 'a') as file:\n",
    "    file.write(\"\\nThis is line 4\")"
   ]
  },
  {
   "cell_type": "code",
   "execution_count": null,
   "id": "3d594f22-fe2d-4ce4-9cd6-ab03958ceb37",
   "metadata": {},
   "outputs": [],
   "source": [
    "! cat 'abc.txt'"
   ]
  },
  {
   "cell_type": "markdown",
   "id": "2b92d43b-115c-4149-b758-2af410c482b4",
   "metadata": {},
   "source": [
    "## Read-Write mode"
   ]
  },
  {
   "cell_type": "code",
   "execution_count": null,
   "id": "1d3f9c61-c82a-4831-9857-324d7c55aa9f",
   "metadata": {},
   "outputs": [],
   "source": [
    "# r+ : means read and write : contents are preserved\n",
    "# w+ : means write and read : contents are truncated"
   ]
  },
  {
   "cell_type": "code",
   "execution_count": null,
   "id": "ca6151c8-4a4a-4623-9f17-a6775ba8dca6",
   "metadata": {},
   "outputs": [],
   "source": [
    "help(file.tell)"
   ]
  },
  {
   "cell_type": "code",
   "execution_count": null,
   "id": "0497b535-01ed-448d-a783-21220888ff84",
   "metadata": {},
   "outputs": [],
   "source": [
    "# Lets open file in r+ (read-write mode) and use seek() and tell()"
   ]
  },
  {
   "cell_type": "code",
   "execution_count": null,
   "id": "bf27286d-58e0-425b-8e6c-4d7c46052916",
   "metadata": {},
   "outputs": [],
   "source": [
    "! echo \"sample content line number 1\" > abc.txt\n",
    "! echo \"sample content line number 2\" >> abc.txt\n",
    "! echo \"sample content line number 3\" >> abc.txt"
   ]
  },
  {
   "cell_type": "code",
   "execution_count": null,
   "id": "7580587d-ef52-4d0a-a69c-33ba4dd5b812",
   "metadata": {},
   "outputs": [],
   "source": [
    "file=open('abc.txt', 'r+')\n",
    "\n",
    "file.write(\"ABCDEF\")\n",
    "\n",
    "file.seek(0)\n",
    "\n",
    "\n",
    "content=file.read(10)\n",
    "print(f\"content=[{content}]\")\n",
    "\n",
    "content=file.read(10)\n",
    "print(f\"content=[{content}]\")\n",
    "\n",
    "file.close()\n",
    "\n",
    "!cat abc.txt\n"
   ]
  },
  {
   "cell_type": "markdown",
   "id": "fa02f1ab-a264-4dba-b05f-5ea8b835dcf6",
   "metadata": {},
   "source": [
    "## Reading line by line"
   ]
  },
  {
   "cell_type": "code",
   "execution_count": null,
   "id": "7fca403a-4068-4631-bb72-5845b0ea6d09",
   "metadata": {},
   "outputs": [],
   "source": [
    "! echo \"sample content line number 1\" > abc.txt\n",
    "! echo \"sample content line number 2\" >> abc.txt\n",
    "! echo \"sample content line number 3\" >> abc.txt"
   ]
  },
  {
   "cell_type": "code",
   "execution_count": null,
   "id": "dde692ed-a428-4aef-b149-d66d8a0e993d",
   "metadata": {},
   "outputs": [],
   "source": [
    "! cat abc.txt\n"
   ]
  },
  {
   "cell_type": "code",
   "execution_count": null,
   "id": "f9564f24-31f5-4332-8c64-42612fb041e3",
   "metadata": {},
   "outputs": [],
   "source": [
    "help(io.TextIOWrapper.readline)"
   ]
  },
  {
   "cell_type": "code",
   "execution_count": null,
   "id": "a704185f-a586-449e-bfc8-8f317daa2cfa",
   "metadata": {},
   "outputs": [],
   "source": [
    "file = open('abc.txt', 'r')"
   ]
  },
  {
   "cell_type": "code",
   "execution_count": null,
   "id": "7ae097ba-d446-4cd1-8d8c-201c5d7a1cbf",
   "metadata": {},
   "outputs": [],
   "source": [
    "str = file.readline(5)\n",
    "print(str)"
   ]
  },
  {
   "cell_type": "code",
   "execution_count": null,
   "id": "f16550bd-dae9-4da7-89bc-e0a3a359663b",
   "metadata": {},
   "outputs": [],
   "source": [
    "str = file.readline(5)\n",
    "print(str)"
   ]
  },
  {
   "cell_type": "code",
   "execution_count": null,
   "id": "7b2a56c1-223c-45f9-80db-f0f53c381c6e",
   "metadata": {},
   "outputs": [],
   "source": [
    "str = file.readline(5)\n",
    "print(str)"
   ]
  },
  {
   "cell_type": "code",
   "execution_count": null,
   "id": "71bfe2fa-1efb-4e67-a10a-d747f828a521",
   "metadata": {},
   "outputs": [],
   "source": [
    "# Version1\n",
    "with open('abc.txt', 'r') as file:\n",
    "    while True:\n",
    "        line = file.readline() # Try with 10 as argument\n",
    "        if len(line) == 0:\n",
    "            break;\n",
    "\n",
    "        print(\"line:\", line)"
   ]
  },
  {
   "cell_type": "code",
   "execution_count": null,
   "id": "7df1308a-762f-460a-a0e3-feac3d891c5d",
   "metadata": {},
   "outputs": [],
   "source": [
    "# Version2\n",
    "with open('abc.txt', 'r') as file:\n",
    "    while line := file.readline():\n",
    "        print(\"line:\", line, end=\"\")"
   ]
  },
  {
   "cell_type": "markdown",
   "id": "5c8378e3-11d9-4363-a5d3-5e3eadffc3e6",
   "metadata": {},
   "source": [
    "## Reading multiple lines"
   ]
  },
  {
   "cell_type": "code",
   "execution_count": null,
   "id": "657ae768-2609-40ad-91d4-05d642d9f9cb",
   "metadata": {},
   "outputs": [],
   "source": [
    "help(io.TextIOWrapper.readlines)"
   ]
  },
  {
   "cell_type": "code",
   "execution_count": null,
   "id": "3623d5f2-c634-46d9-8e34-bb03d20fc7fc",
   "metadata": {},
   "outputs": [],
   "source": [
    "# Version1\n",
    "with open('abc.txt', 'r') as file:\n",
    "    lines = file.readlines(5)\n",
    "    print(lines)\n"
   ]
  },
  {
   "cell_type": "code",
   "execution_count": null,
   "id": "b9215eba-0924-4b0a-8a53-d009e2bea686",
   "metadata": {},
   "outputs": [],
   "source": [
    "lines[0]"
   ]
  },
  {
   "cell_type": "code",
   "execution_count": null,
   "id": "a41d0f9d-0d91-481b-8e81-df455256406e",
   "metadata": {},
   "outputs": [],
   "source": [
    "file = open('abc.txt', 'r')"
   ]
  },
  {
   "cell_type": "code",
   "execution_count": null,
   "id": "05957714-6fad-4527-8329-58782a6497ba",
   "metadata": {},
   "outputs": [],
   "source": [
    "print(file.readlines(5))"
   ]
  },
  {
   "cell_type": "code",
   "execution_count": null,
   "id": "7b90202d-008b-4dab-9c3a-8e36b2f83b9b",
   "metadata": {},
   "outputs": [],
   "source": [
    "print(file.readlines(5))"
   ]
  },
  {
   "cell_type": "code",
   "execution_count": null,
   "id": "9ccf573f-baf0-4809-a774-7f5a0381a48f",
   "metadata": {},
   "outputs": [],
   "source": [
    "print(file.readlines(5))"
   ]
  },
  {
   "cell_type": "markdown",
   "id": "d8931664-0f12-4856-91db-41efa09d841a",
   "metadata": {},
   "source": [
    "## [NEW] Writing line by line"
   ]
  },
  {
   "cell_type": "code",
   "execution_count": null,
   "id": "8850868c-67fd-4951-94e5-52173f4b25de",
   "metadata": {},
   "outputs": [],
   "source": [
    "help(file.writelines)"
   ]
  },
  {
   "cell_type": "code",
   "execution_count": null,
   "id": "e3a49404-c3ae-4b34-9de3-125ea571fdcb",
   "metadata": {},
   "outputs": [],
   "source": [
    "\n",
    "with open('abc.txt', 'w') as file:\n",
    "    file.writelines([\"content of line1\\n\", \"content of line2\\n\"])\n",
    "\n"
   ]
  },
  {
   "cell_type": "code",
   "execution_count": null,
   "id": "2d48b13b-d6d3-4a4c-92c3-93de75960b9a",
   "metadata": {},
   "outputs": [],
   "source": [
    "! cat abc.txt"
   ]
  },
  {
   "cell_type": "code",
   "execution_count": null,
   "id": "c51e6547-81d5-4d09-9800-59198df7be8f",
   "metadata": {},
   "outputs": [],
   "source": [
    "\n",
    "with open('abc.txt', 'w') as file:\n",
    "    file.writelines([\"content of line1\\n\", \"content of line2\\n\"])\n",
    "    file.writelines((\"content of line3\\n\", \"content of line4\\n\"))\n",
    "\n"
   ]
  },
  {
   "cell_type": "code",
   "execution_count": null,
   "id": "6ea88099-39f4-4e0e-a075-851695f2a8bd",
   "metadata": {},
   "outputs": [],
   "source": [
    "!cat abc.txt"
   ]
  },
  {
   "cell_type": "code",
   "execution_count": null,
   "id": "d96f2af6-70f9-48c7-8e54-c2928a1e3eb2",
   "metadata": {},
   "outputs": [],
   "source": [
    "\n",
    "with open('abc.txt', 'a') as file:\n",
    "    file.writelines([\"content of line5\\n\", \"content of line6\\n\"])\n",
    "    file.writelines((\"content of line7\\n\", \"content of line8\\n\"))\n",
    "\n"
   ]
  },
  {
   "cell_type": "code",
   "execution_count": null,
   "id": "2c61f7e6-f356-4ef3-a7a8-681abfb1d2b8",
   "metadata": {},
   "outputs": [],
   "source": [
    "!cat abc.txt"
   ]
  },
  {
   "cell_type": "markdown",
   "id": "8a68fec2-d8c0-420d-ad55-3428e31e7310",
   "metadata": {
    "tags": []
   },
   "source": [
    "## Using file as an iterator of lines"
   ]
  },
  {
   "cell_type": "code",
   "execution_count": null,
   "id": "a3cbf8ad-19ca-4ea1-bf67-ee6cb0d5237b",
   "metadata": {},
   "outputs": [],
   "source": [
    "file = open('abc.txt', 'r')"
   ]
  },
  {
   "cell_type": "code",
   "execution_count": null,
   "id": "468aba61-3195-4146-b502-62ec00016533",
   "metadata": {},
   "outputs": [],
   "source": [
    "for line in file:\n",
    "    print(line)"
   ]
  },
  {
   "cell_type": "code",
   "execution_count": null,
   "id": "e13d09ba-da0b-42cc-b719-f78a347b5afa",
   "metadata": {},
   "outputs": [],
   "source": [
    "file = open('abc.txt', 'r')"
   ]
  },
  {
   "cell_type": "code",
   "execution_count": null,
   "id": "13f5d6c2-b18b-487c-8d4d-00546f445e2c",
   "metadata": {},
   "outputs": [],
   "source": [
    "print(next(file))"
   ]
  },
  {
   "cell_type": "code",
   "execution_count": null,
   "id": "7d11aa88-eee7-4d6d-a763-2e3959ebe45c",
   "metadata": {},
   "outputs": [],
   "source": [
    "print(next(file))"
   ]
  },
  {
   "cell_type": "code",
   "execution_count": null,
   "id": "0eb52822-151d-4f6b-bd39-064cf45dfa57",
   "metadata": {},
   "outputs": [],
   "source": [
    "print(next(file))"
   ]
  },
  {
   "cell_type": "code",
   "execution_count": null,
   "id": "953f631c-56c3-40cc-b8cc-ff5607e92e9d",
   "metadata": {},
   "outputs": [],
   "source": [
    "print(next(file))"
   ]
  },
  {
   "cell_type": "code",
   "execution_count": null,
   "id": "346f1d89-6058-47e9-a7f0-fe1c52e67b8e",
   "metadata": {},
   "outputs": [],
   "source": [
    "# Version1\n",
    "\n",
    "with open('abc.txt', 'r') as file:\n",
    "    # file as an iterable\n",
    "    for line in file:\n",
    "        print(line)"
   ]
  },
  {
   "cell_type": "code",
   "execution_count": null,
   "id": "5c2db089-cf19-4e7b-b934-7239cd66bd76",
   "metadata": {},
   "outputs": [],
   "source": [
    "# Version2 : imperfect : not graceful\n",
    "\n",
    "with open('abc.txt', 'r') as file:\n",
    "    # file as an iterable\n",
    "    \n",
    "    while line := next(file):\n",
    "        print(line)"
   ]
  },
  {
   "cell_type": "code",
   "execution_count": null,
   "id": "3ddbfdba-0553-4252-9ce0-95a27d2dcd9c",
   "metadata": {},
   "outputs": [],
   "source": [
    "# Version2 : perfect : graceful\n",
    "\n",
    "with open('abc.txt', 'r') as file:\n",
    "    # file as an iterable\n",
    "    try:\n",
    "        while line := next(file):\n",
    "            print(line)\n",
    "    except StopIteration:\n",
    "        pass"
   ]
  },
  {
   "cell_type": "code",
   "execution_count": null,
   "id": "e5292e17-176a-46ff-be74-034d35505972",
   "metadata": {},
   "outputs": [],
   "source": [
    "# Version3 : typecast to list !\n",
    "\n",
    "with open('abc.txt', 'r') as file:\n",
    "    lines = list(file) # Iteration happens implicitly\n",
    "    #lines=file.readlines()\n",
    "    print(lines)\n"
   ]
  },
  {
   "cell_type": "markdown",
   "id": "6bc1f143-180b-49c3-ba80-fd770b9f667f",
   "metadata": {},
   "source": [
    "# Processing a CSV file (the hard way)"
   ]
  },
  {
   "cell_type": "markdown",
   "id": "f851c1b7-43dd-4254-b5e1-ff2b563f6a7d",
   "metadata": {},
   "source": [
    "## How to parse one line"
   ]
  },
  {
   "cell_type": "code",
   "execution_count": null,
   "id": "ce46ca10-02ba-486a-a91f-c110423a1a44",
   "metadata": {},
   "outputs": [],
   "source": [
    "# Assume CSV file has name, age and country (comma separated)\n",
    "# Assume we have read one line without the newline in line\n",
    "# Below method can be used to extract fields\n",
    "line=\"Ram,12,India\"\n",
    "name,age,country= line.split(',')\n",
    "\n",
    "age=int(age)\n",
    "print(name,age,country)\n"
   ]
  },
  {
   "cell_type": "code",
   "execution_count": null,
   "id": "5793347f-6754-4172-be6e-a43b67126101",
   "metadata": {},
   "outputs": [],
   "source": [
    "type(age)"
   ]
  },
  {
   "cell_type": "code",
   "execution_count": null,
   "id": "47f1803f-7fb7-4489-992e-416bd7b2c93b",
   "metadata": {},
   "outputs": [],
   "source": [
    "#dir(age)"
   ]
  },
  {
   "cell_type": "code",
   "execution_count": null,
   "id": "c632ee28-df50-435b-8c90-e8f99a501d63",
   "metadata": {},
   "outputs": [],
   "source": [
    "# Assume you wish to create the CSV file and want to construct a line from the variables\n",
    "\",\".join([name, age, country])"
   ]
  },
  {
   "cell_type": "code",
   "execution_count": null,
   "id": "de5c5f79-453a-412f-adfe-ea5765c2504a",
   "metadata": {},
   "outputs": [],
   "source": [
    "help(str.replace\n",
    "   )"
   ]
  },
  {
   "cell_type": "code",
   "execution_count": null,
   "id": "fcb2388c-d0dc-4f6d-aea7-9713bb1801c7",
   "metadata": {},
   "outputs": [],
   "source": [
    "# While parsing, how to ignore spaces anywhere in the line\n",
    "\n",
    "line=\"  Ram   ,   12   ,   India   \"\n",
    "name,age,country= line.replace(\" \", \"\").split(',')\n",
    "age=int(age)\n",
    "print(name,age,country)\n",
    "\n"
   ]
  },
  {
   "cell_type": "code",
   "execution_count": null,
   "id": "66c32fc8-d103-46b2-936c-e85568250242",
   "metadata": {},
   "outputs": [],
   "source": [
    "# While parsing, how to ignore spaces anywhere in the line\n",
    "\n",
    "# What if there are tabs too?\n",
    "line=\"  Ram   \\t,   12   \\t,   India   \"\n",
    "name,age,country= line.replace(\" \", \"\").split(',')\n",
    "age=int(age)\n",
    "print(name,age,country)\n"
   ]
  },
  {
   "cell_type": "code",
   "execution_count": null,
   "id": "6cb659fd-fe84-461c-80be-b1049f25620c",
   "metadata": {},
   "outputs": [],
   "source": [
    "# While parsing, how to ignore spaces anywhere in the line\n",
    "\n",
    "# What if there are tabs too?\n",
    "line=\"  Ram   \\t,   12   \\t,   India   \"\n",
    "name,age,country= line.replace(\" \", \"\").replace(\"\\t\",\"\").split(',')\n",
    "age=int(age)\n",
    "print(name,age,country)\n"
   ]
  },
  {
   "cell_type": "code",
   "execution_count": null,
   "id": "b2f00ce0-8751-48cb-9552-92bf7c918da9",
   "metadata": {},
   "outputs": [],
   "source": []
  },
  {
   "cell_type": "code",
   "execution_count": null,
   "id": "312ec1e2-27fc-4ac0-944c-e076ad5ad1d6",
   "metadata": {},
   "outputs": [],
   "source": [
    "# Another way to remove all whitespace (including newline)\n",
    "line=\"  Ram   \\t,   12   \\t,   India   \\n line number 2\"\n",
    "print(line)\n",
    "print(\"\".join(line.split()))"
   ]
  },
  {
   "cell_type": "code",
   "execution_count": null,
   "id": "1e1fb5cb-60e1-4f82-8fc9-ef0b12eb5dae",
   "metadata": {},
   "outputs": [],
   "source": [
    "#Note: sometimes, the fields can contain spaces... e.g. Name and Address\n",
    "# Then, we wish to remove whitepspace at both ends of line and at both ends of the fields(but not middle of fields)\n",
    "# line.strip() and field.strip() can be used\n"
   ]
  },
  {
   "cell_type": "code",
   "execution_count": null,
   "id": "23dd6d46-b4a6-4db3-ba60-2e7441ffe7ab",
   "metadata": {},
   "outputs": [],
   "source": [
    "#help(str)\n",
    "\n",
    "line=\"  Ram Kumar  \\t,   12   \\t,   India \"\n",
    "name,age,country= map(lambda x: x.strip(), line.strip().split(','))\n",
    "print(f\"name={name}, age={age}, country={country}\")\n",
    "# age=int(age)\n",
    "# print(name,age,country)"
   ]
  },
  {
   "cell_type": "markdown",
   "id": "d20d275c-a91c-4323-9fa0-d10cc826f5a4",
   "metadata": {},
   "source": [
    "## Complete code where row is represented as dictionary"
   ]
  },
  {
   "cell_type": "code",
   "execution_count": null,
   "id": "496c4e77-0e56-4300-b999-b86169eebd5a",
   "metadata": {},
   "outputs": [],
   "source": [
    "# Creating dictionary {header_column_name : fieldvalue, ....}\n",
    "# Version1: has newlines in header and data\n",
    "with open(\"person.csv\", \"r\") as file:\n",
    "    header = next(file).split(\",\")\n",
    "    print(\"header=\", header)\n",
    "\n",
    "    for row in file:\n",
    "        fields = row.split(\",\")\n",
    "        print(\"fields=\", fields)\n",
    "        rowdict ={ }\n",
    "        for i in range(len(header)):\n",
    "            rowdict[ header[i] ] = fields[i]\n",
    "        # Question : how can you simplify above dictionary creation code?\n",
    "        print(f\"Row dictionary:{rowdict}\")"
   ]
  },
  {
   "cell_type": "code",
   "execution_count": null,
   "id": "de45675b-ec38-47b3-b0a3-d6f598be920d",
   "metadata": {},
   "outputs": [],
   "source": [
    "# Creating dictionary {header_column_name : fieldvalue, ....}\n",
    "# Version2: removed newlines in header and data\n",
    "#     still has space in \"Age\" header and data?\n",
    "with open(\"person.csv\", \"r\") as file:\n",
    "    header = next(file).strip().split(\",\") # Added .strip()\n",
    "    print(\"header=\", header)\n",
    "\n",
    "    for row in file:\n",
    "        fields = row.strip().split(\",\") # Added .strip()\n",
    "        print(\"fields=\", fields)\n",
    "        rowdict ={ }\n",
    "        for i in range(len(header)):\n",
    "            rowdict[ header[i] ] = fields[i]\n",
    "        # Question : how can you simplify above dictionary creation code?\n",
    "        print(f\"Row dictionary:{rowdict}\")"
   ]
  },
  {
   "cell_type": "code",
   "execution_count": null,
   "id": "8ec0d5fb-950d-4782-86ee-450b94341a5d",
   "metadata": {},
   "outputs": [],
   "source": [
    "# Creating dictionary {header_column_name : fieldvalue, ....}\n",
    "# Version3: removed newlines in header and data\n",
    "#     Removed trailing space in headers and fields\n",
    "with open(\"person.csv\", \"r\") as file:\n",
    "    header = next(file).strip().split(\",\") \n",
    "    print(\"header=\", header)\n",
    "\n",
    "    for row in file:\n",
    "        fields = row.strip().split(\",\")\n",
    "        print(\"fields=\", fields)\n",
    "        rowdict ={ }\n",
    "        for i in range(len(header)):\n",
    "            rowdict[ header[i].strip() ] = fields[i].strip() # Notice: Remove trailing spaces in header and field\n",
    "        # Question : how can you simplify above dictionary creation code?\n",
    "        print(f\"Row dictionary:{rowdict}\")"
   ]
  },
  {
   "cell_type": "code",
   "execution_count": null,
   "id": "f1ea7d24-90b3-4c3f-a535-beb70a51f988",
   "metadata": {},
   "outputs": [],
   "source": [
    "# Creating dictionary {header_column_name : fieldvalue, ....}\n",
    "# Version4: Simplified using dictinary comprhension and zip()\n",
    "with open(\"person.csv\", \"r\") as file:\n",
    "    header = next(file).strip().split(\",\") \n",
    "    print(\"header=\", header)\n",
    "\n",
    "    for row in file:\n",
    "        fields = row.strip().split(\",\")\n",
    "        print(\"fields=\", fields)\n",
    "        rowdict={ column.strip() : field.strip() for column,field in zip(header, fields)}\n",
    "        # rowdict ={ }\n",
    "        # for i in range(len(header)):\n",
    "        #     rowdict[ header[i].strip() ] = fields[i].strip() # Notice: Remove trailing spaces in header and field\n",
    "        # Question : how can you simplify above dictionary creation code?\n",
    "        print(f\"Row dictionary:{rowdict}\")"
   ]
  },
  {
   "cell_type": "markdown",
   "id": "97acb99d-ef3e-49ce-abf5-35418e5f810a",
   "metadata": {},
   "source": [
    "## Complete code where row is represented as list"
   ]
  },
  {
   "cell_type": "code",
   "execution_count": null,
   "id": "9a91c8fe-ab22-44e3-97b6-f2b346fd38eb",
   "metadata": {},
   "outputs": [],
   "source": [
    "# Version1: Simplified using dictinary comprhension and zip()\n",
    "# has spaces in 'Age' header and data fields\n",
    "with open(\"person.csv\", \"r\") as file:\n",
    "    list_rows = [ ]\n",
    "    for row in file:\n",
    "        fields = row.strip().split(\",\")\n",
    "        list_rows.append(list(fields))\n",
    "    print(list_rows)"
   ]
  },
  {
   "cell_type": "code",
   "execution_count": null,
   "id": "052d20b1-d5ed-4c46-b632-ea7a239fdaae",
   "metadata": {},
   "outputs": [],
   "source": [
    "# Version1: Simplified using dictinary comprhension and zip()\n",
    "# has spaces in 'Age' header and data fields\n",
    "with open(\"person.csv\", \"r\") as file:\n",
    "    list_rows = [ ]\n",
    "    for row in file:\n",
    "        fields = row.strip().split(\",\")\n",
    "        list_rows.append(list(map(lambda x:x.strip(), fields)))\n",
    "    print(list_rows)"
   ]
  },
  {
   "cell_type": "markdown",
   "id": "81b9a92d-eb9a-4bff-bfd1-e0d4f8619761",
   "metadata": {
    "tags": []
   },
   "source": [
    "# In-Memory text streams"
   ]
  },
  {
   "cell_type": "code",
   "execution_count": null,
   "id": "bfaba284-d480-4204-a935-81b70516694c",
   "metadata": {},
   "outputs": [],
   "source": [
    "import io\n",
    "file = io.StringIO(\"\"\"\n",
    "this is line1\n",
    "this is line2\n",
    "this is line3\n",
    "this is line4\n",
    "\"\"\")\n",
    "\n"
   ]
  },
  {
   "cell_type": "code",
   "execution_count": null,
   "id": "13f6e682-1f80-4447-924d-c03f758109e7",
   "metadata": {},
   "outputs": [],
   "source": [
    "type(file)"
   ]
  },
  {
   "cell_type": "code",
   "execution_count": null,
   "id": "afdf6d70-9ecc-4833-894a-ef2b44b06657",
   "metadata": {},
   "outputs": [],
   "source": [
    "dir(file)"
   ]
  },
  {
   "cell_type": "code",
   "execution_count": null,
   "id": "2799a4e1-8b0c-439d-95ea-1544dd39d2dd",
   "metadata": {},
   "outputs": [],
   "source": [
    "file.closed"
   ]
  },
  {
   "cell_type": "code",
   "execution_count": null,
   "id": "521b7426-e11c-4221-96c6-1155eb6fe78f",
   "metadata": {},
   "outputs": [],
   "source": [
    "content=file.read(5)\n",
    "print(content)"
   ]
  },
  {
   "cell_type": "code",
   "execution_count": null,
   "id": "a97b97ff-2f14-444f-b6ec-d09dd2235153",
   "metadata": {},
   "outputs": [],
   "source": [
    "file.tell()"
   ]
  },
  {
   "cell_type": "code",
   "execution_count": null,
   "id": "ff102d1e-5d27-4897-a65f-7ba858bc2d21",
   "metadata": {},
   "outputs": [],
   "source": [
    "content=file.read(5)\n",
    "print(content)"
   ]
  },
  {
   "cell_type": "code",
   "execution_count": null,
   "id": "252a6773-b286-43ba-b1ff-a92f9f211f99",
   "metadata": {},
   "outputs": [],
   "source": [
    "file.tell()"
   ]
  },
  {
   "cell_type": "code",
   "execution_count": null,
   "id": "4d57f3ec-151f-4ff9-b29c-b3ce031ae67b",
   "metadata": {},
   "outputs": [],
   "source": [
    "content=file.read(5)\n",
    "print(content)"
   ]
  },
  {
   "cell_type": "code",
   "execution_count": null,
   "id": "c2db57a2-0c85-464a-a2d5-2c282840fee7",
   "metadata": {},
   "outputs": [],
   "source": [
    "file.close()"
   ]
  },
  {
   "cell_type": "code",
   "execution_count": null,
   "id": "934f1dd4-f2dd-4262-a853-c9ccd2e0c77d",
   "metadata": {},
   "outputs": [],
   "source": [
    "file.closed"
   ]
  },
  {
   "cell_type": "code",
   "execution_count": null,
   "id": "9a99c945-98f8-4d57-beb6-0f493da5ee74",
   "metadata": {},
   "outputs": [],
   "source": [
    "file.read()"
   ]
  },
  {
   "cell_type": "code",
   "execution_count": null,
   "id": "777ecab6-b65a-4e58-b2f9-485f044ff582",
   "metadata": {},
   "outputs": [],
   "source": []
  },
  {
   "cell_type": "markdown",
   "id": "87907dee-77fe-4274-9936-abaf059e6714",
   "metadata": {
    "tags": []
   },
   "source": [
    "# Parsing CSV Files using csv module"
   ]
  },
  {
   "cell_type": "code",
   "execution_count": null,
   "id": "63c478a8-941c-48b3-bbcd-2c8f0d3eb35d",
   "metadata": {},
   "outputs": [],
   "source": [
    "! cat person.csv"
   ]
  },
  {
   "cell_type": "code",
   "execution_count": 44,
   "id": "96b0ec53-d116-4a43-874c-059f20772162",
   "metadata": {},
   "outputs": [],
   "source": [
    "import csv"
   ]
  },
  {
   "cell_type": "code",
   "execution_count": 45,
   "id": "65960971-7281-4f1e-8a3a-8d2b19c9efc5",
   "metadata": {},
   "outputs": [
    {
     "data": {
      "text/plain": [
       "['Dialect',\n",
       " 'DictReader',\n",
       " 'DictWriter',\n",
       " 'Error',\n",
       " 'QUOTE_ALL',\n",
       " 'QUOTE_MINIMAL',\n",
       " 'QUOTE_NONE',\n",
       " 'QUOTE_NONNUMERIC',\n",
       " 'Sniffer',\n",
       " 'StringIO',\n",
       " '_Dialect',\n",
       " '__all__',\n",
       " '__builtins__',\n",
       " '__cached__',\n",
       " '__doc__',\n",
       " '__file__',\n",
       " '__loader__',\n",
       " '__name__',\n",
       " '__package__',\n",
       " '__spec__',\n",
       " '__version__',\n",
       " 'excel',\n",
       " 'excel_tab',\n",
       " 'field_size_limit',\n",
       " 'get_dialect',\n",
       " 'list_dialects',\n",
       " 're',\n",
       " 'reader',\n",
       " 'register_dialect',\n",
       " 'unix_dialect',\n",
       " 'unregister_dialect',\n",
       " 'writer']"
      ]
     },
     "execution_count": 45,
     "metadata": {},
     "output_type": "execute_result"
    }
   ],
   "source": [
    "dir(csv)"
   ]
  },
  {
   "cell_type": "code",
   "execution_count": 46,
   "id": "ec5e190e-db99-4e2b-a525-29b8a39a8a01",
   "metadata": {},
   "outputs": [],
   "source": [
    "#Documentation : https://docs.python.org/3/library/csv.html"
   ]
  },
  {
   "cell_type": "markdown",
   "id": "3e9a8aa8-b263-4ee3-a9ab-0fbb0893936a",
   "metadata": {},
   "source": [
    "## Reading using csvreader"
   ]
  },
  {
   "cell_type": "code",
   "execution_count": 47,
   "id": "b1614c56-6a90-4aed-96e9-d675c346d3eb",
   "metadata": {},
   "outputs": [
    {
     "data": {
      "text/plain": [
       "['__call__',\n",
       " '__class__',\n",
       " '__delattr__',\n",
       " '__dir__',\n",
       " '__doc__',\n",
       " '__eq__',\n",
       " '__format__',\n",
       " '__ge__',\n",
       " '__getattribute__',\n",
       " '__gt__',\n",
       " '__hash__',\n",
       " '__init__',\n",
       " '__init_subclass__',\n",
       " '__le__',\n",
       " '__lt__',\n",
       " '__module__',\n",
       " '__name__',\n",
       " '__ne__',\n",
       " '__new__',\n",
       " '__qualname__',\n",
       " '__reduce__',\n",
       " '__reduce_ex__',\n",
       " '__repr__',\n",
       " '__self__',\n",
       " '__setattr__',\n",
       " '__sizeof__',\n",
       " '__str__',\n",
       " '__subclasshook__',\n",
       " '__text_signature__']"
      ]
     },
     "execution_count": 47,
     "metadata": {},
     "output_type": "execute_result"
    }
   ],
   "source": [
    "dir(csv.reader)"
   ]
  },
  {
   "cell_type": "code",
   "execution_count": 48,
   "id": "98291b7d-069f-4906-bdf2-595c867b70ed",
   "metadata": {},
   "outputs": [],
   "source": [
    "#help(csv.reader) #Note first argument can be any iterator of lines"
   ]
  },
  {
   "cell_type": "code",
   "execution_count": 49,
   "id": "583b40e3-5ab7-4f26-8e77-e2b59010d72b",
   "metadata": {},
   "outputs": [
    {
     "name": "stdout",
     "output_type": "stream",
     "text": [
      "['Name', ' Age', 'Country']\n",
      "['   Rohit Kumar    ', ' 12', 'India']\n",
      "['Rahul', ' 14', 'India']\n",
      "['Tom', ' 16', 'US']\n",
      "['Vikram', ' 20', 'India']\n",
      "[]\n",
      "[]\n"
     ]
    }
   ],
   "source": [
    "# Version1 : read all lines \n",
    "with open(\"person.csv\", \"r\") as file:\n",
    "    csvreader = csv.reader(file)\n",
    "    #csvreader is an iterator. Each row is list of fields\n",
    "    for row in csvreader:\n",
    "        print(row) #parsed row"
   ]
  },
  {
   "cell_type": "code",
   "execution_count": 50,
   "id": "e213a777-8e2b-436c-a6d8-d13bdea294c3",
   "metadata": {},
   "outputs": [
    {
     "name": "stdout",
     "output_type": "stream",
     "text": [
      "header_row= ['Name', ' Age', 'Country']\n",
      "['   Rohit Kumar    ', ' 12', 'India']\n",
      "['Rahul', ' 14', 'India']\n",
      "['Tom', ' 16', 'US']\n",
      "['Vikram', ' 20', 'India']\n",
      "[]\n",
      "[]\n"
     ]
    }
   ],
   "source": [
    "# Version2: read header row separately\n",
    "with open(\"person.csv\", \"r\") as file:\n",
    "    csvreader = csv.reader(file)\n",
    "    header_row = next(csvreader)\n",
    "    print(\"header_row=\", header_row)\n",
    "   \n",
    "    for data_row in csvreader:\n",
    "        print(data_row)"
   ]
  },
  {
   "cell_type": "code",
   "execution_count": 51,
   "id": "a518b117-d4ff-4ecf-ad4c-2efbdafec33e",
   "metadata": {},
   "outputs": [
    {
     "name": "stdout",
     "output_type": "stream",
     "text": [
      "[['Name', ' Age', 'Country'], ['   Rohit Kumar    ', ' 12', 'India'], ['Rahul', ' 14', 'India'], ['Tom', ' 16', 'US'], ['Vikram', ' 20', 'India'], [], []]\n"
     ]
    }
   ],
   "source": [
    "#Version3 : convert directly to list\n",
    "with open(\"person.csv\", \"r\") as file:\n",
    "    csvreader = csv.reader(file)\n",
    "    #convert to list of rows from iterator of rows\n",
    "    list_of_rows=list(csvreader)\n",
    "print(list_of_rows)"
   ]
  },
  {
   "cell_type": "code",
   "execution_count": 53,
   "id": "ad1acbcd-6e2e-4e23-b84a-089eb601be9a",
   "metadata": {},
   "outputs": [
    {
     "name": "stdout",
     "output_type": "stream",
     "text": [
      "header_row= ['Name', ' Age', 'Country']\n",
      "Data Rows= [['   Rohit Kumar    ', ' 12', 'India'], ['Rahul', ' 14', 'India'], ['Tom', ' 16', 'US'], ['Vikram', ' 20', 'India'], [], []]\n"
     ]
    }
   ],
   "source": [
    "#Version4: store header_row_separately\n",
    "with open(\"person.csv\", \"r\") as file:\n",
    "    csvreader = csv.reader(file)\n",
    "    header_row = next(csvreader)\n",
    "    print(\"header_row=\", header_row)\n",
    "    list_of_rows=list(csvreader)\n",
    "print(\"Data Rows=\", list_of_rows)"
   ]
  },
  {
   "cell_type": "markdown",
   "id": "557229b9-94c8-4ed6-9166-729b4b576407",
   "metadata": {},
   "source": [
    "## Reading using csvreader from iterator of lines (instead of file)"
   ]
  },
  {
   "cell_type": "code",
   "execution_count": 54,
   "id": "66925fde-4437-4f0f-9306-bc49274f2382",
   "metadata": {},
   "outputs": [
    {
     "name": "stdout",
     "output_type": "stream",
     "text": [
      "[['10', '20'], ['a', 'b', 'c'], ['1', '2', '3', '4', '', '6']]\n"
     ]
    }
   ],
   "source": [
    "our_sequence=[ \"10,20\", \"a,b,c\", \"1,2,3,4,,6\"  ] \n",
    "\n",
    "csvreader = csv.reader(our_sequence)\n",
    "print(list(csvreader))"
   ]
  },
  {
   "cell_type": "code",
   "execution_count": 55,
   "id": "e1fe3b75-8dce-4e11-967d-45041bdb980b",
   "metadata": {},
   "outputs": [
    {
     "name": "stdout",
     "output_type": "stream",
     "text": [
      "[['10,', '20'], ['a,', 'b,c'], ['1,2,', '3,4,,6']]\n"
     ]
    }
   ],
   "source": [
    "# using a different delimiter\n",
    "our_sequence=[ \"10, 20\", \"a, b,c\", \"1,2, 3,4,,6\"  ] \n",
    "\n",
    "csvreader = csv.reader(our_sequence, delimiter=' ')\n",
    "print(list(csvreader))"
   ]
  },
  {
   "cell_type": "markdown",
   "id": "b9ee7b29-4173-4220-9d5c-4913a3c6f00d",
   "metadata": {},
   "source": [
    "## Processing data in list of lists"
   ]
  },
  {
   "cell_type": "code",
   "execution_count": null,
   "id": "644c3670-a371-481b-a9af-2ad9bc8be0c9",
   "metadata": {},
   "outputs": [],
   "source": [
    "# Print all names\n",
    "for row in list_of_rows[1:]:\n",
    "    print(row[0])"
   ]
  },
  {
   "cell_type": "code",
   "execution_count": null,
   "id": "53b4b108-b3cf-41b3-b419-d9309430eeb0",
   "metadata": {},
   "outputs": [],
   "source": [
    "# Average age \n",
    "sum([ int(row[1]) for row in list_of_rows[1:] ]) / len(list_of_rows[1:])"
   ]
  },
  {
   "cell_type": "markdown",
   "id": "c8af2267-6eec-4184-803c-a179b737780b",
   "metadata": {},
   "source": [
    "## Reading used DictReader"
   ]
  },
  {
   "cell_type": "code",
   "execution_count": 56,
   "id": "0e419753-4b7f-41e5-bde7-feec2c1d7239",
   "metadata": {},
   "outputs": [
    {
     "data": {
      "text/plain": [
       "['__class__',\n",
       " '__delattr__',\n",
       " '__dict__',\n",
       " '__dir__',\n",
       " '__doc__',\n",
       " '__eq__',\n",
       " '__format__',\n",
       " '__ge__',\n",
       " '__getattribute__',\n",
       " '__gt__',\n",
       " '__hash__',\n",
       " '__init__',\n",
       " '__init_subclass__',\n",
       " '__iter__',\n",
       " '__le__',\n",
       " '__lt__',\n",
       " '__module__',\n",
       " '__ne__',\n",
       " '__new__',\n",
       " '__next__',\n",
       " '__reduce__',\n",
       " '__reduce_ex__',\n",
       " '__repr__',\n",
       " '__setattr__',\n",
       " '__sizeof__',\n",
       " '__str__',\n",
       " '__subclasshook__',\n",
       " '__weakref__',\n",
       " 'fieldnames']"
      ]
     },
     "execution_count": 56,
     "metadata": {},
     "output_type": "execute_result"
    }
   ],
   "source": [
    "dir(csv.DictReader)"
   ]
  },
  {
   "cell_type": "code",
   "execution_count": 58,
   "id": "ad0ded62-7717-41a0-9ec4-567bea11349e",
   "metadata": {},
   "outputs": [],
   "source": [
    "#help(csv.DictReader) # Notice you can provide fieldnames"
   ]
  },
  {
   "cell_type": "code",
   "execution_count": 59,
   "id": "fbebbabe-d228-4ed8-9a06-ae79565d44db",
   "metadata": {},
   "outputs": [
    {
     "name": "stdout",
     "output_type": "stream",
     "text": [
      "{'Name': '   Rohit Kumar    ', ' Age': ' 12', 'Country': 'India'}\n",
      "{'Name': 'Rahul', ' Age': ' 14', 'Country': 'India'}\n",
      "{'Name': 'Tom', ' Age': ' 16', 'Country': 'US'}\n",
      "{'Name': 'Vikram', ' Age': ' 20', 'Country': 'India'}\n"
     ]
    }
   ],
   "source": [
    "with open(\"person.csv\", \"r\") as file:\n",
    "    dictreader = csv.DictReader(file)\n",
    "\n",
    "    for row in dictreader:\n",
    "        print(row)"
   ]
  },
  {
   "cell_type": "code",
   "execution_count": 60,
   "id": "d772423b-7ee3-42f9-a396-511d565e8b48",
   "metadata": {},
   "outputs": [
    {
     "data": {
      "text/plain": [
       "['Name', ' Age', 'Country']"
      ]
     },
     "execution_count": 60,
     "metadata": {},
     "output_type": "execute_result"
    }
   ],
   "source": [
    "dictreader.fieldnames"
   ]
  },
  {
   "cell_type": "code",
   "execution_count": 61,
   "id": "189a45da-7b14-4ae0-9468-448474b36a03",
   "metadata": {},
   "outputs": [
    {
     "name": "stdout",
     "output_type": "stream",
     "text": [
      "{'NameCol': 'Name', 'AgeCol': ' Age', 'CountryCol': 'Country'}\n",
      "{'NameCol': '   Rohit Kumar    ', 'AgeCol': ' 12', 'CountryCol': 'India'}\n",
      "{'NameCol': 'Rahul', 'AgeCol': ' 14', 'CountryCol': 'India'}\n",
      "{'NameCol': 'Tom', 'AgeCol': ' 16', 'CountryCol': 'US'}\n",
      "{'NameCol': 'Vikram', 'AgeCol': ' 20', 'CountryCol': 'India'}\n"
     ]
    }
   ],
   "source": [
    "with open(\"person.csv\", \"r\") as file:\n",
    "    dictreader = csv.DictReader(file, fieldnames=[\"NameCol\", \"AgeCol\", \"CountryCol\"])\n",
    "\n",
    "    for row in dictreader:\n",
    "        print(row)"
   ]
  },
  {
   "cell_type": "code",
   "execution_count": 62,
   "id": "ac510f4e-c837-44bf-a881-ca34eb45d680",
   "metadata": {},
   "outputs": [
    {
     "name": "stdout",
     "output_type": "stream",
     "text": [
      "[{'name': 'Ram', 'age': ' 12', 'country': ' India'}, {'name': 'Shyam', 'age': ' 14', 'country': ' India'}]\n"
     ]
    }
   ],
   "source": [
    "# Reading from list of lines\n",
    "our_sequence=[ \"name,age,country\", \"Ram, 12, India\", \"Shyam, 14, India\"]\n",
    "\n",
    "csvreader = csv.DictReader(our_sequence)\n",
    "print(list(csvreader))"
   ]
  },
  {
   "cell_type": "code",
   "execution_count": 63,
   "id": "a75bc353-e6b5-4008-bf8f-0322b1242e44",
   "metadata": {},
   "outputs": [
    {
     "name": "stdout",
     "output_type": "stream",
     "text": [
      "[{'name': 'Ram', 'age': ' 12', 'country': ' India'}, {'name': 'Shyam', 'age': ' 14', 'country': ' India'}]\n"
     ]
    }
   ],
   "source": [
    "# different delimiter\n",
    "our_sequence=[ \"name:age:country\", \"Ram: 12: India\", \"Shyam: 14: India\"]\n",
    "\n",
    "csvreader = csv.DictReader(our_sequence, delimiter=':')\n",
    "print(list(csvreader))"
   ]
  },
  {
   "cell_type": "code",
   "execution_count": 64,
   "id": "ec829635-9b33-45b9-83b1-2dfea61ba4c3",
   "metadata": {},
   "outputs": [],
   "source": [
    "# More about dilects here: https://docs.python.org/3/library/csv.html#csv-fmt-params"
   ]
  },
  {
   "cell_type": "code",
   "execution_count": 65,
   "id": "4a7c1fb2-f04d-49f3-a6ad-432e75a04db4",
   "metadata": {},
   "outputs": [
    {
     "name": "stdout",
     "output_type": "stream",
     "text": [
      "[{'Name': '   Rohit Kumar    ', ' Age': ' 12', 'Country': 'India'}, {'Name': 'Rahul', ' Age': ' 14', 'Country': 'India'}, {'Name': 'Tom', ' Age': ' 16', 'Country': 'US'}, {'Name': 'Vikram', ' Age': ' 20', 'Country': 'India'}]\n"
     ]
    }
   ],
   "source": [
    "with open(\"person.csv\", \"r\") as file:\n",
    "    dictreader = csv.DictReader(file)\n",
    "\n",
    "    list_of_rows = list(dictreader)\n",
    "    print(list_of_rows)"
   ]
  },
  {
   "cell_type": "code",
   "execution_count": 66,
   "id": "8dcb1aaa-f02d-48a1-8360-7abc330ca1ad",
   "metadata": {},
   "outputs": [
    {
     "name": "stdout",
     "output_type": "stream",
     "text": [
      "[{'Name': 'Rohit Kumar', 'Age': '12', 'Country': 'India'}, {'Name': 'Rahul', 'Age': '14', 'Country': 'India'}, {'Name': 'Tom', 'Age': '16', 'Country': 'US'}, {'Name': 'Vikram', 'Age': '20', 'Country': 'India'}]\n"
     ]
    }
   ],
   "source": [
    "# Fixing spaces\n",
    "with open(\"person.csv\", \"r\") as file:\n",
    "    dictreader = csv.DictReader(file)\n",
    "\n",
    "    #list_of_rows = [ processed_rows for row in dictreader]\n",
    "    list_of_rows = [ {k.strip():v.strip() for k,v in row.items()} for row in dictreader]\n",
    "    print(list_of_rows)"
   ]
  },
  {
   "cell_type": "code",
   "execution_count": 67,
   "id": "7ec013f9-5425-47ed-a08a-130943a37025",
   "metadata": {},
   "outputs": [
    {
     "data": {
      "text/plain": [
       "15.5"
      ]
     },
     "execution_count": 67,
     "metadata": {},
     "output_type": "execute_result"
    }
   ],
   "source": [
    "# Average age\n",
    "sum([ int(row['Age']) for row in list_of_rows]) / len(list_of_rows)"
   ]
  },
  {
   "cell_type": "code",
   "execution_count": 68,
   "id": "f96cfa95-5828-40d8-8612-1eb5abcd2353",
   "metadata": {},
   "outputs": [
    {
     "ename": "ValueError",
     "evalue": "I/O operation on closed file.",
     "output_type": "error",
     "traceback": [
      "\u001b[0;31m---------------------------------------------------------------------------\u001b[0m",
      "\u001b[0;31mValueError\u001b[0m                                Traceback (most recent call last)",
      "Cell \u001b[0;32mIn[68], line 1\u001b[0m\n\u001b[0;32m----> 1\u001b[0m \u001b[38;5;28;01mfor\u001b[39;00m row \u001b[38;5;129;01min\u001b[39;00m dictreader:\n\u001b[1;32m      2\u001b[0m     \u001b[38;5;28mprint\u001b[39m(row)\n",
      "File \u001b[0;32m/usr/lib/python3.10/csv.py:111\u001b[0m, in \u001b[0;36mDictReader.__next__\u001b[0;34m(self)\u001b[0m\n\u001b[1;32m    108\u001b[0m \u001b[38;5;28;01mif\u001b[39;00m \u001b[38;5;28mself\u001b[39m\u001b[38;5;241m.\u001b[39mline_num \u001b[38;5;241m==\u001b[39m \u001b[38;5;241m0\u001b[39m:\n\u001b[1;32m    109\u001b[0m     \u001b[38;5;66;03m# Used only for its side effect.\u001b[39;00m\n\u001b[1;32m    110\u001b[0m     \u001b[38;5;28mself\u001b[39m\u001b[38;5;241m.\u001b[39mfieldnames\n\u001b[0;32m--> 111\u001b[0m row \u001b[38;5;241m=\u001b[39m \u001b[38;5;28;43mnext\u001b[39;49m\u001b[43m(\u001b[49m\u001b[38;5;28;43mself\u001b[39;49m\u001b[38;5;241;43m.\u001b[39;49m\u001b[43mreader\u001b[49m\u001b[43m)\u001b[49m\n\u001b[1;32m    112\u001b[0m \u001b[38;5;28mself\u001b[39m\u001b[38;5;241m.\u001b[39mline_num \u001b[38;5;241m=\u001b[39m \u001b[38;5;28mself\u001b[39m\u001b[38;5;241m.\u001b[39mreader\u001b[38;5;241m.\u001b[39mline_num\n\u001b[1;32m    114\u001b[0m \u001b[38;5;66;03m# unlike the basic reader, we prefer not to return blanks,\u001b[39;00m\n\u001b[1;32m    115\u001b[0m \u001b[38;5;66;03m# because we will typically wind up with a dict full of None\u001b[39;00m\n\u001b[1;32m    116\u001b[0m \u001b[38;5;66;03m# values\u001b[39;00m\n",
      "\u001b[0;31mValueError\u001b[0m: I/O operation on closed file."
     ]
    }
   ],
   "source": [
    "for row in dictreader:\n",
    "    print(row)"
   ]
  },
  {
   "cell_type": "markdown",
   "id": "a8fb6872-e481-440f-9161-9e1a8d18a9fa",
   "metadata": {},
   "source": [
    "## Writing CSV file using csv. writer"
   ]
  },
  {
   "cell_type": "code",
   "execution_count": null,
   "id": "647e947b-8c57-4e4d-b4e5-b431df097929",
   "metadata": {},
   "outputs": [],
   "source": []
  },
  {
   "cell_type": "code",
   "execution_count": null,
   "id": "d398f90d-e83b-4107-b10f-76a028eef3ab",
   "metadata": {},
   "outputs": [],
   "source": [
    "import csv"
   ]
  },
  {
   "cell_type": "code",
   "execution_count": null,
   "id": "0b2a5fd2-05ce-41d8-b21a-9be24b18e7bb",
   "metadata": {},
   "outputs": [],
   "source": [
    "! cat target.txt"
   ]
  },
  {
   "cell_type": "code",
   "execution_count": null,
   "id": "d27660e8-a3b5-4656-a193-c69343b0e738",
   "metadata": {},
   "outputs": [],
   "source": [
    "file = open(\"target.txt\", \"w\")"
   ]
  },
  {
   "cell_type": "code",
   "execution_count": null,
   "id": "200f531e-5024-404b-acf9-2faa25af7d85",
   "metadata": {},
   "outputs": [],
   "source": [
    "! cat target.txt"
   ]
  },
  {
   "cell_type": "code",
   "execution_count": null,
   "id": "a5334177-2f5b-4195-ae8a-3ad7ce8efb57",
   "metadata": {},
   "outputs": [],
   "source": [
    "csvwriter = csv.writer(file)"
   ]
  },
  {
   "cell_type": "code",
   "execution_count": null,
   "id": "2ee6c6de-5157-4237-8617-1134bdb713df",
   "metadata": {},
   "outputs": [],
   "source": [
    "help(csvwriter)"
   ]
  },
  {
   "cell_type": "code",
   "execution_count": null,
   "id": "cb88d70c-a0d3-4a12-a156-1ca819ef766a",
   "metadata": {},
   "outputs": [],
   "source": [
    "help(csv.writer)"
   ]
  },
  {
   "cell_type": "code",
   "execution_count": null,
   "id": "023474f6-23b6-42e8-8cb1-e02e9fd7e7dd",
   "metadata": {},
   "outputs": [],
   "source": [
    "help(csvwriter.writerow)"
   ]
  },
  {
   "cell_type": "code",
   "execution_count": null,
   "id": "be36f9aa-0223-4d87-a067-e743c2fb32ca",
   "metadata": {},
   "outputs": [],
   "source": [
    "with open(\"target.txt\", \"w\") as file:\n",
    "    csvwriter = csv.writer(file)\n",
    "    csvwriter.writerow(('Ram', '12', 'India'))\n",
    "    csvwriter.writerow(['Shyam', 14.6, 'India'])\n",
    "    csvwriter.writerow(range(5))\n",
    "    csvwriter.writerow(\"hello\")\n",
    "    csvwriter.writerow({\"a\":1, \"b\":2})\n",
    "    \n",
    "\n"
   ]
  },
  {
   "cell_type": "code",
   "execution_count": null,
   "id": "c5ff0421-cbd1-40c0-af39-c5a5788c873a",
   "metadata": {},
   "outputs": [],
   "source": [
    "! cat target.txt"
   ]
  },
  {
   "cell_type": "code",
   "execution_count": null,
   "id": "b270c361-aa2b-4c65-9254-1efeca7d6ab8",
   "metadata": {},
   "outputs": [],
   "source": [
    "file.close()"
   ]
  },
  {
   "cell_type": "code",
   "execution_count": null,
   "id": "0de1021e-f33e-436d-a010-0cf1efe35f45",
   "metadata": {},
   "outputs": [],
   "source": [
    "help(csvwriter.writerows)"
   ]
  },
  {
   "cell_type": "code",
   "execution_count": null,
   "id": "e96a8ae1-c83d-40c1-acda-3a9492401802",
   "metadata": {},
   "outputs": [],
   "source": [
    "! cat target.txt"
   ]
  },
  {
   "cell_type": "code",
   "execution_count": null,
   "id": "97910603-5f1c-49e0-bf32-b3bc23a43c95",
   "metadata": {
    "tags": []
   },
   "outputs": [],
   "source": [
    "# Writing a CSV file\n",
    "import csv\n",
    "header=['Name','Age','Country']\n",
    "rows=[('Shyam',12,'India'),\n",
    "      ['Mohan',14, 'India'],\n",
    "    ('Shyam',12,'India'),\n",
    "      {\"a\":\"b\", \"c\":\"d\"},     \n",
    "      ('Shyam',12,'India'),\n",
    "      ['Mohan','14', 'India'],   \n",
    "      ('Shyam',16,'India'),\n",
    "      ['Mohan',14, 'India'],\n",
    "      \"hello\"\n",
    "     ]\n",
    "       \n",
    "with open(\"xyz2.csv\",'w') as file:\n",
    "    csvwriter=csv.writer(file)\n",
    "    csvwriter.writerow(header)\n",
    "    csvwriter.writerows(rows)"
   ]
  },
  {
   "cell_type": "code",
   "execution_count": null,
   "id": "47678faa-8766-4022-9472-ce2f6782c0e6",
   "metadata": {},
   "outputs": [],
   "source": [
    "! cat xyz2.csv"
   ]
  },
  {
   "cell_type": "code",
   "execution_count": null,
   "id": "ee84ca6d-5f68-4567-bd42-744952ba2691",
   "metadata": {},
   "outputs": [],
   "source": [
    "# Writing a CSV file\n",
    "import csv\n",
    "header=['1Name','Age','Country']\n",
    "rows=[('1Shyam',12,'India'),\n",
    "      ['1Mohan',14, 'India'],\n",
    "    ('1Shyam',12,'India'),\n",
    "      ['1Mohan',14, 'India'],     \n",
    "      ('1Shyam',12,'India'),\n",
    "      ['Mohan','14', 'India'],   \n",
    "      ('Shyam',16,'India'),\n",
    "      ['Mohan',14, 'India'],\n",
    "      \"hello\"\n",
    "     ]\n",
    "       \n",
    "with open(\"xyz2.csv\",'a') as file:\n",
    "    csvwriter=csv.writer(file)\n",
    "    csvwriter.writerow(header)\n",
    "    csvwriter.writerows(rows)"
   ]
  },
  {
   "cell_type": "code",
   "execution_count": null,
   "id": "4e09c41f-03b2-4073-9686-289b23deae90",
   "metadata": {},
   "outputs": [],
   "source": [
    "! cat xyz2.csv"
   ]
  },
  {
   "cell_type": "markdown",
   "id": "b7d30505-50e5-4450-9d52-a276a4bb0ef6",
   "metadata": {},
   "source": [
    "## Writing CSV file using csv. DictWriter"
   ]
  },
  {
   "cell_type": "code",
   "execution_count": null,
   "id": "e1c30858-3130-46d8-9bc1-938d4cb670eb",
   "metadata": {},
   "outputs": [],
   "source": []
  },
  {
   "cell_type": "code",
   "execution_count": null,
   "id": "ab1d8a80-5654-4678-a3f6-c68c758cefe0",
   "metadata": {},
   "outputs": [],
   "source": [
    "import csv"
   ]
  },
  {
   "cell_type": "code",
   "execution_count": null,
   "id": "d13c9cc2-9bcf-41f7-8917-738f968ec2e2",
   "metadata": {},
   "outputs": [],
   "source": [
    "#help(csv)"
   ]
  },
  {
   "cell_type": "code",
   "execution_count": null,
   "id": "90da896e-285d-4dd5-b551-d19ef94e4875",
   "metadata": {},
   "outputs": [],
   "source": [
    "file = open(\"target.txt\", \"w\")"
   ]
  },
  {
   "cell_type": "code",
   "execution_count": null,
   "id": "3b80a79e-8595-4db5-b746-5d5fb379e36d",
   "metadata": {},
   "outputs": [],
   "source": [
    "#dir(csv)"
   ]
  },
  {
   "cell_type": "code",
   "execution_count": null,
   "id": "558d589e-fafc-4678-acca-6354640a017b",
   "metadata": {},
   "outputs": [],
   "source": [
    "#help(csv.DictWriter)"
   ]
  },
  {
   "cell_type": "code",
   "execution_count": null,
   "id": "9cd024a0-43ff-41fc-a9fa-113f75fee7bd",
   "metadata": {},
   "outputs": [],
   "source": [
    "csvwriter = csv.DictWriter(file, fieldnames=('Name', 'Age', 'Country'))"
   ]
  },
  {
   "cell_type": "code",
   "execution_count": null,
   "id": "c96e0c5f-9c01-4070-b0a4-927c6850b1ee",
   "metadata": {},
   "outputs": [],
   "source": [
    "csvwriter.fieldnames"
   ]
  },
  {
   "cell_type": "code",
   "execution_count": null,
   "id": "f70647fb-20e7-4251-ad6a-a7dc63a64ffc",
   "metadata": {},
   "outputs": [],
   "source": [
    "csvwriter.writeheader()\n"
   ]
  },
  {
   "cell_type": "code",
   "execution_count": null,
   "id": "18bd4d82-02ec-4b44-8ecf-b3d7708b2749",
   "metadata": {},
   "outputs": [],
   "source": [
    "csvwriter.writerow({\"Name\":\"Ram\", \"Age\":\"18\", \"Country\":\"India\"})"
   ]
  },
  {
   "cell_type": "code",
   "execution_count": null,
   "id": "ca6edf92-1162-478b-acbb-20a13180785f",
   "metadata": {},
   "outputs": [],
   "source": [
    "csvwriter.writerow({\"Age\":\"100\"})"
   ]
  },
  {
   "cell_type": "code",
   "execution_count": null,
   "id": "e1740ca8-7505-4fd4-a433-b21440b1243c",
   "metadata": {},
   "outputs": [],
   "source": [
    "file.close()"
   ]
  },
  {
   "cell_type": "code",
   "execution_count": null,
   "id": "783e8200-5e4a-4aa9-97bd-954e9c4ddf9c",
   "metadata": {},
   "outputs": [],
   "source": [
    "help(csvwriter)"
   ]
  },
  {
   "cell_type": "code",
   "execution_count": null,
   "id": "a1eeda72-abe9-4265-b32e-7fc0bc2c72c8",
   "metadata": {},
   "outputs": [],
   "source": [
    "! cat target.txt"
   ]
  },
  {
   "cell_type": "code",
   "execution_count": null,
   "id": "b34ab573-2a34-4631-a1f2-d6cff4009805",
   "metadata": {},
   "outputs": [],
   "source": [
    "help(csvwriter)"
   ]
  },
  {
   "cell_type": "code",
   "execution_count": null,
   "id": "2597ea58-a4cf-4ab4-812d-c5017f12cd37",
   "metadata": {},
   "outputs": [],
   "source": [
    "\n",
    "with open(\"target2.txt\" , \"a\") as file:\n",
    "    csvwriter = csv.DictWriter(file, fieldnames=('Name', 'Age', 'Country'))\n",
    "    csvwriter.writerows([{\"Name\":\"Tom3\", \"Age\":18, \"Country\":\"India\"},\n",
    "                     {\"Name\":\"Harry3\", \"Age\":13, \"Country\":\"India\"}])\n",
    "\n",
    "    csvwriter.writerows(({\"Name\":\"Tom31\", \"Age\":18, \"Country\":\"India\"},\n",
    "                     {\"Name\":\"Harry31\", \"Age\":13, \"Country\":\"India\"}))"
   ]
  },
  {
   "cell_type": "code",
   "execution_count": null,
   "id": "b785d224-bb53-4f66-ac33-984a76c0767c",
   "metadata": {},
   "outputs": [],
   "source": [
    "!cat target2.txt"
   ]
  },
  {
   "cell_type": "code",
   "execution_count": null,
   "id": "00b52911-aadc-427d-b507-a8d6973ab997",
   "metadata": {},
   "outputs": [],
   "source": [
    "#help(open)"
   ]
  },
  {
   "cell_type": "markdown",
   "id": "9970a2de-2611-443c-b785-3cd378390e74",
   "metadata": {
    "tags": []
   },
   "source": [
    "# JSON files"
   ]
  },
  {
   "cell_type": "code",
   "execution_count": null,
   "id": "721cb8be-dbc1-417f-9976-ffb595ae6e7d",
   "metadata": {},
   "outputs": [],
   "source": [
    "# concept of serialize, deserialize\n",
    "\n",
    "\n",
    "Python object -> JSON Document : Serialize : dumps\n",
    "\n",
    "\n",
    "JSON Document -> Python object : Desertialize : loads"
   ]
  },
  {
   "cell_type": "code",
   "execution_count": null,
   "id": "db76a9a2-892f-4494-b194-ba4e58a96408",
   "metadata": {},
   "outputs": [],
   "source": [
    "# JSON vs CSV"
   ]
  },
  {
   "cell_type": "code",
   "execution_count": null,
   "id": "cd131737-1b4c-416e-84b0-03fb7e60e6c2",
   "metadata": {},
   "outputs": [],
   "source": [
    "#Documentation: \n",
    "# https://docs.python.org/3/library/json.html#module-json\n",
    "\n",
    "# https://docs.python.org/3/library/json.html#module-json"
   ]
  },
  {
   "cell_type": "raw",
   "id": "08a46773-1728-49a6-90d4-a6e76319dab4",
   "metadata": {},
   "source": [
    "deserialize:json.load : load JSON data from a file into python dictionary (Decoding)\n",
    "serialize:json.dump : store this dictionary in JSON format in the file \n",
    "\n",
    "deserialize:json.loads : load JSON data from a string into python dictionary(Decoding)\n",
    "serialize:json.dumps : store this dictionary in JSON format in a string(Encoding)\n"
   ]
  },
  {
   "cell_type": "code",
   "execution_count": null,
   "id": "ff07e5d3-0e22-4de8-bb6e-596ac270a3c0",
   "metadata": {},
   "outputs": [],
   "source": []
  },
  {
   "cell_type": "code",
   "execution_count": 70,
   "id": "2557adc9-2362-4698-a00a-223592a75416",
   "metadata": {},
   "outputs": [],
   "source": [
    "import json"
   ]
  },
  {
   "cell_type": "code",
   "execution_count": 71,
   "id": "55cd98e7-32b1-4f97-a58b-1bd0ab3889ab",
   "metadata": {},
   "outputs": [
    {
     "data": {
      "text/plain": [
       "['JSONDecodeError',\n",
       " 'JSONDecoder',\n",
       " 'JSONEncoder',\n",
       " '__all__',\n",
       " '__author__',\n",
       " '__builtins__',\n",
       " '__cached__',\n",
       " '__doc__',\n",
       " '__file__',\n",
       " '__loader__',\n",
       " '__name__',\n",
       " '__package__',\n",
       " '__path__',\n",
       " '__spec__',\n",
       " '__version__',\n",
       " '_default_decoder',\n",
       " '_default_encoder',\n",
       " 'codecs',\n",
       " 'decoder',\n",
       " 'detect_encoding',\n",
       " 'dump',\n",
       " 'dumps',\n",
       " 'encoder',\n",
       " 'load',\n",
       " 'loads',\n",
       " 'scanner']"
      ]
     },
     "execution_count": 71,
     "metadata": {},
     "output_type": "execute_result"
    }
   ],
   "source": [
    "dir(json)"
   ]
  },
  {
   "cell_type": "markdown",
   "id": "33abdb09-4b35-456e-9f03-3e1caf9ad976",
   "metadata": {},
   "source": [
    "## json.loads"
   ]
  },
  {
   "cell_type": "code",
   "execution_count": 72,
   "id": "98b407a5-2367-4ec0-97b8-3030f10c0de5",
   "metadata": {},
   "outputs": [
    {
     "name": "stdout",
     "output_type": "stream",
     "text": [
      "Help on function loads in module json:\n",
      "\n",
      "loads(s, *, cls=None, object_hook=None, parse_float=None, parse_int=None, parse_constant=None, object_pairs_hook=None, **kw)\n",
      "    Deserialize ``s`` (a ``str``, ``bytes`` or ``bytearray`` instance\n",
      "    containing a JSON document) to a Python object.\n",
      "    \n",
      "    ``object_hook`` is an optional function that will be called with the\n",
      "    result of any object literal decode (a ``dict``). The return value of\n",
      "    ``object_hook`` will be used instead of the ``dict``. This feature\n",
      "    can be used to implement custom decoders (e.g. JSON-RPC class hinting).\n",
      "    \n",
      "    ``object_pairs_hook`` is an optional function that will be called with the\n",
      "    result of any object literal decoded with an ordered list of pairs.  The\n",
      "    return value of ``object_pairs_hook`` will be used instead of the ``dict``.\n",
      "    This feature can be used to implement custom decoders.  If ``object_hook``\n",
      "    is also defined, the ``object_pairs_hook`` takes priority.\n",
      "    \n",
      "    ``parse_float``, if specified, will be called with the string\n",
      "    of every JSON float to be decoded. By default this is equivalent to\n",
      "    float(num_str). This can be used to use another datatype or parser\n",
      "    for JSON floats (e.g. decimal.Decimal).\n",
      "    \n",
      "    ``parse_int``, if specified, will be called with the string\n",
      "    of every JSON int to be decoded. By default this is equivalent to\n",
      "    int(num_str). This can be used to use another datatype or parser\n",
      "    for JSON integers (e.g. float).\n",
      "    \n",
      "    ``parse_constant``, if specified, will be called with one of the\n",
      "    following strings: -Infinity, Infinity, NaN.\n",
      "    This can be used to raise an exception if invalid JSON numbers\n",
      "    are encountered.\n",
      "    \n",
      "    To use a custom ``JSONDecoder`` subclass, specify it with the ``cls``\n",
      "    kwarg; otherwise ``JSONDecoder`` is used.\n",
      "\n"
     ]
    }
   ],
   "source": [
    "help(json.loads)"
   ]
  },
  {
   "cell_type": "code",
   "execution_count": 86,
   "id": "37d58e16-ca23-4bfa-9d16-ecb423135b34",
   "metadata": {},
   "outputs": [
    {
     "name": "stdout",
     "output_type": "stream",
     "text": [
      "[{'Name': ['Ram', 10, 20], 'Age': 12, 'Country': 'India'}, {'Name': ['Ram', 10, 20], 'Age': 12, 'Country': 'India'}]\n",
      "<class 'list'>\n"
     ]
    }
   ],
   "source": [
    "# JSON Object\n",
    "json_str = '''\n",
    "[\n",
    "{\n",
    "\"Name\":[\"Ram\",10,20],\n",
    "\"Age\":12,\n",
    "\"Country\":\"India\"\n",
    "},\n",
    "{\n",
    "\"Name\":[\"Ram\",10,20],\n",
    "\"Age\":12,\n",
    "\"Country\":\"India\"\n",
    "}\n",
    "\n",
    "]\n",
    "'''\n",
    "\n",
    "xyz = json.load(json_str) # Convert JSON string into dictionary\n",
    "\n",
    "print(xyz)\n",
    "print(type(xyz))"
   ]
  },
  {
   "cell_type": "code",
   "execution_count": 87,
   "id": "e8060a39-85af-4600-888c-f244f75e088a",
   "metadata": {},
   "outputs": [
    {
     "name": "stdout",
     "output_type": "stream",
     "text": [
      "{'Name': 'Ram', 'MarksList': [12, 14, 16], 'Country': 'India'}\n",
      "<class 'dict'>\n"
     ]
    }
   ],
   "source": [
    "# JSON Object\n",
    "json_str = '''{\"Name\":\"Ram\",\n",
    "\"MarksList\":[12,14,16],\n",
    "\"Country\":\"India\"}'''\n",
    "\n",
    "xyz = json.loads(json_str) # Convert JSON string into dictionary\n",
    "\n",
    "print(xyz)\n",
    "print(type(xyz))"
   ]
  },
  {
   "cell_type": "code",
   "execution_count": 75,
   "id": "0fef63b0-caee-48d4-815b-135a1f061196",
   "metadata": {},
   "outputs": [
    {
     "name": "stdout",
     "output_type": "stream",
     "text": [
      "[{'Name': 'Ram', 'Age': 12, 'Country': 'India'}, {'Name': 'Mohan', 'Age': 14, 'Country': 'India'}]\n",
      "14\n"
     ]
    }
   ],
   "source": [
    "# List of objects\n",
    "json_str = '''\n",
    "[\n",
    "{\"Name\":\"Ram\",\"Age\":12,\"Country\":\"India\"},\n",
    "{\"Name\":\"Mohan\",\"Age\":14,\"Country\":\"India\"\n",
    "}\n",
    "]'''\n",
    "\n",
    "xyz = json.loads(json_str) # Convert JSON string into dictionary\n",
    "\n",
    "print(xyz)\n",
    "print(xyz[1][\"Age\"])"
   ]
  },
  {
   "cell_type": "code",
   "execution_count": 76,
   "id": "b4d041d4-753e-4514-8f60-122e8e516365",
   "metadata": {},
   "outputs": [
    {
     "name": "stdout",
     "output_type": "stream",
     "text": [
      "['10', 20.5, True, None]\n"
     ]
    }
   ],
   "source": [
    "# List of constants\n",
    "json_str = '''[\"10\",20.5,true, null]'''\n",
    "\n",
    "xyz = json.loads(json_str) # Convert JSON string into dictionary\n",
    "\n",
    "print(xyz)"
   ]
  },
  {
   "cell_type": "code",
   "execution_count": 88,
   "id": "6d1e4971-6fd5-4c1d-a0f3-b03edeb0dd7b",
   "metadata": {},
   "outputs": [
    {
     "name": "stdout",
     "output_type": "stream",
     "text": [
      "{'config': {'numThreads': 4, 'standaloneMode': True, 'threadIDs': [5, 6, 7, 8], 'configThreads': [{'maxRAM': 10, 'maxCPUTime': 20}, {'maxRAM': 11, 'maxCPUTime': 21}, {'maxRAM': 12, 'maxCPUTime': 22}, {'maxRAM|': 13, 'maxCPUTime': 23}]}}\n"
     ]
    }
   ],
   "source": [
    "json_str='''\n",
    "{\n",
    "\"config\" : {\n",
    "\n",
    "    \"numThreads\": 4,\n",
    "    \"standaloneMode\" : true,\n",
    "    \"threadIDs\" : [5,6,7,8],\n",
    "    \"configThreads\" : [\n",
    "        {\n",
    "          \"maxRAM\": 10,\n",
    "          \"maxCPUTime\": 20\n",
    "        },\n",
    "        {\n",
    "          \"maxRAM\": 11,\n",
    "          \"maxCPUTime\": 21\n",
    "        },\n",
    "        {\n",
    "          \"maxRAM\": 12,\n",
    "          \"maxCPUTime\": 22\n",
    "        },\n",
    "        {\n",
    "          \"maxRAM|\": 13,\n",
    "          \"maxCPUTime\": 23\n",
    "        }\n",
    "    ]\n",
    "}\n",
    "}\n",
    "'''\n",
    "xyz = json.loads(json_str) # Convert JSON string into dictionary\n",
    "\n",
    "print(xyz)\n",
    "#print(xyz['config'])\n",
    "#print(xyz['config'][\"configThreads\"][3])"
   ]
  },
  {
   "cell_type": "code",
   "execution_count": 78,
   "id": "93a3b6cb-3d59-45a7-8ba0-0ca838379abd",
   "metadata": {},
   "outputs": [
    {
     "name": "stdout",
     "output_type": "stream",
     "text": [
      "{'maxRAM': 12, 'maxCPUTime': 22}\n"
     ]
    }
   ],
   "source": [
    "print(xyz[\"config\"]['configThreads'][2])"
   ]
  },
  {
   "cell_type": "code",
   "execution_count": 79,
   "id": "b433d13c-1973-4671-ba8c-cf7f2c597267",
   "metadata": {},
   "outputs": [
    {
     "name": "stdout",
     "output_type": "stream",
     "text": [
      "<class 'dict'>\n",
      "{'Name': 'Ram', 'Age': 12, 'Country': 'India', 'Marks': [10, 20, 30]}\n",
      "10\n"
     ]
    }
   ],
   "source": [
    "json_str = '''{\"Name\":\"Ram\",\n",
    "         \"Age\":12,\n",
    "     \"Country\":\"India\", \n",
    "      \"Marks\" : [10,20,30]}'''\n",
    "d1 = json.loads(json_str) # Convert JSON string into dictionary\n",
    "print(type(d1))\n",
    "print(d1)\n",
    "print(d1[\"Marks\"][0])"
   ]
  },
  {
   "cell_type": "code",
   "execution_count": 80,
   "id": "14471625-5d4a-4081-bf85-d94a7a96cf19",
   "metadata": {},
   "outputs": [
    {
     "name": "stdout",
     "output_type": "stream",
     "text": [
      "{'Name': 'Ram', 'Age': 12, 'Country': 'India', 'Marks': [10, 20, 30, 40]}\n"
     ]
    }
   ],
   "source": [
    "d1[\"Marks\"].append(40)\n",
    "print(d1)"
   ]
  },
  {
   "cell_type": "code",
   "execution_count": 89,
   "id": "50abfeec-0516-42e9-9634-020db545c026",
   "metadata": {},
   "outputs": [
    {
     "name": "stdout",
     "output_type": "stream",
     "text": [
      "{'Name': 'Ram', 'Age': 12, 'Country': 'India', 'Marks': [10, 20, 30], 'Addresses': [{'street_addr': 'Happy Home', 'city': 'Happy city', 'state': 'Delhi', 'country': 'India'}, {'street_addr': 'Happy Home2', 'city': 'Happy city2', 'state': 'Delhi', 'country': 'India'}]}\n",
      "10\n",
      "[{'street_addr': 'Happy Home', 'city': 'Happy city', 'state': 'Delhi', 'country': 'India'}, {'street_addr': 'Happy Home2', 'city': 'Happy city2', 'state': 'Delhi', 'country': 'India'}]\n"
     ]
    }
   ],
   "source": [
    "json_str = '''{\"Name\":\"Ram\",\"Age\":12,\"Country\":\"India\", \"Marks\" : [10,20,30],\n",
    "        \"Addresses\" :\n",
    "             [{\"street_addr\" : \"Happy Home\",\n",
    "              \"city\" : \"Happy city\",\n",
    "              \"state\" : \"Delhi\",\n",
    "              \"country\" : \"India\"}, \n",
    "              {\"street_addr\" : \"Happy Home2\",\n",
    "              \"city\" : \"Happy city2\",\n",
    "              \"state\" : \"Delhi\",\n",
    "              \"country\" : \"India\"}\n",
    "              \n",
    "              ]\n",
    "        \n",
    "        }'''\n",
    "d1 = json.loads(json_str) # Convert JSON string into dictionary\n",
    "\n",
    "print(d1)\n",
    "print(d1[\"Marks\"][0])\n",
    "print(d1[\"Addresses\"])"
   ]
  },
  {
   "cell_type": "code",
   "execution_count": 82,
   "id": "b56fe667-1adf-46c5-bd87-e5496f4fe9e9",
   "metadata": {},
   "outputs": [
    {
     "data": {
      "text/plain": [
       "[{'street_addr': 'Happy Home',\n",
       "  'city': 'Happy city',\n",
       "  'state': 'Delhi',\n",
       "  'country': 'India'},\n",
       " {'street_addr': 'Happy Home2',\n",
       "  'city': 'Happy city2',\n",
       "  'state': 'Delhi',\n",
       "  'country': 'India'}]"
      ]
     },
     "execution_count": 82,
     "metadata": {},
     "output_type": "execute_result"
    }
   ],
   "source": [
    "d1[\"Addresses\"]"
   ]
  },
  {
   "cell_type": "code",
   "execution_count": 83,
   "id": "81328b3e-8648-4d3f-a714-a12f0c8bc8a7",
   "metadata": {},
   "outputs": [
    {
     "data": {
      "text/plain": [
       "{'street_addr': 'Happy Home2',\n",
       " 'city': 'Happy city2',\n",
       " 'state': 'Delhi',\n",
       " 'country': 'India'}"
      ]
     },
     "execution_count": 83,
     "metadata": {},
     "output_type": "execute_result"
    }
   ],
   "source": [
    "d1[\"Addresses\"][1]"
   ]
  },
  {
   "cell_type": "code",
   "execution_count": 84,
   "id": "de3cbe10-b5ee-4ee2-89ef-5ffd86c7bc32",
   "metadata": {},
   "outputs": [
    {
     "data": {
      "text/plain": [
       "'Happy city2'"
      ]
     },
     "execution_count": 84,
     "metadata": {},
     "output_type": "execute_result"
    }
   ],
   "source": [
    "d1[\"Addresses\"][1][\"city\"]"
   ]
  },
  {
   "cell_type": "code",
   "execution_count": 85,
   "id": "22175495-bb01-4990-b8ca-710ae8bf5b63",
   "metadata": {},
   "outputs": [
    {
     "ename": "KeyError",
     "evalue": "'Address'",
     "output_type": "error",
     "traceback": [
      "\u001b[0;31m---------------------------------------------------------------------------\u001b[0m",
      "\u001b[0;31mKeyError\u001b[0m                                  Traceback (most recent call last)",
      "Cell \u001b[0;32mIn[85], line 1\u001b[0m\n\u001b[0;32m----> 1\u001b[0m \u001b[43md1\u001b[49m\u001b[43m[\u001b[49m\u001b[38;5;124;43m\"\u001b[39;49m\u001b[38;5;124;43mAddress\u001b[39;49m\u001b[38;5;124;43m\"\u001b[39;49m\u001b[43m]\u001b[49m\n",
      "\u001b[0;31mKeyError\u001b[0m: 'Address'"
     ]
    }
   ],
   "source": [
    "d1[\"Address\"]"
   ]
  },
  {
   "cell_type": "markdown",
   "id": "02af64d8-e965-485e-821e-060cff14df08",
   "metadata": {},
   "source": [
    "## json.dumps"
   ]
  },
  {
   "cell_type": "code",
   "execution_count": 90,
   "id": "4fc2cab2-1506-4691-8522-acc3a7773684",
   "metadata": {},
   "outputs": [
    {
     "name": "stdout",
     "output_type": "stream",
     "text": [
      "<class 'str'>\n"
     ]
    },
    {
     "data": {
      "text/plain": [
       "'{\"Name\": \"Ram\", \"flag\": true, \"Attr1\": null, \"Country\": \"India\", \"Marks\": [10, 20, 30], \"Address\": {\"street_addr\": \"Happy Home\", \"city\": \"Happy city\", \"state\": \"Delhi\", \"country\": \"India\"}}'"
      ]
     },
     "execution_count": 90,
     "metadata": {},
     "output_type": "execute_result"
    }
   ],
   "source": [
    "d1={'Name': 'Ram', \"flag\":True, 'Attr1': None, 'Country': 'India', 'Marks': [10, 20, 30], \n",
    "    'Address': {'street_addr': 'Happy Home', 'city': 'Happy city', \n",
    "                'state': 'Delhi', 'country': 'India'}}\n",
    "json_str=json.dumps(d1)\n",
    "print(type(json_str))\n",
    "json_str"
   ]
  },
  {
   "cell_type": "code",
   "execution_count": null,
   "id": "21ff12a4-2a77-434e-a493-f521249de20d",
   "metadata": {},
   "outputs": [],
   "source": [
    "d1={'Name': 'Ram',  'Age': 12,  'Country': 'India', 'Marks': [10, 20, 30], \n",
    "    'Address': {'street_addr': 'Happy Home', 'city': 'Happy city', \n",
    "                'state': 'Delhi', 'country': 'India'}}\n",
    "json_str=json.dumps(d1, indent=True)\n",
    "print(json_str)"
   ]
  },
  {
   "cell_type": "code",
   "execution_count": null,
   "id": "cd99efd1-dbd1-42a7-9ca4-bcd1243bd559",
   "metadata": {},
   "outputs": [],
   "source": [
    "list_of_persons = [d1,d1,d1]\n",
    "d1={'Name': 'Ram',  'Age': 12,  'Country': 'India', 'Marks': [10, 20, 30], \n",
    "    'Address': {'street_addr': 'Happy Home', 'city': 'Happy city', \n",
    "                'state': 'Delhi', 'country': 'India'}}\n",
    "json_str=json.dumps(list_of_persons, indent=True)\n",
    "print(json_str)"
   ]
  },
  {
   "cell_type": "markdown",
   "id": "d4086692-b861-4e09-b84c-7715aa4e33c1",
   "metadata": {},
   "source": [
    "## json.dump"
   ]
  },
  {
   "cell_type": "code",
   "execution_count": null,
   "id": "1fd4e17b-e29a-482d-ba30-69974c39e5d1",
   "metadata": {},
   "outputs": [],
   "source": [
    "# dump : dump into file"
   ]
  },
  {
   "cell_type": "code",
   "execution_count": 91,
   "id": "2f7e5fc3-bc9f-46a5-86e1-14a1354879ae",
   "metadata": {},
   "outputs": [],
   "source": [
    "with open(\"d1.txt\", \"w\") as file:\n",
    "    d1={'Name': 'Ram', 'Age': 12, \n",
    "        'Country': 'India', 'Marks': [10, 20, 30], \n",
    "        'Address': {'street_addr': 'Happy Home', \n",
    "                    'city': 'Happy city', 'state': 'Delhi', 'country': 'India'}}\n",
    "    json.dump(d1, file)\n"
   ]
  },
  {
   "cell_type": "code",
   "execution_count": 92,
   "id": "5d1711b1-90b0-4a62-a600-4ae11d87b91c",
   "metadata": {},
   "outputs": [
    {
     "name": "stdout",
     "output_type": "stream",
     "text": [
      "{\"Name\": \"Ram\", \"Age\": 12, \"Country\": \"India\", \"Marks\": [10, 20, 30], \"Address\": {\"street_addr\": \"Happy Home\", \"city\": \"Happy city\", \"state\": \"Delhi\", \"country\": \"India\"}}"
     ]
    }
   ],
   "source": [
    "! cat d1.txt"
   ]
  },
  {
   "cell_type": "code",
   "execution_count": null,
   "id": "cb25f892-191b-49f8-9600-0655123c1adb",
   "metadata": {},
   "outputs": [],
   "source": [
    "with open(\"d1_indented.txt\", \"w\") as file:\n",
    "    d1={'Name': 'Ram', 'Age': 12, 'Country': 'India', 'Marks': [10, 20, 30], 'Address': {'street_addr': 'Happy Home', 'city': 'Happy city', 'state': 'Delhi', 'country': 'India'}}\n",
    "    json.dump(d1, file, indent=True)\n",
    "    \n"
   ]
  },
  {
   "cell_type": "code",
   "execution_count": null,
   "id": "fb95256d-5525-4179-b400-887522f29538",
   "metadata": {},
   "outputs": [],
   "source": [
    "! cat d1_indented.txt"
   ]
  },
  {
   "cell_type": "markdown",
   "id": "7cf007fc-4e96-4aab-abc3-26a3e051e572",
   "metadata": {},
   "source": [
    "## json.load"
   ]
  },
  {
   "cell_type": "code",
   "execution_count": null,
   "id": "99f9db8d-8fee-4ba3-bfa0-529e1bee573a",
   "metadata": {},
   "outputs": [],
   "source": [
    "# load from file"
   ]
  },
  {
   "cell_type": "code",
   "execution_count": null,
   "id": "f282f65a-fde4-47a0-8f7a-c868bc159717",
   "metadata": {},
   "outputs": [],
   "source": [
    "with open(\"d1.txt\", \"r\") as file:\n",
    "    d1=json.load(file)\n",
    "    print(d1)\n"
   ]
  },
  {
   "cell_type": "code",
   "execution_count": null,
   "id": "d4564f47-907c-4f25-b044-f7ded3b80a09",
   "metadata": {},
   "outputs": [],
   "source": [
    "d1[\"Address\"]"
   ]
  },
  {
   "cell_type": "code",
   "execution_count": null,
   "id": "a21ef40c-cfbf-453c-894c-941b3a108405",
   "metadata": {},
   "outputs": [],
   "source": [
    "help(json.load)"
   ]
  },
  {
   "cell_type": "code",
   "execution_count": null,
   "id": "ac0b05e0-c63a-4f61-886b-5fc4f97f9e04",
   "metadata": {},
   "outputs": [],
   "source": [
    "with open(\"d1_indented.txt\", \"r\") as file:\n",
    "    d1=json.load(file)\n",
    "    print(d1)\n"
   ]
  },
  {
   "cell_type": "code",
   "execution_count": null,
   "id": "e719b9c1-0ad8-47e4-9956-592a29dd347a",
   "metadata": {},
   "outputs": [],
   "source": [
    "#help(json.load)"
   ]
  },
  {
   "cell_type": "code",
   "execution_count": null,
   "id": "c1c18e98-f1fe-432b-aee9-fbdc61f964d4",
   "metadata": {},
   "outputs": [],
   "source": []
  },
  {
   "cell_type": "markdown",
   "id": "4739ddc7-6559-43d3-be48-6c2d658bf095",
   "metadata": {},
   "source": [
    "# Excel Sheets"
   ]
  },
  {
   "cell_type": "code",
   "execution_count": null,
   "id": "34b361ff-3c66-4831-b42d-1cb5aee7b2d6",
   "metadata": {},
   "outputs": [],
   "source": [
    "! pip install openpyxl\n"
   ]
  },
  {
   "cell_type": "code",
   "execution_count": 93,
   "id": "0485a6e8-c20f-47d5-bec5-eaed98daac83",
   "metadata": {},
   "outputs": [
    {
     "ename": "ModuleNotFoundError",
     "evalue": "No module named 'openpyxl'",
     "output_type": "error",
     "traceback": [
      "\u001b[0;31m---------------------------------------------------------------------------\u001b[0m",
      "\u001b[0;31mModuleNotFoundError\u001b[0m                       Traceback (most recent call last)",
      "Cell \u001b[0;32mIn[93], line 1\u001b[0m\n\u001b[0;32m----> 1\u001b[0m \u001b[38;5;28;01mimport\u001b[39;00m \u001b[38;5;21;01mopenpyxl\u001b[39;00m\n",
      "\u001b[0;31mModuleNotFoundError\u001b[0m: No module named 'openpyxl'"
     ]
    }
   ],
   "source": [
    "import openpyxl"
   ]
  },
  {
   "cell_type": "code",
   "execution_count": 94,
   "id": "1ba5f284-5215-412b-b7fd-1d4bc3d67808",
   "metadata": {},
   "outputs": [
    {
     "ename": "NameError",
     "evalue": "name 'openpyxl' is not defined",
     "output_type": "error",
     "traceback": [
      "\u001b[0;31m---------------------------------------------------------------------------\u001b[0m",
      "\u001b[0;31mNameError\u001b[0m                                 Traceback (most recent call last)",
      "Cell \u001b[0;32mIn[94], line 3\u001b[0m\n\u001b[1;32m      1\u001b[0m filename\u001b[38;5;241m=\u001b[39m\u001b[38;5;124m\"\u001b[39m\u001b[38;5;124msample.xlsx\u001b[39m\u001b[38;5;124m\"\u001b[39m\n\u001b[0;32m----> 3\u001b[0m workbook \u001b[38;5;241m=\u001b[39m \u001b[43mopenpyxl\u001b[49m\u001b[38;5;241m.\u001b[39mload_workbook(filename)\n",
      "\u001b[0;31mNameError\u001b[0m: name 'openpyxl' is not defined"
     ]
    }
   ],
   "source": [
    "filename=\"sample.xlsx\"\n",
    "\n",
    "workbook = openpyxl.load_workbook(filename)"
   ]
  },
  {
   "cell_type": "code",
   "execution_count": 95,
   "id": "1e46a45a-c577-46dc-85f3-a6a777e60d2d",
   "metadata": {},
   "outputs": [
    {
     "ename": "NameError",
     "evalue": "name 'workbook' is not defined",
     "output_type": "error",
     "traceback": [
      "\u001b[0;31m---------------------------------------------------------------------------\u001b[0m",
      "\u001b[0;31mNameError\u001b[0m                                 Traceback (most recent call last)",
      "Cell \u001b[0;32mIn[95], line 1\u001b[0m\n\u001b[0;32m----> 1\u001b[0m \u001b[38;5;28mtype\u001b[39m(\u001b[43mworkbook\u001b[49m)\n",
      "\u001b[0;31mNameError\u001b[0m: name 'workbook' is not defined"
     ]
    }
   ],
   "source": [
    "type(workbook)"
   ]
  },
  {
   "cell_type": "code",
   "execution_count": null,
   "id": "4c94f13e-08fb-4d11-9112-395a0bb30fd1",
   "metadata": {},
   "outputs": [],
   "source": [
    "dir(workbook)"
   ]
  },
  {
   "cell_type": "code",
   "execution_count": null,
   "id": "1cc80db3-4cb4-40cf-a842-dd20418e52a2",
   "metadata": {},
   "outputs": [],
   "source": [
    "help(workbook.save)"
   ]
  },
  {
   "cell_type": "code",
   "execution_count": null,
   "id": "4ff9777f-914a-49ef-9296-4ba55f0d2586",
   "metadata": {},
   "outputs": [],
   "source": [
    "sheet = workbook.active"
   ]
  },
  {
   "cell_type": "code",
   "execution_count": null,
   "id": "843a8b3b-cbec-434f-9875-7013f4f727cb",
   "metadata": {},
   "outputs": [],
   "source": [
    "type(sheet)"
   ]
  },
  {
   "cell_type": "code",
   "execution_count": null,
   "id": "4aea0ca7-b832-4913-99e1-d015a0eb6c59",
   "metadata": {},
   "outputs": [],
   "source": [
    "name1 = sheet.cell(row = 2, column = 1)"
   ]
  },
  {
   "cell_type": "code",
   "execution_count": null,
   "id": "c441e305-8409-44ad-b6b4-c523b1cd7beb",
   "metadata": {},
   "outputs": [],
   "source": [
    "type(name1)"
   ]
  },
  {
   "cell_type": "code",
   "execution_count": null,
   "id": "dbc0cca2-b0d6-49bf-92cb-bff17fb3bcff",
   "metadata": {},
   "outputs": [],
   "source": [
    "print(name1)"
   ]
  },
  {
   "cell_type": "code",
   "execution_count": null,
   "id": "b85b7a72-8875-4e91-9ff9-5d5a4e066599",
   "metadata": {},
   "outputs": [],
   "source": [
    "print(name1.value)"
   ]
  },
  {
   "cell_type": "code",
   "execution_count": null,
   "id": "05e0198e-6020-4f0d-ae32-5381a707da66",
   "metadata": {},
   "outputs": [],
   "source": []
  }
 ],
 "metadata": {
  "kernelspec": {
   "display_name": "Python 3 (ipykernel)",
   "language": "python",
   "name": "python3"
  },
  "language_info": {
   "codemirror_mode": {
    "name": "ipython",
    "version": 3
   },
   "file_extension": ".py",
   "mimetype": "text/x-python",
   "name": "python",
   "nbconvert_exporter": "python",
   "pygments_lexer": "ipython3",
   "version": "3.10.12"
  }
 },
 "nbformat": 4,
 "nbformat_minor": 5
}
