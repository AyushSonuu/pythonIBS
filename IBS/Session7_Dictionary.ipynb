{
 "cells": [
  {
   "cell_type": "markdown",
   "id": "a4d4f9c2-fb34-4b3d-b602-f31af0c52e97",
   "metadata": {
    "id": "a4d4f9c2-fb34-4b3d-b602-f31af0c52e97",
    "tags": []
   },
   "source": [
    "# Dictionaries"
   ]
  },
  {
   "cell_type": "markdown",
   "id": "4cdff397-294f-4458-bbe0-4022e5b5e326",
   "metadata": {
    "tags": []
   },
   "source": [
    "# Maps key to value "
   ]
  },
  {
   "cell_type": "code",
   "execution_count": null,
   "id": "f9c18b6e-2da6-4e1a-b679-ccf51e6329dc",
   "metadata": {
    "id": "f9c18b6e-2da6-4e1a-b679-ccf51e6329dc"
   },
   "outputs": [],
   "source": [
    "# Also called associative array\n",
    "# key value pairs \n",
    "# key can be any immutable object"
   ]
  },
  {
   "cell_type": "code",
   "execution_count": null,
   "id": "2d61c457-2f75-4999-949f-215e30965624",
   "metadata": {},
   "outputs": [],
   "source": [
    "# Syntax\n",
    "# { key1:val1, key2:val2,...}\n",
    "\n"
   ]
  },
  {
   "cell_type": "code",
   "execution_count": null,
   "id": "649656b4-18f7-43e1-ae4b-ea89c375ee45",
   "metadata": {},
   "outputs": [],
   "source": [
    "# Create, Search, Delete O(1)\n",
    "# Print all pairs . > O(N)"
   ]
  },
  {
   "cell_type": "markdown",
   "id": "b30671c1-4434-42ad-82b2-e24f51829783",
   "metadata": {},
   "source": [
    "# Initializing a dictionary"
   ]
  },
  {
   "cell_type": "code",
   "execution_count": null,
   "id": "a3506f63-928f-4c6a-9355-e076618e36a9",
   "metadata": {
    "tags": []
   },
   "outputs": [],
   "source": [
    "name_to_extn={\"Tom\":1234, \"Harry\":6745} # name -> ext\n",
    "print(name_to_extn)"
   ]
  },
  {
   "cell_type": "code",
   "execution_count": null,
   "id": "ed839c2e-064d-4929-9faa-fd6464eba959",
   "metadata": {},
   "outputs": [],
   "source": []
  },
  {
   "cell_type": "code",
   "execution_count": null,
   "id": "2404a702-f970-4e7c-a6ca-fcdb9c8f8a3b",
   "metadata": {},
   "outputs": [],
   "source": [
    "len(name_to_extn)"
   ]
  },
  {
   "cell_type": "code",
   "execution_count": null,
   "id": "8a0c6afa-5dcd-4abf-8b6b-4749fc537aed",
   "metadata": {},
   "outputs": [],
   "source": [
    "len({ \"apple\", \"banana\"})"
   ]
  },
  {
   "cell_type": "code",
   "execution_count": null,
   "id": "41868c13-0631-43a0-a54d-e562fe08e930",
   "metadata": {},
   "outputs": [],
   "source": []
  },
  {
   "cell_type": "code",
   "execution_count": null,
   "id": "af8ee6a2-5ec6-4db6-9121-81e43c473aed",
   "metadata": {},
   "outputs": [],
   "source": [
    "print(type(name_to_extn)) # class name is dict"
   ]
  },
  {
   "cell_type": "code",
   "execution_count": null,
   "id": "9b67567e-570d-4e61-98d7-55f04b63ac5d",
   "metadata": {},
   "outputs": [],
   "source": [
    "name_to_extn[\"Romit\"]"
   ]
  },
  {
   "cell_type": "code",
   "execution_count": null,
   "id": "7f8565b7-3c0c-4971-a177-14bc0754b3d6",
   "metadata": {},
   "outputs": [],
   "source": []
  },
  {
   "cell_type": "code",
   "execution_count": null,
   "id": "08d4ff2b-77e6-4a6a-beb7-58db75a76981",
   "metadata": {},
   "outputs": [],
   "source": [
    "name_to_extn.get(\"Tom\",0)"
   ]
  },
  {
   "cell_type": "code",
   "execution_count": null,
   "id": "5ab78b75-3414-4da0-83ca-49d06a090b8d",
   "metadata": {},
   "outputs": [],
   "source": []
  },
  {
   "cell_type": "code",
   "execution_count": null,
   "id": "697438a1-980f-4e02-a930-7557ad304d81",
   "metadata": {},
   "outputs": [],
   "source": []
  },
  {
   "cell_type": "code",
   "execution_count": null,
   "id": "df46c9e3-2547-4818-8e0e-6a0785cbf2bc",
   "metadata": {},
   "outputs": [],
   "source": [
    "help(dict.get)"
   ]
  },
  {
   "cell_type": "code",
   "execution_count": null,
   "id": "bc0fbdff-c891-4894-92e9-85a8a4803ac5",
   "metadata": {},
   "outputs": [],
   "source": []
  },
  {
   "cell_type": "code",
   "execution_count": null,
   "id": "039f757c-7472-4213-a631-fb170d01c0eb",
   "metadata": {},
   "outputs": [],
   "source": []
  },
  {
   "cell_type": "code",
   "execution_count": null,
   "id": "54e138e3-9fab-497d-b540-96f63fd294e5",
   "metadata": {},
   "outputs": [],
   "source": [
    "dir(dict)"
   ]
  },
  {
   "cell_type": "markdown",
   "id": "39a0a7fa-fe03-4d78-9e21-514762643bff",
   "metadata": {
    "id": "c30f8a26-8a4d-4edc-8f51-bdd97e6c3168",
    "tags": []
   },
   "source": [
    "# checking membership"
   ]
  },
  {
   "cell_type": "code",
   "execution_count": null,
   "id": "e3cb1e45-270d-4f51-a2dd-9e812ca48282",
   "metadata": {
    "id": "e3cb1e45-270d-4f51-a2dd-9e812ca48282",
    "outputId": "a5bfe494-168a-46c0-c865-0c517879ccde"
   },
   "outputs": [],
   "source": [
    "d1={'Ram': 45, 'Mohan': 100, 'Sohan': 12}"
   ]
  },
  {
   "cell_type": "code",
   "execution_count": null,
   "id": "cb678efd-82e2-4d60-b233-81281e44f3d0",
   "metadata": {},
   "outputs": [],
   "source": [
    "d1[\"ram\"]"
   ]
  },
  {
   "cell_type": "code",
   "execution_count": null,
   "id": "525652e6-9ad2-4ca7-bbf9-a3fa969362b6",
   "metadata": {},
   "outputs": [],
   "source": [
    "help(d1.get)"
   ]
  },
  {
   "cell_type": "code",
   "execution_count": null,
   "id": "01c2230b-fd87-4893-9424-3b012826b019",
   "metadata": {},
   "outputs": [],
   "source": [
    "d1.get(\"ram\", 3030)"
   ]
  },
  {
   "cell_type": "code",
   "execution_count": null,
   "id": "9f50e0bf-f0c1-486b-8ab5-6903d5b66558",
   "metadata": {
    "id": "9f50e0bf-f0c1-486b-8ab5-6903d5b66558",
    "outputId": "fe874e94-cc13-448c-97cb-0fa1c0ee9f8b"
   },
   "outputs": [],
   "source": [
    "'Ram' in d1"
   ]
  },
  {
   "cell_type": "code",
   "execution_count": null,
   "id": "02545c1b-b140-4ed8-9c7c-fc2b96e30c75",
   "metadata": {
    "id": "02545c1b-b140-4ed8-9c7c-fc2b96e30c75",
    "outputId": "60b50ac3-f988-4610-9991-c315d8c57421"
   },
   "outputs": [],
   "source": [
    "'ram' not in d1"
   ]
  },
  {
   "cell_type": "markdown",
   "id": "673a13b2-49f1-4243-a2a7-bcedfeafd381",
   "metadata": {
    "tags": [],
    "toc-hr-collapsed": true
   },
   "source": [
    "# Accessing element using [] and .get()"
   ]
  },
  {
   "cell_type": "code",
   "execution_count": null,
   "id": "a148f7ba-0819-41af-8fd9-0cbba67d8781",
   "metadata": {
    "tags": []
   },
   "outputs": [],
   "source": [
    "name_to_extn[\"Tom\"]"
   ]
  },
  {
   "cell_type": "code",
   "execution_count": null,
   "id": "e51ebdbf-3e03-4128-a92c-6ca6a9bb7833",
   "metadata": {},
   "outputs": [],
   "source": [
    "# What if we access non-existing 'key'"
   ]
  },
  {
   "cell_type": "code",
   "execution_count": null,
   "id": "79c4f17c-4c90-4a28-8136-b10a6c355c99",
   "metadata": {},
   "outputs": [],
   "source": [
    "name_to_extn[\"Rohit\"]"
   ]
  },
  {
   "cell_type": "code",
   "execution_count": null,
   "id": "0d035db6-62d9-46c0-81ba-d57066f3529b",
   "metadata": {
    "id": "0d035db6-62d9-46c0-81ba-d57066f3529b",
    "outputId": "54edc619-672e-4592-ff89-47b389f92107"
   },
   "outputs": [],
   "source": [
    "# EAFP : It is easier to ask for forgiveness than permission\n",
    "try:\n",
    "    name_to_extn[\"Rohit\"]\n",
    "except KeyError:\n",
    "    print(\"Exception occurred\")\n",
    "print(\"Code continues as exception has been handled\")"
   ]
  },
  {
   "cell_type": "code",
   "execution_count": null,
   "id": "5ebd0130-75cc-4ef1-94c6-2587af3a5393",
   "metadata": {},
   "outputs": [],
   "source": [
    "help(dict.get)"
   ]
  },
  {
   "cell_type": "code",
   "execution_count": null,
   "id": "b94e333b-84a2-48e6-a35b-ab2e596eb5b2",
   "metadata": {
    "id": "b94e333b-84a2-48e6-a35b-ab2e596eb5b2",
    "outputId": "e2b37a6b-7b03-445a-a1bd-ae005fc7752c"
   },
   "outputs": [],
   "source": [
    "ret=name_to_extn.get(\"Rohit\", 7777) # \"Rohit\" does not exist\n",
    "print(ret)"
   ]
  },
  {
   "cell_type": "code",
   "execution_count": null,
   "id": "ccd46e0b-22ed-42c2-96a1-e0ec215e44e2",
   "metadata": {},
   "outputs": [],
   "source": [
    "ret=name_to_extn.get(\"Tom\", 7777) # \"Tom\" exists\n",
    "print(ret)"
   ]
  },
  {
   "cell_type": "code",
   "execution_count": null,
   "id": "111ee387-ef3a-49d1-8db6-e7de197241ea",
   "metadata": {},
   "outputs": [],
   "source": [
    "ret=name_to_extn.get(\"Rohit\")\n",
    "print(ret)\n",
    "if ret != None:\n",
    "    print(found)\n",
    "else:\n",
    "    print(\"not existing\")\n"
   ]
  },
  {
   "cell_type": "markdown",
   "id": "dcd37daf-5ce1-41ce-b39f-f9e83d9f9ce5",
   "metadata": {
    "tags": []
   },
   "source": [
    "# Modifying (or creating) element"
   ]
  },
  {
   "cell_type": "code",
   "execution_count": null,
   "id": "cdf58c05-7ab0-49b9-9cf4-5b016fb67f45",
   "metadata": {},
   "outputs": [],
   "source": [
    "name_to_extn\n"
   ]
  },
  {
   "cell_type": "code",
   "execution_count": null,
   "id": "b3ee753e-9f11-46e8-8132-cb0f16d8b6d0",
   "metadata": {},
   "outputs": [],
   "source": [
    "name_to_extn[\"Shyam\"] = 2190 # create a pair\n",
    "name_to_extn"
   ]
  },
  {
   "cell_type": "code",
   "execution_count": null,
   "id": "c8231b51-269c-45e1-a257-557f430bda04",
   "metadata": {},
   "outputs": [],
   "source": []
  },
  {
   "cell_type": "code",
   "execution_count": null,
   "id": "d1997f8e-fa66-436b-a96c-bee787c5c2cb",
   "metadata": {},
   "outputs": [],
   "source": [
    "name_to_extn[\"Tom\"] = 6789 # modified or creates\n",
    "print(name_to_extn)"
   ]
  },
  {
   "cell_type": "code",
   "execution_count": null,
   "id": "c56fa54d-ea67-42cb-b535-b7cf7075ed8f",
   "metadata": {},
   "outputs": [],
   "source": []
  },
  {
   "cell_type": "code",
   "execution_count": null,
   "id": "46690074-2d44-4aef-981f-e60d6d0e86f8",
   "metadata": {},
   "outputs": [],
   "source": [
    "# If key does not exist, a new element gets created \n",
    "name_to_extn[\"Dheeraj\"] = 2538\n",
    "print(name_to_extn)"
   ]
  },
  {
   "cell_type": "code",
   "execution_count": null,
   "id": "1d81b8f5-3bec-4ca6-ae29-40c9df243fb7",
   "metadata": {},
   "outputs": [],
   "source": [
    "dir(dict)"
   ]
  },
  {
   "cell_type": "markdown",
   "id": "0b6c0b6d-1c57-4818-b7e4-d11b071eee44",
   "metadata": {},
   "source": [
    "# Adding (or modifying) element(s)"
   ]
  },
  {
   "cell_type": "code",
   "execution_count": null,
   "id": "32a0d7d6-35af-4e8e-8dab-28c0b2217a46",
   "metadata": {},
   "outputs": [],
   "source": [
    "name_to_extn[\"Ram\"]=1234\n",
    "print(name_to_extn)"
   ]
  },
  {
   "cell_type": "code",
   "execution_count": 44,
   "id": "66a688f7-7557-41f7-a528-4a6d0e1568a9",
   "metadata": {},
   "outputs": [
    {
     "name": "stdout",
     "output_type": "stream",
     "text": [
      "Help on method_descriptor:\n",
      "\n",
      "update(...)\n",
      "    D.update([E, ]**F) -> None.  Update D from dict/iterable E and F.\n",
      "    If E is present and has a .keys() method, then does:  for k in E: D[k] = E[k]\n",
      "    If E is present and lacks a .keys() method, then does:  for k, v in E: D[k] = v\n",
      "    In either case, this is followed by: for k in F:  D[k] = F[k]\n",
      "\n"
     ]
    }
   ],
   "source": [
    "help(dict.update)"
   ]
  },
  {
   "cell_type": "code",
   "execution_count": 38,
   "id": "2728d2ea-f92c-4a1c-98e9-3b6468e0b88a",
   "metadata": {},
   "outputs": [],
   "source": [
    "d1={\"Ram\":12} # def func(**kwargs)"
   ]
  },
  {
   "cell_type": "code",
   "execution_count": 39,
   "id": "53a1fdfa-8892-4030-93fd-9975138acef8",
   "metadata": {
    "id": "53a1fdfa-8892-4030-93fd-9975138acef8"
   },
   "outputs": [
    {
     "name": "stdout",
     "output_type": "stream",
     "text": [
      "{'Ram': 45, 'Mohan': 100, 'Sohan': 12}\n"
     ]
    }
   ],
   "source": [
    "d1.update({\"Mohan\": 100, \"Sohan\":12, \"Ram\":45}) # E has a .keys() method\n",
    "print(d1)"
   ]
  },
  {
   "cell_type": "code",
   "execution_count": 48,
   "id": "d157ec29-7ae6-45e9-bccb-490b62aeed0e",
   "metadata": {
    "id": "d157ec29-7ae6-45e9-bccb-490b62aeed0e",
    "outputId": "b8485c8e-e200-4fc9-ad9c-65500cc89f41"
   },
   "outputs": [
    {
     "data": {
      "text/plain": [
       "{'Ram': 45,\n",
       " 'Mohan': 100,\n",
       " 'Sohan': 12,\n",
       " 'xx2': 19,\n",
       " 'yy2': 20,\n",
       " 'A': 'B',\n",
       " 'a': 'b',\n",
       " 'c': 'd',\n",
       " 10: 11}"
      ]
     },
     "execution_count": 48,
     "metadata": {},
     "output_type": "execute_result"
    }
   ],
   "source": [
    "d1.update(( ['xx2', 19], ('yy2', 20), \"AB\" , range(10,12) )) # E doesnt have .keys() but is iterable of tuples\n",
    "d1"
   ]
  },
  {
   "cell_type": "code",
   "execution_count": 47,
   "id": "fc22409e-c75b-4f4d-8730-45b336b44f0e",
   "metadata": {},
   "outputs": [
    {
     "data": {
      "text/plain": [
       "{'Ram': 45,\n",
       " 'Mohan': 100,\n",
       " 'Sohan': 12,\n",
       " 'xx2': 19,\n",
       " 'yy2': 20,\n",
       " 'A': 'B',\n",
       " 'a': 'b',\n",
       " 'c': 'd'}"
      ]
     },
     "execution_count": 47,
     "metadata": {},
     "output_type": "execute_result"
    }
   ],
   "source": [
    "d1.update([ \"ab\", \"cd\" ]) # E doesnt have .keys() but is iterable of tuples\n",
    "d1"
   ]
  },
  {
   "cell_type": "code",
   "execution_count": 49,
   "id": "416e7359-c76f-4493-a15b-ea4057fd693f",
   "metadata": {},
   "outputs": [
    {
     "data": {
      "text/plain": [
       "{'Ram': 45,\n",
       " 'Mohan': 100,\n",
       " 'Sohan': 12,\n",
       " 'xx2': 19,\n",
       " 'yy2': 20,\n",
       " 'A': 'B',\n",
       " 'a': 'b',\n",
       " 'c': 'd',\n",
       " 10: 11,\n",
       " 'Tom': 87,\n",
       " 'Vyom': 99}"
      ]
     },
     "execution_count": 49,
     "metadata": {},
     "output_type": "execute_result"
    }
   ],
   "source": [
    "d1.update(Tom=87,Vyom=99) # **kwargs / **F\n",
    "d1"
   ]
  },
  {
   "cell_type": "code",
   "execution_count": null,
   "id": "fecd2c75-0c9c-4016-bdec-c0ae0a64ac9b",
   "metadata": {
    "tags": []
   },
   "outputs": [],
   "source": [
    "d2={'abc':50}\n",
    "d1.update(d2,Tom=28,Vyom=19) # E and **kwargs\n",
    "d1"
   ]
  },
  {
   "cell_type": "markdown",
   "id": "a95e8003-7301-4257-9b83-2aa7417c8457",
   "metadata": {},
   "source": [
    "# setdefault() : Access if existing, otherwise insert with default value"
   ]
  },
  {
   "cell_type": "code",
   "execution_count": null,
   "id": "ae818e11-42b9-4eb6-9f2a-cd7af8acd8e7",
   "metadata": {},
   "outputs": [],
   "source": [
    "d1={\n",
    "    \"fruits\" : [ \"apple\", \"banana\", \"orange\"],\n",
    "    \"pets\" : [ \"Dog\", \"Cat\", \"Parrot\"]\n",
    "}\n",
    "\n",
    "\n",
    "category= \"fruits\"\n",
    "entity= \"pineaple\"\n",
    "\n",
    "#category= \"vegetable\"\n",
    "#entity= \"onion\"\n",
    "\n",
    "#d1.setdefault(category, [ ]).append(entity)\n",
    "\n",
    "if category in d1:\n",
    "    d1[category].append(entity)\n",
    "else:\n",
    "    d1[category] = [entity]\n",
    "    \n",
    "d1\n",
    "\n",
    "# name=\"fruits\"\n",
    "# d1.setdefault(name, []).append(\"watermelon\")\n",
    "# name=\"vegetables\"\n",
    "# d1.setdefault(name, []).append(\"onion\")\n",
    "# d1"
   ]
  },
  {
   "cell_type": "code",
   "execution_count": null,
   "id": "01ea42d3-06e3-4381-b597-586aa45bc6fa",
   "metadata": {},
   "outputs": [],
   "source": [
    "help(dict.setdefault)"
   ]
  },
  {
   "cell_type": "code",
   "execution_count": null,
   "id": "ccfc0e90-9fcb-405b-a53c-dba0ac4080f6",
   "metadata": {},
   "outputs": [],
   "source": []
  },
  {
   "cell_type": "markdown",
   "id": "c5e026f1-a2c7-49fc-a642-4b2123066bdd",
   "metadata": {
    "id": "21473725-9783-478e-b350-b26cdc5feecd"
   },
   "source": [
    "# Deleting elements"
   ]
  },
  {
   "cell_type": "code",
   "execution_count": 53,
   "id": "d2a36e8c-f5f8-412a-b792-a2eb9b40ef9d",
   "metadata": {},
   "outputs": [],
   "source": [
    "d1={'x':1, 'y':2, 'z':3}\n"
   ]
  },
  {
   "cell_type": "code",
   "execution_count": null,
   "id": "1873a57f-cad0-413d-a8d5-80212559d8aa",
   "metadata": {},
   "outputs": [],
   "source": []
  },
  {
   "cell_type": "markdown",
   "id": "7438688c-205c-4fb1-a5c6-5d908122ed92",
   "metadata": {},
   "source": [
    "## del"
   ]
  },
  {
   "cell_type": "code",
   "execution_count": 54,
   "id": "1bdea1a4-2daf-458d-aa1d-47ebbd384b06",
   "metadata": {
    "id": "1bdea1a4-2daf-458d-aa1d-47ebbd384b06",
    "outputId": "eeb0c11e-5bf5-46ac-ca8b-01c9192ccc8a",
    "tags": []
   },
   "outputs": [
    {
     "data": {
      "text/plain": [
       "{'x': 1, 'z': 3}"
      ]
     },
     "execution_count": 54,
     "metadata": {},
     "output_type": "execute_result"
    }
   ],
   "source": [
    "del d1[\"y\"]\n",
    "d1"
   ]
  },
  {
   "cell_type": "markdown",
   "id": "9deefff1-ccb4-47c4-9392-aaffda7abc46",
   "metadata": {},
   "source": [
    "## clear()"
   ]
  },
  {
   "cell_type": "code",
   "execution_count": null,
   "id": "b49713f2-b6f4-4b74-8c89-748b2e3e8142",
   "metadata": {},
   "outputs": [],
   "source": [
    "help(d1.clear)"
   ]
  },
  {
   "cell_type": "code",
   "execution_count": 55,
   "id": "4ba775a5-abc5-43ad-a61b-ad4f007fb7f3",
   "metadata": {},
   "outputs": [
    {
     "data": {
      "text/plain": [
       "{}"
      ]
     },
     "execution_count": 55,
     "metadata": {},
     "output_type": "execute_result"
    }
   ],
   "source": [
    "d1.clear()\n",
    "d1"
   ]
  },
  {
   "cell_type": "markdown",
   "id": "4c1a08fe-fe7f-4052-bfb9-e978f11a4a08",
   "metadata": {},
   "source": [
    "# Getting and deleting elements"
   ]
  },
  {
   "cell_type": "markdown",
   "id": "83d8c498-bb75-4f85-b7bb-b0782b92cc0e",
   "metadata": {},
   "source": [
    "## pop()"
   ]
  },
  {
   "cell_type": "code",
   "execution_count": 56,
   "id": "f0467c9b-a5df-4002-b9c0-b96350963b89",
   "metadata": {},
   "outputs": [
    {
     "name": "stdout",
     "output_type": "stream",
     "text": [
      "Help on method_descriptor:\n",
      "\n",
      "pop(...)\n",
      "    D.pop(k[,d]) -> v, remove specified key and return the corresponding value.\n",
      "    \n",
      "    If the key is not found, return the default if given; otherwise,\n",
      "    raise a KeyError.\n",
      "\n"
     ]
    }
   ],
   "source": [
    "help(dict.pop)"
   ]
  },
  {
   "cell_type": "code",
   "execution_count": 57,
   "id": "c316b974-bb8c-4bfe-9961-b4204c6ad6b9",
   "metadata": {},
   "outputs": [],
   "source": [
    "d1={'x':1, 'y':2, 'z':3}"
   ]
  },
  {
   "cell_type": "code",
   "execution_count": 58,
   "id": "1692c133-fab9-45de-aeec-01dff01af164",
   "metadata": {},
   "outputs": [
    {
     "name": "stdout",
     "output_type": "stream",
     "text": [
      "1\n",
      "{'y': 2, 'z': 3}\n"
     ]
    }
   ],
   "source": [
    "ret = d1.pop('x')\n",
    "print(ret)\n",
    "print(d1)"
   ]
  },
  {
   "cell_type": "code",
   "execution_count": 59,
   "id": "0b44f868-d821-45f5-b3fd-c8e0f892a404",
   "metadata": {},
   "outputs": [
    {
     "ename": "KeyError",
     "evalue": "'non-exist'",
     "output_type": "error",
     "traceback": [
      "\u001b[0;31m---------------------------------------------------------------------------\u001b[0m",
      "\u001b[0;31mKeyError\u001b[0m                                  Traceback (most recent call last)",
      "Cell \u001b[0;32mIn[59], line 1\u001b[0m\n\u001b[0;32m----> 1\u001b[0m \u001b[43md1\u001b[49m\u001b[38;5;241;43m.\u001b[39;49m\u001b[43mpop\u001b[49m\u001b[43m(\u001b[49m\u001b[38;5;124;43m'\u001b[39;49m\u001b[38;5;124;43mnon-exist\u001b[39;49m\u001b[38;5;124;43m'\u001b[39;49m\u001b[43m)\u001b[49m \u001b[38;5;66;03m# if default value not given, exception raised\u001b[39;00m\n",
      "\u001b[0;31mKeyError\u001b[0m: 'non-exist'"
     ]
    }
   ],
   "source": [
    "d1.pop('non-exist') # if default value not given, exception raised"
   ]
  },
  {
   "cell_type": "code",
   "execution_count": null,
   "id": "ff2e3671-a37f-4f7b-99af-356be845c5eb",
   "metadata": {},
   "outputs": [],
   "source": [
    "ret=d1.pop('non-exist',120) # default value returned\n",
    "print(ret)"
   ]
  },
  {
   "cell_type": "markdown",
   "id": "739b5bbe-6ad9-46b3-993c-4e2104bec466",
   "metadata": {},
   "source": [
    "## popitem()"
   ]
  },
  {
   "cell_type": "code",
   "execution_count": 60,
   "id": "77b25898-8681-4567-930a-4cf5e3f861d3",
   "metadata": {
    "tags": []
   },
   "outputs": [
    {
     "name": "stdout",
     "output_type": "stream",
     "text": [
      "Help on method_descriptor:\n",
      "\n",
      "popitem(self, /)\n",
      "    Remove and return a (key, value) pair as a 2-tuple.\n",
      "    \n",
      "    Pairs are returned in LIFO (last-in, first-out) order.\n",
      "    Raises KeyError if the dict is empty.\n",
      "\n"
     ]
    }
   ],
   "source": [
    "help(dict.popitem)"
   ]
  },
  {
   "cell_type": "code",
   "execution_count": 62,
   "id": "1e53cd44-1eed-49d8-acda-54323cd19a6c",
   "metadata": {
    "id": "1e53cd44-1eed-49d8-acda-54323cd19a6c",
    "outputId": "765a86ff-aaf8-4d3d-d340-2f057bffdcc7"
   },
   "outputs": [
    {
     "name": "stdout",
     "output_type": "stream",
     "text": [
      "z 3\n",
      "{'x': 1, 'y': 2}\n"
     ]
    }
   ],
   "source": [
    "d1={'x':1, 'y':2, 'z':3}\n",
    "k,v  = d1.popitem()\n",
    "print(k,v)\n",
    "print(d1)"
   ]
  },
  {
   "cell_type": "code",
   "execution_count": 64,
   "id": "8ca25451-dd68-4d40-b315-01c498e756e9",
   "metadata": {},
   "outputs": [
    {
     "name": "stdout",
     "output_type": "stream",
     "text": [
      "('z', 3)\n",
      "('y', 2)\n",
      "('x', 1)\n"
     ]
    }
   ],
   "source": [
    "d1={'x':1, 'y':2, 'z':3}\n",
    "\n",
    "for i in range(len(d1)):\n",
    "    print(d1.popitem())"
   ]
  },
  {
   "cell_type": "code",
   "execution_count": 65,
   "id": "859453f3-161b-401b-ae90-d017d6958f61",
   "metadata": {},
   "outputs": [
    {
     "data": {
      "text/plain": [
       "{}"
      ]
     },
     "execution_count": 65,
     "metadata": {},
     "output_type": "execute_result"
    }
   ],
   "source": [
    "d1"
   ]
  },
  {
   "cell_type": "code",
   "execution_count": 69,
   "id": "fb7c4193-18c1-42fb-914b-8c59c834894b",
   "metadata": {},
   "outputs": [
    {
     "name": "stdout",
     "output_type": "stream",
     "text": [
      "('z', 3)\n",
      "('y', 2)\n",
      "('x', 1)\n"
     ]
    }
   ],
   "source": [
    "d1={'x':1, 'y':2, 'z':3}\n",
    "\n",
    "try:\n",
    "    while True:\n",
    "        print(d1.popitem())\n",
    "except KeyError:\n",
    "    pass"
   ]
  },
  {
   "cell_type": "code",
   "execution_count": null,
   "id": "51e2dcc9-b830-41ed-a849-d46f098b8917",
   "metadata": {},
   "outputs": [],
   "source": []
  },
  {
   "cell_type": "code",
   "execution_count": null,
   "id": "61a3b95f-58a3-4519-beb9-644058bc96de",
   "metadata": {},
   "outputs": [],
   "source": []
  },
  {
   "cell_type": "code",
   "execution_count": null,
   "id": "dd5eb3a8-05f1-4a1b-97d2-3613d0fd149b",
   "metadata": {},
   "outputs": [],
   "source": []
  },
  {
   "cell_type": "code",
   "execution_count": null,
   "id": "d813a580-ac3b-44ff-8ea1-c6ea0dc514ea",
   "metadata": {},
   "outputs": [],
   "source": []
  },
  {
   "cell_type": "code",
   "execution_count": null,
   "id": "10cda7c6-4635-4084-b086-426fbad8bd00",
   "metadata": {
    "id": "10cda7c6-4635-4084-b086-426fbad8bd00",
    "outputId": "8fbc5c8b-4a7f-4b80-94cd-41a7923989f7"
   },
   "outputs": [],
   "source": [
    "# Traversing through all elements (removing them in the process)\n",
    "d1={'x':1, 'y':2, 'z':3}\n",
    "while True:\n",
    "    k,v =d1.popitem()\n",
    "    print(k,v)"
   ]
  },
  {
   "cell_type": "code",
   "execution_count": null,
   "id": "43221ed8-cf51-4fc7-b71e-d1a0b0fe3c85",
   "metadata": {
    "id": "43221ed8-cf51-4fc7-b71e-d1a0b0fe3c85",
    "outputId": "cbd6eca5-cb99-439f-a660-2a67ed8ee9d4",
    "tags": []
   },
   "outputs": [],
   "source": [
    "# Catch exception, to traverse gracefully\n",
    "d1={'x':1, 'y':2, 'z':3}\n",
    "try:\n",
    "    while True:\n",
    "        print(d1.popitem())\n",
    "except KeyError:\n",
    "    pass\n",
    "\n",
    "print(\"d1=\", d1)"
   ]
  },
  {
   "cell_type": "markdown",
   "id": "43bc356e-b045-49df-9770-0b17803f5d1a",
   "metadata": {},
   "source": [
    "# About keys"
   ]
  },
  {
   "cell_type": "markdown",
   "id": "0e62d4c3-5022-49a5-a20d-acc47b3e3215",
   "metadata": {},
   "source": [
    "## A Key can not repeat"
   ]
  },
  {
   "cell_type": "code",
   "execution_count": null,
   "id": "302af597-39e8-40fd-8834-c91051ee8085",
   "metadata": {},
   "outputs": [],
   "source": [
    "d2={\"x\":1,\"y\":2, \"x\":3} # \"x\" does not repeat in resultant dictionary\n",
    "print(d2)"
   ]
  },
  {
   "cell_type": "markdown",
   "id": "4cf7e1bf-0373-4598-bc07-0880406243da",
   "metadata": {},
   "source": [
    "## Keys can be heterogenous"
   ]
  },
  {
   "cell_type": "code",
   "execution_count": null,
   "id": "7650649e-b66e-4dea-b984-f584c1b3ef10",
   "metadata": {
    "tags": []
   },
   "outputs": [],
   "source": [
    "d3={1:True, \"Hello\":(3,4), (9,8):\"good\"} # keys can be of different types too\n",
    "print(d3)"
   ]
  },
  {
   "cell_type": "markdown",
   "id": "f1ab32c4-6a09-4f81-a64b-d5efa4be84e3",
   "metadata": {},
   "source": [
    "## Can use only immutable objects as key"
   ]
  },
  {
   "cell_type": "code",
   "execution_count": null,
   "id": "cac2dbbf-0e00-426c-b0f0-ea7e61f9c695",
   "metadata": {},
   "outputs": [],
   "source": [
    "# Leave records indexed by tuple (name, date)\n",
    "leave_records={}\n",
    "leave_records[(\"Tom\", \"30062022\")] = \"Fever\" # KEY must be immutable\n",
    "print(leave_records)"
   ]
  },
  {
   "cell_type": "code",
   "execution_count": null,
   "id": "5b6c003c-98d6-4e6e-a77f-a60393f0885f",
   "metadata": {},
   "outputs": [],
   "source": [
    "d3={[1,2]:\"hello\", (3,4):\"bye\"} # error : list is mutable. hence unhashable"
   ]
  },
  {
   "cell_type": "code",
   "execution_count": null,
   "id": "b7b1d9f9-badd-4fa9-98a0-0640ef58d3b2",
   "metadata": {},
   "outputs": [],
   "source": [
    "d3={(1,2, [3,4]):\"hello\", (3,4):\"bye\"} # error : tuple has mutable sub-object. hence unhashable"
   ]
  },
  {
   "cell_type": "markdown",
   "id": "ffc5658d-cddf-4a0e-8c0f-57638f87f26d",
   "metadata": {},
   "source": [
    "# Iterating through dictionary"
   ]
  },
  {
   "cell_type": "code",
   "execution_count": null,
   "id": "083390aa-cf4c-4554-b1d6-a26e8740846b",
   "metadata": {},
   "outputs": [],
   "source": [
    "name_to_extn={\"Tom\":1234, \"Harry\":6745, \"Nick\":5436} "
   ]
  },
  {
   "cell_type": "markdown",
   "id": "f63adab7-4504-43f7-9c2b-12be63c004d0",
   "metadata": {},
   "source": [
    "## by default, we iterate through keys"
   ]
  },
  {
   "cell_type": "code",
   "execution_count": null,
   "id": "1767b04f-b6b7-4619-ba26-f9c22b36e75f",
   "metadata": {},
   "outputs": [],
   "source": [
    "for i in name_to_extn:\n",
    "    print(i)"
   ]
  },
  {
   "cell_type": "code",
   "execution_count": null,
   "id": "6d0163d5-0a8d-4a3c-9c5d-bac7d596ce87",
   "metadata": {},
   "outputs": [],
   "source": [
    "for pair in name_to_extn.items():\n",
    "    print(f\"{pair[0]} = {pair[1]}\")"
   ]
  },
  {
   "cell_type": "code",
   "execution_count": null,
   "id": "db8f4ea0-711a-48f6-a94d-900d826711ba",
   "metadata": {},
   "outputs": [],
   "source": [
    "for k,v in name_to_extn.items():\n",
    "    print(f\"{k} = {v}\")"
   ]
  },
  {
   "cell_type": "markdown",
   "id": "b904cb81-19bf-4818-b9ac-1f16f9dc67ac",
   "metadata": {},
   "source": [
    "## .keys() to iterate through keys"
   ]
  },
  {
   "cell_type": "code",
   "execution_count": null,
   "id": "70357f8c-b834-49fe-8c09-469be7947852",
   "metadata": {},
   "outputs": [],
   "source": [
    "for i in name_to_extn.keys():\n",
    "    print(i)"
   ]
  },
  {
   "cell_type": "code",
   "execution_count": null,
   "id": "0c4f46dc-a581-40ec-aa9d-6c64bb6d60c4",
   "metadata": {},
   "outputs": [],
   "source": [
    "name_to_extn.keys() # It is an iterable object"
   ]
  },
  {
   "cell_type": "markdown",
   "id": "a165e6d4-e8ed-478b-b817-feb4603ee811",
   "metadata": {},
   "source": [
    "## .values() to iterate through values"
   ]
  },
  {
   "cell_type": "code",
   "execution_count": null,
   "id": "1d67bf81-12af-47a0-88c4-bda1067c8b21",
   "metadata": {},
   "outputs": [],
   "source": [
    "for i in name_to_extn.values():\n",
    "    print(i)"
   ]
  },
  {
   "cell_type": "code",
   "execution_count": null,
   "id": "749aaa0a-1325-4d20-9ec8-b0218197e61c",
   "metadata": {},
   "outputs": [],
   "source": [
    "name_to_extn.values()"
   ]
  },
  {
   "cell_type": "code",
   "execution_count": null,
   "id": "a319cb3e-2aa6-4d0d-8274-5c56ab78ac05",
   "metadata": {},
   "outputs": [],
   "source": []
  },
  {
   "cell_type": "markdown",
   "id": "92dbda55-b9c7-4beb-8b75-4b9369c1ad4c",
   "metadata": {},
   "source": [
    "## .items() to iterate through key,value pairs (tuples)"
   ]
  },
  {
   "cell_type": "code",
   "execution_count": null,
   "id": "56f80b2c-d76b-4cd7-bbeb-46505a9b3c5a",
   "metadata": {},
   "outputs": [],
   "source": [
    "for k,v in name_to_extn.items():\n",
    "    print(k,v)"
   ]
  },
  {
   "cell_type": "code",
   "execution_count": null,
   "id": "5c68dd8d-196e-4ece-8dbb-1fb8afc7fa6c",
   "metadata": {},
   "outputs": [],
   "source": [
    "name_to_extn.items()"
   ]
  },
  {
   "cell_type": "code",
   "execution_count": null,
   "id": "b0788f13-37fe-46b8-b05d-5bd906874b6b",
   "metadata": {},
   "outputs": [],
   "source": []
  },
  {
   "cell_type": "markdown",
   "id": "857a3c08-e4bf-4b6e-a3bb-4e4d164c565b",
   "metadata": {
    "id": "102173ee-a336-491f-8038-875663b584c3"
   },
   "source": [
    "# More ways to create dictionary"
   ]
  },
  {
   "cell_type": "markdown",
   "id": "ee169c31-d40a-47ca-97f9-c08b3560a0c6",
   "metadata": {},
   "source": [
    "## List comprehension"
   ]
  },
  {
   "cell_type": "code",
   "execution_count": 70,
   "id": "e293d19d-615b-409c-b316-7c3987764392",
   "metadata": {},
   "outputs": [],
   "source": [
    "# Create list of first N odd numbers"
   ]
  },
  {
   "cell_type": "code",
   "execution_count": 71,
   "id": "f8e8bd29-271d-4e71-abb2-669baed57108",
   "metadata": {},
   "outputs": [
    {
     "name": "stdout",
     "output_type": "stream",
     "text": [
      "[1, 3, 5, 7, 9, 11, 13, 15, 17, 19]\n"
     ]
    }
   ],
   "source": [
    "L = []\n",
    "N=10\n",
    "for i in range(1,N+1):\n",
    "    L.append(2*i - 1)\n",
    "\n",
    "print(L)"
   ]
  },
  {
   "cell_type": "code",
   "execution_count": 72,
   "id": "7e80d52c-7f04-4a70-b402-718e125b8e41",
   "metadata": {},
   "outputs": [
    {
     "name": "stdout",
     "output_type": "stream",
     "text": [
      "[1, 4, 9, 16, 25, 36, 49, 64, 81, 100]\n"
     ]
    }
   ],
   "source": [
    "L = []\n",
    "N=10\n",
    "for i in range(1,N+1):\n",
    "    L.append(i*i)\n",
    "\n",
    "print(L)"
   ]
  },
  {
   "cell_type": "code",
   "execution_count": 73,
   "id": "d6112062-adb5-460e-b255-5d28c676a772",
   "metadata": {},
   "outputs": [
    {
     "data": {
      "text/plain": [
       "[1, 4, 9, 16, 25, 36, 49, 64, 81, 100]"
      ]
     },
     "execution_count": 73,
     "metadata": {},
     "output_type": "execute_result"
    }
   ],
   "source": [
    "L = [ i*i for i in range(1,N+1)  ]\n",
    "L"
   ]
  },
  {
   "cell_type": "code",
   "execution_count": 75,
   "id": "db16890d-9589-4515-852b-9f69c67a059d",
   "metadata": {},
   "outputs": [
    {
     "data": {
      "text/plain": [
       "(1, 4, 9, 16, 25, 36, 49, 64, 81, 100)"
      ]
     },
     "execution_count": 75,
     "metadata": {},
     "output_type": "execute_result"
    }
   ],
   "source": [
    "T = tuple( i*i for i in range(1,N+1)  )\n",
    "T"
   ]
  },
  {
   "cell_type": "code",
   "execution_count": 78,
   "id": "a8c614e2-0975-46c5-8033-2f6a003aab32",
   "metadata": {},
   "outputs": [
    {
     "data": {
      "text/plain": [
       "{'x1': 1,\n",
       " 'x2': 4,\n",
       " 'x3': 9,\n",
       " 'x4': 16,\n",
       " 'x5': 25,\n",
       " 'x6': 36,\n",
       " 'x7': 49,\n",
       " 'x8': 64,\n",
       " 'x9': 81,\n",
       " 'x10': 100}"
      ]
     },
     "execution_count": 78,
     "metadata": {},
     "output_type": "execute_result"
    }
   ],
   "source": [
    "D = { \"x\" + str(i) : i*i for i in range(1,11)}\n",
    "D"
   ]
  },
  {
   "cell_type": "markdown",
   "id": "03d2629f-1e50-42ec-86b5-1976420c2303",
   "metadata": {
    "id": "0c3512a4-3fea-43c0-a7c6-d4a5fd4c7ed8"
   },
   "source": [
    "## Dictionary Comprehension"
   ]
  },
  {
   "cell_type": "code",
   "execution_count": null,
   "id": "c542950d-17c2-4fd7-8e60-71d0a2ceef1f",
   "metadata": {},
   "outputs": [],
   "source": [
    "# Manual code : i to i square for i in range 1..10\n",
    "d1 = {}\n",
    "for i in range(1,11):\n",
    "    d1[i] = i*i\n",
    "    \n",
    "print(d1)"
   ]
  },
  {
   "cell_type": "code",
   "execution_count": null,
   "id": "e4146a52-4e0d-4262-984d-9ee0f22aa6a1",
   "metadata": {},
   "outputs": [],
   "source": [
    "# dictionary comprehension\n",
    "{i : i * i for i in range(1,11) }"
   ]
  },
  {
   "cell_type": "code",
   "execution_count": 83,
   "id": "324f9d7d-90d7-421e-87d4-470773bc4b96",
   "metadata": {},
   "outputs": [
    {
     "name": "stdout",
     "output_type": "stream",
     "text": [
      "name_list =  ['Tom1', 'Tom2', 'Tom3', 'Tom4', 'Tom5', 'Tom6', 'Tom7', 'Tom8', 'Tom9', 'Tom10']\n",
      "age_list =  [6, 7, 8, 9, 10, 11, 12, 13, 14, 15]\n"
     ]
    }
   ],
   "source": [
    "# To create dictionary from two parallel sequences\n",
    "name_list = [\"Tom\" + str(i) for i in range(1,11)]\n",
    "print(\"name_list = \", name_list)\n",
    "\n",
    "age_list = [i+5 for i in range(1,11)]\n",
    "print(\"age_list = \", age_list)\n"
   ]
  },
  {
   "cell_type": "code",
   "execution_count": null,
   "id": "608a4634-38fe-404e-8372-e76803ba8d3c",
   "metadata": {},
   "outputs": [],
   "source": [
    "# Manual code\n",
    "d1={}\n",
    "\n",
    "for i in range(len(name_list)):\n",
    "    d1[ name_list[i] ] = age_list[i]\n",
    "    \n",
    "print(\"d1=\",d1)"
   ]
  },
  {
   "cell_type": "code",
   "execution_count": null,
   "id": "62a34a0a-bd80-44ff-8e5c-b4b0ae0d6ccf",
   "metadata": {},
   "outputs": [],
   "source": [
    "# Dictionary comprehension\n",
    "d2={name_list[i] : age_list[i] for i in range(len(name_list))}\n",
    "print(d2)"
   ]
  },
  {
   "cell_type": "code",
   "execution_count": null,
   "id": "c384f74f-6100-4e11-ae68-d41810a4c266",
   "metadata": {},
   "outputs": [],
   "source": [
    "# Easier manual code using zip\n",
    "d1={}\n",
    "\n",
    "for name,age in zip(name_list, age_list):\n",
    "    d1[name ] = age\n",
    "    \n",
    "print(\"d1=\",d1)"
   ]
  },
  {
   "cell_type": "code",
   "execution_count": null,
   "id": "713d8566-4e3a-4350-a3b6-9a54c167ba5c",
   "metadata": {},
   "outputs": [],
   "source": [
    "#Easier dictionary comprehension using zip\n",
    "d1 = { name:age for name,age in zip(name_list, age_list) }\n",
    "print(\"d1=\",d1)"
   ]
  },
  {
   "cell_type": "markdown",
   "id": "b951b0f6-be56-4bd0-ad25-babdcc5a53bc",
   "metadata": {},
   "source": [
    "## From a iterator of tuples"
   ]
  },
  {
   "cell_type": "code",
   "execution_count": 82,
   "id": "de46edf6-d7cc-461f-b1a2-b86d5253c491",
   "metadata": {},
   "outputs": [],
   "source": [
    "#help(dict)"
   ]
  },
  {
   "cell_type": "code",
   "execution_count": null,
   "id": "64dee329-ac9c-4d4b-8cfc-e636e982a909",
   "metadata": {},
   "outputs": [],
   "source": [
    "# help(dict)\n",
    "\n",
    "#  dict() -> new empty dictionary\n",
    "#  |  dict(mapping) -> new dictionary initialized from a mapping object's\n",
    "#  |      (key, value) pairs\n",
    "#  |  dict(iterable) -> new dictionary initialized as if via:\n",
    "#  |      d = {}\n",
    "#  |      for k, v in iterable:\n",
    "#  |          d[k] = v\n",
    "#  |  dict(**kwargs) -> new dictionary initialized with the name=value pairs\n",
    "#  |      in the keyword argument list.  For example:  dict(one=1, two=2)"
   ]
  },
  {
   "cell_type": "code",
   "execution_count": 84,
   "id": "dfb749e6-0384-4cb0-bca3-f4ee8c9c59b5",
   "metadata": {},
   "outputs": [
    {
     "name": "stdout",
     "output_type": "stream",
     "text": [
      "d1= {'Tom1': 6, 'Tom2': 7, 'Tom3': 8, 'Tom4': 9, 'Tom5': 10, 'Tom6': 11, 'Tom7': 12, 'Tom8': 13, 'Tom9': 14, 'Tom10': 15}\n"
     ]
    }
   ],
   "source": [
    "\n",
    "d1 = dict(zip(name_list, age_list))\n",
    "print(\"d1=\",d1)"
   ]
  },
  {
   "cell_type": "code",
   "execution_count": 81,
   "id": "1ef74a9c-7d45-4e7d-a5fa-421507c661f6",
   "metadata": {},
   "outputs": [
    {
     "data": {
      "text/plain": [
       "{'Tom': 12, 'Ram': 10}"
      ]
     },
     "execution_count": 81,
     "metadata": {},
     "output_type": "execute_result"
    }
   ],
   "source": [
    "d1= dict(Tom=12, Ram=10)\n",
    "d1"
   ]
  },
  {
   "cell_type": "code",
   "execution_count": null,
   "id": "482836ed-be6e-4205-9829-0cc60d18d983",
   "metadata": {},
   "outputs": [],
   "source": []
  },
  {
   "cell_type": "code",
   "execution_count": 80,
   "id": "5a2d776c-396a-49ef-a4b3-13ce3e496926",
   "metadata": {},
   "outputs": [
    {
     "data": {
      "text/plain": [
       "{10: 20, 'c': 'd'}"
      ]
     },
     "execution_count": 80,
     "metadata": {},
     "output_type": "execute_result"
    }
   ],
   "source": [
    "#d1=dict([\"ab\", \"cd\"])\n",
    "d1=dict([[10,20], \"cd\"])\n",
    "d1"
   ]
  },
  {
   "cell_type": "code",
   "execution_count": null,
   "id": "f2f828d3-4911-401b-ab52-81add66557f1",
   "metadata": {},
   "outputs": [],
   "source": [
    "d1=dict(Tom=12, R"
   ]
  },
  {
   "cell_type": "code",
   "execution_count": null,
   "id": "e667cdcb-b2fb-42f1-b6a6-4c390a881f68",
   "metadata": {},
   "outputs": [],
   "source": [
    "# Creating from another dictionary"
   ]
  },
  {
   "cell_type": "code",
   "execution_count": null,
   "id": "2e730c4c-a119-4aa9-bd4d-e6c0b866e90d",
   "metadata": {},
   "outputs": [],
   "source": [
    "d2=dict(d1)\n",
    "print(d2)"
   ]
  },
  {
   "cell_type": "code",
   "execution_count": null,
   "id": "94847ec2-3e04-4f4f-a956-1a70016a5b4c",
   "metadata": {},
   "outputs": [],
   "source": [
    "# Iterators of length 2-sequences"
   ]
  },
  {
   "cell_type": "code",
   "execution_count": null,
   "id": "9b6763a7-3245-47c6-97be-747e69fbcb2f",
   "metadata": {},
   "outputs": [],
   "source": [
    "d2=dict((['Ram',1234], ['Shyam', 3456], ('Mohan',5432)   ))\n",
    "print(d2)"
   ]
  },
  {
   "cell_type": "code",
   "execution_count": null,
   "id": "f3273cc5-161d-43d8-85bd-b4aef79faf5a",
   "metadata": {
    "id": "f3273cc5-161d-43d8-85bd-b4aef79faf5a",
    "outputId": "5492421f-19c4-4c84-d5d6-9fb66ffe5378",
    "tags": []
   },
   "outputs": [],
   "source": [
    "d1=dict([ (\"Ram\", 12), (\"Shyam\", 14) ] )\n",
    "print(d1)"
   ]
  },
  {
   "cell_type": "code",
   "execution_count": null,
   "id": "1f3dc2ea-8441-4c0d-8fb3-ad4d9790980a",
   "metadata": {
    "id": "1f3dc2ea-8441-4c0d-8fb3-ad4d9790980a",
    "outputId": "070e1991-fb4b-4623-e488-5954c1b9c4b8"
   },
   "outputs": [],
   "source": [
    "d1=dict([ [\"Ram\", 12], [\"Shyam\", 14] ] )\n",
    "print(d1)"
   ]
  },
  {
   "cell_type": "code",
   "execution_count": null,
   "id": "78be9a94-ba25-4b32-88bd-03800a8d52bd",
   "metadata": {
    "id": "78be9a94-ba25-4b32-88bd-03800a8d52bd",
    "outputId": "a675fd91-0a60-4d9f-9bdc-baab8032c371"
   },
   "outputs": [],
   "source": [
    "d1=dict(( (\"Ram\", 12), (\"Shyam\", 14) ) )\n",
    "print(d1)"
   ]
  },
  {
   "cell_type": "code",
   "execution_count": null,
   "id": "e64ef5d4-1d2b-411b-a51c-2f388c7ada16",
   "metadata": {
    "id": "78be9a94-ba25-4b32-88bd-03800a8d52bd",
    "outputId": "a675fd91-0a60-4d9f-9bdc-baab8032c371"
   },
   "outputs": [],
   "source": [
    "d1=dict(( [\"Ram\", 12], [\"Shyam\", 14] ) )\n",
    "print(d1)"
   ]
  },
  {
   "cell_type": "code",
   "execution_count": null,
   "id": "da3017a5-6304-46af-aefc-2d896a8f5103",
   "metadata": {},
   "outputs": [],
   "source": [
    "d2=dict([\"ab\", \"cd\", \"ef\" ] )\n",
    "print(d2)"
   ]
  },
  {
   "cell_type": "code",
   "execution_count": null,
   "id": "4aecb729-30bd-45cc-a7c0-3652040e7b1c",
   "metadata": {},
   "outputs": [],
   "source": [
    "x,y=\"ab\"\n",
    "print(x,y)"
   ]
  },
  {
   "cell_type": "markdown",
   "id": "e8984c6b-7df2-49bb-a8be-2da8fed7a39a",
   "metadata": {},
   "source": [
    "## using keyword arguments"
   ]
  },
  {
   "cell_type": "code",
   "execution_count": null,
   "id": "29478da9-af5e-4359-a0e7-4ab32974bffc",
   "metadata": {
    "tags": []
   },
   "outputs": [],
   "source": [
    "d1=dict(name='Ram', country='India', age=12)\n",
    "print(d1)"
   ]
  },
  {
   "cell_type": "markdown",
   "id": "aa94f68a-0d72-4a3d-a923-6f42c015182a",
   "metadata": {},
   "source": [
    "## fromkeys()"
   ]
  },
  {
   "cell_type": "code",
   "execution_count": 85,
   "id": "44723d8a-08b7-424e-b42d-47708fb83642",
   "metadata": {},
   "outputs": [
    {
     "name": "stdout",
     "output_type": "stream",
     "text": [
      "Help on built-in function fromkeys:\n",
      "\n",
      "fromkeys(iterable, value=None, /) method of builtins.type instance\n",
      "    Create a new dictionary with keys from iterable and values set to value.\n",
      "\n"
     ]
    }
   ],
   "source": [
    "help(dict.fromkeys)"
   ]
  },
  {
   "cell_type": "code",
   "execution_count": 86,
   "id": "fa79317e-0fa6-44e9-9467-2f0969d17fb9",
   "metadata": {
    "id": "fa79317e-0fa6-44e9-9467-2f0969d17fb9",
    "outputId": "432af27a-0a1b-4b8c-e82d-01a9db6f64d1"
   },
   "outputs": [
    {
     "data": {
      "text/plain": [
       "{'h': 12, 'e': 12, 'l': 12, 'o': 12}"
      ]
     },
     "execution_count": 86,
     "metadata": {},
     "output_type": "execute_result"
    }
   ],
   "source": [
    "dict.fromkeys(\"hello\",12)"
   ]
  },
  {
   "cell_type": "code",
   "execution_count": 88,
   "id": "9ead5abc-e2cc-4c07-b0a2-7f3a6e0fc444",
   "metadata": {},
   "outputs": [
    {
     "data": {
      "text/plain": [
       "{1: None,\n",
       " 2: None,\n",
       " 3: None,\n",
       " 4: None,\n",
       " 5: None,\n",
       " 6: None,\n",
       " 7: None,\n",
       " 8: None,\n",
       " 9: None,\n",
       " 10: None}"
      ]
     },
     "execution_count": 88,
     "metadata": {},
     "output_type": "execute_result"
    }
   ],
   "source": [
    "dict.fromkeys(range(1,11))"
   ]
  },
  {
   "cell_type": "markdown",
   "id": "cc92ecc2-332e-4272-8dd1-294885d9ea6d",
   "metadata": {},
   "source": [
    "# Passing to function"
   ]
  },
  {
   "cell_type": "code",
   "execution_count": null,
   "id": "fe2f5e48-1449-42d9-902e-5cd0812a90ba",
   "metadata": {},
   "outputs": [],
   "source": [
    "# If the function changes the dictionary, will change persist after return from function?"
   ]
  },
  {
   "cell_type": "code",
   "execution_count": null,
   "id": "ba47f03f-caef-47dd-b7f3-394a3ae1f77e",
   "metadata": {},
   "outputs": [],
   "source": [
    "def func(d):\n",
    "    print(\"id(d)=\",id(d))\n",
    "    d[\"x\"] = 100\n",
    "    d[\"y\"] = 200\n",
    "\n",
    "d1={'a':10, 'b':20}\n",
    "print(\"id(d1)=\",id(d1))\n",
    "func(d1)\n",
    "print(d1)"
   ]
  },
  {
   "cell_type": "markdown",
   "id": "3d4b1d8b-aadc-4d28-8f68-efdc447f9518",
   "metadata": {},
   "source": [
    "# copying a dictionary"
   ]
  },
  {
   "cell_type": "code",
   "execution_count": null,
   "id": "6e77b3f1-ba20-403d-8a66-6f3072281fbc",
   "metadata": {
    "id": "6e77b3f1-ba20-403d-8a66-6f3072281fbc"
   },
   "outputs": [],
   "source": [
    "# Ques\n",
    "#d1 = d2\n",
    "#  vs\n",
    "#d1 = d2.copy()\n",
    "# vs\n",
    "# d1 = dict(d2)"
   ]
  },
  {
   "cell_type": "code",
   "execution_count": null,
   "id": "fcbdfecd-cc48-4c02-8454-6416579bb218",
   "metadata": {},
   "outputs": [],
   "source": [
    "help(dict.copy)"
   ]
  },
  {
   "cell_type": "code",
   "execution_count": null,
   "id": "ca7278f1-1131-4167-b5ce-e19305493b28",
   "metadata": {},
   "outputs": [],
   "source": [
    "d1={\"Ram\":[12,13], \"Shyam\":[15,14]}"
   ]
  },
  {
   "cell_type": "code",
   "execution_count": null,
   "id": "f195a15e-ccfa-4cca-b100-66b8d37d50d9",
   "metadata": {},
   "outputs": [],
   "source": [
    "d1.copy() == dict(d1)"
   ]
  },
  {
   "cell_type": "code",
   "execution_count": null,
   "id": "42ff79bd-0f03-440d-aeb9-cd0d571e39e3",
   "metadata": {},
   "outputs": [],
   "source": [
    "d1.copy()[\"Ram\"] is dict(d1)[\"Ram\"]"
   ]
  },
  {
   "cell_type": "markdown",
   "id": "5537d774-bbff-4cbb-8fbe-d2b583aa79d0",
   "metadata": {},
   "source": [
    "## Nested objects are contained by references"
   ]
  },
  {
   "cell_type": "code",
   "execution_count": null,
   "id": "69f6ed28-896d-43ed-8394-47325024f733",
   "metadata": {},
   "outputs": [],
   "source": [
    "l1=[3,4]\n",
    "d1={\"a\":l1,\"b\":l1, \"c\":l1}"
   ]
  },
  {
   "cell_type": "code",
   "execution_count": null,
   "id": "65ede654-a563-4a2f-a594-2cd933a8eb7b",
   "metadata": {},
   "outputs": [],
   "source": [
    "print(d1)"
   ]
  },
  {
   "cell_type": "code",
   "execution_count": null,
   "id": "71aeb2d3-7e5d-49e3-b473-f37859babdd6",
   "metadata": {},
   "outputs": [],
   "source": [
    "for k,v in d1.items():\n",
    "    print(k, id(v))"
   ]
  },
  {
   "cell_type": "code",
   "execution_count": null,
   "id": "6146d2d9-2d24-4b5b-b1da-63ee8aeaf7ba",
   "metadata": {},
   "outputs": [],
   "source": [
    "d1[\"a\"][0]+=1000"
   ]
  },
  {
   "cell_type": "code",
   "execution_count": null,
   "id": "0979faa8-b117-4b34-98bd-be49bd3d6454",
   "metadata": {},
   "outputs": [],
   "source": [
    "d1"
   ]
  },
  {
   "cell_type": "markdown",
   "id": "8580e69e-100c-4e52-9dce-bc5f764f04de",
   "metadata": {
    "id": "721de494-5fcc-4d65-bb34-6fb2ce1ff89c"
   },
   "source": [
    "## shallow copy"
   ]
  },
  {
   "cell_type": "code",
   "execution_count": 92,
   "id": "93666c4b-b485-4295-bdef-11ebd3a5a010",
   "metadata": {
    "id": "63659d4a-0b0a-4812-b9d0-4e3cd5e98fc2"
   },
   "outputs": [
    {
     "name": "stdout",
     "output_type": "stream",
     "text": [
      "id(d1[\"a\"])= 140694002656704\n",
      "id(d2[\"a\"])= 140694002656704\n",
      "{'a': [1, 2, 99], 'b': [3, 4]}\n",
      "{'a': [1, 2, 99], 'b': [3, 4]}\n"
     ]
    }
   ],
   "source": [
    "d1={'a':[1,2], 'b':[3,4]}\n",
    "print(f'id(d1[\"a\"])= {id(d1[\"a\"])}')\n",
    "d2=d1.copy()\n",
    "print(f'id(d2[\"a\"])= {id(d2[\"a\"])}')\n",
    "d1['a'].append(99)\n",
    "print(d1)\n",
    "print(d2) # d2['a'] is [ 1,2] or [1,2,99]?"
   ]
  },
  {
   "cell_type": "code",
   "execution_count": null,
   "id": "7ee27cd9-7f8d-414f-995b-2b2aa01ff60e",
   "metadata": {},
   "outputs": [],
   "source": []
  },
  {
   "cell_type": "code",
   "execution_count": null,
   "id": "68d38740-ee0e-455f-8a64-d0c31d5731a2",
   "metadata": {},
   "outputs": [],
   "source": [
    "for k,v in d1.items():\n",
    "    print(id(k), id(v), k, v)\n",
    "print(\"--------------------------\")\n",
    "for k,v in d2.items():\n",
    "    print(id(k), id(v), k, v)"
   ]
  },
  {
   "cell_type": "markdown",
   "id": "49d936d2-9c16-4bf6-929a-370e5b6cf3d1",
   "metadata": {
    "id": "721de494-5fcc-4d65-bb34-6fb2ce1ff89c"
   },
   "source": [
    "## deep copy"
   ]
  },
  {
   "cell_type": "code",
   "execution_count": 93,
   "id": "8042a499-1dbd-4c61-810e-a121b9e8b0a9",
   "metadata": {
    "id": "63659d4a-0b0a-4812-b9d0-4e3cd5e98fc2"
   },
   "outputs": [
    {
     "name": "stdout",
     "output_type": "stream",
     "text": [
      "id(d1[\"a\"])= 140694002768128\n",
      "id(d2[\"a\"])= 140694002656128\n",
      "{'a': [1, 2, 99], 'b': [3, 4]}\n",
      "{'a': [1, 2], 'b': [3, 4]}\n"
     ]
    }
   ],
   "source": [
    "import copy\n",
    "d1={'a':[1,2], 'b':[3,4]}\n",
    "print(f'id(d1[\"a\"])= {id(d1[\"a\"])}')\n",
    "d2=copy.deepcopy(d1)\n",
    "print(f'id(d2[\"a\"])= {id(d2[\"a\"])}')\n",
    "d1['a'].append(99)\n",
    "print(d1)\n",
    "print(d2)"
   ]
  },
  {
   "cell_type": "code",
   "execution_count": null,
   "id": "d2f5e4b4-039b-42b8-8d16-36d66487a0e2",
   "metadata": {},
   "outputs": [],
   "source": [
    "help(copy.deepcopy)"
   ]
  },
  {
   "cell_type": "code",
   "execution_count": null,
   "id": "002e1f1a-5a8e-4e71-b6d9-56b2fe34d452",
   "metadata": {},
   "outputs": [],
   "source": [
    "for k,v in d1.items():\n",
    "    print(id(k), id(v), k, v)\n",
    "print(\"--------------------------\")\n",
    "for k,v in d2.items():\n",
    "    print(id(k), id(v), k, v)"
   ]
  },
  {
   "cell_type": "code",
   "execution_count": null,
   "id": "cffbcb26-1502-4cc6-9ebe-0830e6f7b980",
   "metadata": {},
   "outputs": [],
   "source": []
  }
 ],
 "metadata": {
  "colab": {
   "name": "June30.ipynb",
   "provenance": []
  },
  "kernelspec": {
   "display_name": "Python 3 (ipykernel)",
   "language": "python",
   "name": "python3"
  },
  "language_info": {
   "codemirror_mode": {
    "name": "ipython",
    "version": 3
   },
   "file_extension": ".py",
   "mimetype": "text/x-python",
   "name": "python",
   "nbconvert_exporter": "python",
   "pygments_lexer": "ipython3",
   "version": "3.10.12"
  }
 },
 "nbformat": 4,
 "nbformat_minor": 5
}
