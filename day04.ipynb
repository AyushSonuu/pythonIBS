{
 "cells": [
  {
   "cell_type": "code",
   "execution_count": 1,
   "metadata": {},
   "outputs": [
    {
     "ename": "TypeError",
     "evalue": "MyClass.__init__() missing 2 required positional arguments: 'arg1' and 'arg2'",
     "output_type": "error",
     "traceback": [
      "\u001b[0;31m---------------------------------------------------------------------------\u001b[0m",
      "\u001b[0;31mTypeError\u001b[0m                                 Traceback (most recent call last)",
      "Cell \u001b[0;32mIn[1], line 19\u001b[0m\n\u001b[1;32m     16\u001b[0m         \u001b[38;5;28mprint\u001b[39m(\u001b[38;5;124m\"\u001b[39m\u001b[38;5;124marg2:\u001b[39m\u001b[38;5;124m\"\u001b[39m, \u001b[38;5;28mself\u001b[39m\u001b[38;5;241m.\u001b[39marg2)\n\u001b[1;32m     18\u001b[0m \u001b[38;5;66;03m# Creating objects using different constructors\u001b[39;00m\n\u001b[0;32m---> 19\u001b[0m obj1 \u001b[38;5;241m=\u001b[39m \u001b[43mMyClass\u001b[49m\u001b[43m(\u001b[49m\u001b[43m)\u001b[49m\n\u001b[1;32m     20\u001b[0m obj2 \u001b[38;5;241m=\u001b[39m MyClass(\u001b[38;5;124m\"\u001b[39m\u001b[38;5;124mvalue1\u001b[39m\u001b[38;5;124m\"\u001b[39m)\n\u001b[1;32m     21\u001b[0m obj3 \u001b[38;5;241m=\u001b[39m MyClass(\u001b[38;5;124m\"\u001b[39m\u001b[38;5;124mvalue1\u001b[39m\u001b[38;5;124m\"\u001b[39m, \u001b[38;5;124m\"\u001b[39m\u001b[38;5;124mvalue2\u001b[39m\u001b[38;5;124m\"\u001b[39m)\n",
      "\u001b[0;31mTypeError\u001b[0m: MyClass.__init__() missing 2 required positional arguments: 'arg1' and 'arg2'"
     ]
    }
   ],
   "source": [
    "class MyClass:\n",
    "    def __init__(self):\n",
    "        self.arg1 = \"default_value\"\n",
    "        self.arg2 = \"default_value\"\n",
    "    \n",
    "    def __init__(self, arg1):\n",
    "        self.arg1 = arg1\n",
    "        self.arg2 = \"default_value\"\n",
    "    \n",
    "    def __init__(self, arg1, arg2):\n",
    "        self.arg1 = arg1\n",
    "        self.arg2 = arg2\n",
    "    \n",
    "    def display(self):\n",
    "        print(\"arg1:\", self.arg1)\n",
    "        print(\"arg2:\", self.arg2)\n",
    "\n",
    "# Creating objects using different constructors\n",
    "obj1 = MyClass()\n",
    "obj2 = MyClass(\"value1\")\n",
    "obj3 = MyClass(\"value1\", \"value2\")\n",
    "\n",
    "# Displaying objects\n",
    "print(\"Object 1:\")\n",
    "obj1.display()\n",
    "print(\"\\nObject 2:\")\n",
    "obj2.display()\n",
    "print(\"\\nObject 3:\")\n",
    "obj3.display()\n"
   ]
  },
  {
   "cell_type": "code",
   "execution_count": null,
   "metadata": {},
   "outputs": [],
   "source": [
    "class MyClass:\n",
    "    def __init__(self):\n",
    "        self.arg1 = \"default_value\"\n",
    "        self.arg2 = \"default_value\"\n",
    "    \n",
    "    def __init__(self, arg1):\n",
    "        self.arg1 = arg1\n",
    "        self.arg2 = \"default_value\"\n",
    "    \n",
    "    def __init__(self, arg1, arg2):\n",
    "        self.arg1 = arg1\n",
    "        self.arg2 = arg2\n",
    "    \n",
    "    def display(self):\n",
    "        print(\"arg1:\", self.arg1)\n",
    "        print(\"arg2:\", self.arg2)\n",
    "\n",
    "# Creating objects using different constructors\n",
    "obj1 = MyClass()\n",
    "obj2 = MyClass(\"value1\")\n",
    "obj3 = MyClass(\"value1\", \"value2\")\n",
    "\n",
    "# Displaying objects\n",
    "print(\"Object 1:\")\n",
    "obj1.display()\n",
    "print(\"\\nObject 2:\")\n",
    "obj2.display()\n",
    "print(\"\\nObject 3:\")\n",
    "obj3.display()\n"
   ]
  },
  {
   "cell_type": "code",
   "execution_count": null,
   "metadata": {},
   "outputs": [],
   "source": []
  },
  {
   "cell_type": "code",
   "execution_count": null,
   "metadata": {},
   "outputs": [],
   "source": []
  }
 ],
 "metadata": {
  "kernelspec": {
   "display_name": "Python 3",
   "language": "python",
   "name": "python3"
  },
  "language_info": {
   "codemirror_mode": {
    "name": "ipython",
    "version": 3
   },
   "file_extension": ".py",
   "mimetype": "text/x-python",
   "name": "python",
   "nbconvert_exporter": "python",
   "pygments_lexer": "ipython3",
   "version": "3.0.0"
  }
 },
 "nbformat": 4,
 "nbformat_minor": 2
}
