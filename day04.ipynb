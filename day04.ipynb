{
 "cells": [
  {
   "cell_type": "code",
   "execution_count": null,
   "metadata": {},
   "outputs": [],
   "source": [
    "class MyClass:\n",
    "    def __init__(self):\n",
    "        self.arg1 = \"default_value\"\n",
    "        self.arg2 = \"default_value\"\n",
    "    \n",
    "    def __init__(self, arg1):\n",
    "        self.arg1 = arg1\n",
    "        self.arg2 = \"default_value\"\n",
    "    \n",
    "    def __init__(self, arg1, arg2):\n",
    "        self.arg1 = arg1\n",
    "        self.arg2 = arg2\n",
    "    \n",
    "    def display(self):\n",
    "        print(\"arg1:\", self.arg1)\n",
    "        print(\"arg2:\", self.arg2)\n",
    "\n",
    "# Creating objects using different constructors\n",
    "obj1 = MyClass()\n",
    "obj2 = MyClass(\"value1\")\n",
    "obj3 = MyClass(\"value1\", \"value2\")\n",
    "\n",
    "# Displaying objects\n",
    "print(\"Object 1:\")\n",
    "obj1.display()\n",
    "print(\"\\nObject 2:\")\n",
    "obj2.display()\n",
    "print(\"\\nObject 3:\")\n",
    "obj3.display()\n"
   ]
  }
 ],
 "metadata": {
  "language_info": {
   "name": "python"
  }
 },
 "nbformat": 4,
 "nbformat_minor": 2
}
