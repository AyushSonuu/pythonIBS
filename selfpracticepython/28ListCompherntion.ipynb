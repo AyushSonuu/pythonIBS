{
 "cells": [
  {
   "cell_type": "code",
   "execution_count": 2,
   "metadata": {},
   "outputs": [],
   "source": [
    "a = [i*i for i in range(10)]"
   ]
  },
  {
   "cell_type": "code",
   "execution_count": 3,
   "metadata": {},
   "outputs": [
    {
     "data": {
      "text/plain": [
       "[0, 1, 4, 9, 16, 25, 36, 49, 64, 81]"
      ]
     },
     "execution_count": 3,
     "metadata": {},
     "output_type": "execute_result"
    }
   ],
   "source": [
    "a"
   ]
  },
  {
   "cell_type": "code",
   "execution_count": 6,
   "metadata": {},
   "outputs": [
    {
     "data": {
      "text/plain": [
       "[0,\n",
       " 2,\n",
       " 4,\n",
       " 6,\n",
       " 8,\n",
       " 10,\n",
       " 12,\n",
       " 14,\n",
       " 16,\n",
       " 18,\n",
       " 20,\n",
       " 22,\n",
       " 24,\n",
       " 26,\n",
       " 28,\n",
       " 30,\n",
       " 32,\n",
       " 34,\n",
       " 36,\n",
       " 38,\n",
       " 40,\n",
       " 42,\n",
       " 44,\n",
       " 46,\n",
       " 48]"
      ]
     },
     "execution_count": 6,
     "metadata": {},
     "output_type": "execute_result"
    }
   ],
   "source": [
    "[i for i in range(50) if i%2==0]"
   ]
  },
  {
   "cell_type": "code",
   "execution_count": 7,
   "metadata": {},
   "outputs": [],
   "source": [
    "word = [\"sudh\",\"kumar\",\"python\",\"java\"]"
   ]
  },
  {
   "cell_type": "code",
   "execution_count": 8,
   "metadata": {},
   "outputs": [
    {
     "data": {
      "text/plain": [
       "['s', 'k', 'p', 'j']"
      ]
     },
     "execution_count": 8,
     "metadata": {},
     "output_type": "execute_result"
    }
   ],
   "source": [
    "[i[0] for i in word]"
   ]
  },
  {
   "cell_type": "code",
   "execution_count": 18,
   "metadata": {},
   "outputs": [
    {
     "data": {
      "text/plain": [
       "{0: 0, 1: 1, 8: 2, 27: 3, 64: 4, 125: 5, 216: 6, 343: 7, 512: 8, 729: 9}"
      ]
     },
     "execution_count": 18,
     "metadata": {},
     "output_type": "execute_result"
    }
   ],
   "source": [
    "(dict([(i**3,i)  for i in range(10)]))"
   ]
  },
  {
   "cell_type": "code",
   "execution_count": 19,
   "metadata": {},
   "outputs": [
    {
     "data": {
      "text/plain": [
       "[3, 4, 5, 4, 5, 6, 3, 4, 5]"
      ]
     },
     "execution_count": 19,
     "metadata": {},
     "output_type": "execute_result"
    }
   ],
   "source": [
    "l = [[3,4,5],[4,5,6],[3,4,5]]\n",
    "[j for i in l for j in i ]"
   ]
  },
  {
   "cell_type": "code",
   "execution_count": 20,
   "metadata": {},
   "outputs": [
    {
     "data": {
      "text/plain": [
       "[-7, -47]"
      ]
     },
     "execution_count": 20,
     "metadata": {},
     "output_type": "execute_result"
    }
   ],
   "source": [
    "l = [4,5,6,-7,8-55]\n",
    "[i for i in l if i <0]"
   ]
  },
  {
   "cell_type": "code",
   "execution_count": 23,
   "metadata": {},
   "outputs": [],
   "source": [
    "text = \"sadjfvjh324hjb3lj2hbrh34b4rl2j3hj4kl2j314brjhjh324b2j3mbn4ejk23mb43k2jmnb4webkj3,mnw\"\n",
    "a = [int(i) for i in text if i.isdigit()]"
   ]
  },
  {
   "cell_type": "code",
   "execution_count": 24,
   "metadata": {},
   "outputs": [
    {
     "data": {
      "text/plain": [
       "['odd',\n",
       " 'Even',\n",
       " 'Even',\n",
       " 'odd',\n",
       " 'Even',\n",
       " 'odd',\n",
       " 'Even',\n",
       " 'Even',\n",
       " 'Even',\n",
       " 'odd',\n",
       " 'Even',\n",
       " 'Even',\n",
       " 'odd',\n",
       " 'odd',\n",
       " 'Even',\n",
       " 'odd',\n",
       " 'Even',\n",
       " 'Even',\n",
       " 'Even',\n",
       " 'odd',\n",
       " 'Even',\n",
       " 'Even',\n",
       " 'odd',\n",
       " 'Even',\n",
       " 'odd',\n",
       " 'Even',\n",
       " 'Even',\n",
       " 'odd']"
      ]
     },
     "execution_count": 24,
     "metadata": {},
     "output_type": "execute_result"
    }
   ],
   "source": [
    "[\"Even\" if i %2==0 else \"odd\" for i in a ]"
   ]
  },
  {
   "cell_type": "code",
   "execution_count": 25,
   "metadata": {},
   "outputs": [],
   "source": [
    "d = {i: i*i for i in range(10)}"
   ]
  },
  {
   "cell_type": "code",
   "execution_count": 26,
   "metadata": {},
   "outputs": [
    {
     "data": {
      "text/plain": [
       "{0: 0, 1: 1, 2: 4, 3: 9, 4: 16, 5: 25, 6: 36, 7: 49, 8: 64, 9: 81}"
      ]
     },
     "execution_count": 26,
     "metadata": {},
     "output_type": "execute_result"
    }
   ],
   "source": [
    "d"
   ]
  },
  {
   "cell_type": "code",
   "execution_count": 27,
   "metadata": {},
   "outputs": [
    {
     "data": {
      "text/plain": [
       "{0: [0, 0],\n",
       " 1: [1, 1],\n",
       " 2: [4, 8],\n",
       " 3: [9, 27],\n",
       " 4: [16, 64],\n",
       " 5: [25, 125],\n",
       " 6: [36, 216],\n",
       " 7: [49, 343],\n",
       " 8: [64, 512],\n",
       " 9: [81, 729]}"
      ]
     },
     "execution_count": 27,
     "metadata": {},
     "output_type": "execute_result"
    }
   ],
   "source": [
    "{i:[i*i, i**3] for i in range(10)}"
   ]
  },
  {
   "cell_type": "code",
   "execution_count": 30,
   "metadata": {},
   "outputs": [],
   "source": [
    "d = {'a':1,\"b\":2,'c':5,\"d\":8,\"s\":8}"
   ]
  },
  {
   "cell_type": "code",
   "execution_count": 31,
   "metadata": {},
   "outputs": [
    {
     "data": {
      "text/plain": [
       "{1: 'a', 2: 'b', 5: 'c', 8: 's'}"
      ]
     },
     "execution_count": 31,
     "metadata": {},
     "output_type": "execute_result"
    }
   ],
   "source": [
    "{val:key for key,val in d.items()}"
   ]
  },
  {
   "cell_type": "code",
   "execution_count": 34,
   "metadata": {},
   "outputs": [
    {
     "data": {
      "text/plain": [
       "{1: ['a'], 2: ['b'], 5: ['c'], 8: ['d', 's']}"
      ]
     },
     "execution_count": 34,
     "metadata": {},
     "output_type": "execute_result"
    }
   ],
   "source": [
    "{val:[key for key,value in d.items() if val==value] for val in d.values()}"
   ]
  },
  {
   "cell_type": "markdown",
   "metadata": {},
   "source": []
  },
  {
   "cell_type": "code",
   "execution_count": 35,
   "metadata": {},
   "outputs": [
    {
     "data": {
      "text/plain": [
       "{0: 'sudh', 1: 'kumar', 2: 'python', 3: 'kist'}"
      ]
     },
     "execution_count": 35,
     "metadata": {},
     "output_type": "execute_result"
    }
   ],
   "source": [
    "l = [\"sudh\",\"kumar\",\"python\",\"kist\"]\n",
    "{key:value for key,value in enumerate(l)} "
   ]
  },
  {
   "cell_type": "code",
   "execution_count": 36,
   "metadata": {},
   "outputs": [
    {
     "data": {
      "text/plain": [
       "{2: 'list', 3: 'tuples', 4: 'dit'}"
      ]
     },
     "execution_count": 36,
     "metadata": {},
     "output_type": "execute_result"
    }
   ],
   "source": [
    "l1 = [2,3,4]\n",
    "l2 = [\"list\",\"tuples\",\"dit\"]\n",
    "dict(zip(l1,l2))"
   ]
  },
  {
   "cell_type": "code",
   "execution_count": 38,
   "metadata": {},
   "outputs": [
    {
     "data": {
      "text/plain": [
       "{0: (0, 1, 2),\n",
       " 1: (1, 2, 3),\n",
       " 2: (2, 3, 4),\n",
       " 3: (3, 4, 5),\n",
       " 4: (4, 5, 6),\n",
       " 5: (5, 6, 7),\n",
       " 6: (6, 7, 8),\n",
       " 7: (7, 8, 9),\n",
       " 8: (8, 9, 10),\n",
       " 9: (9, 10, 11)}"
      ]
     },
     "execution_count": 38,
     "metadata": {},
     "output_type": "execute_result"
    }
   ],
   "source": [
    "{i : (i,i+1,i+2)for i in range(10)}"
   ]
  },
  {
   "cell_type": "code",
   "execution_count": 40,
   "metadata": {},
   "outputs": [
    {
     "data": {
      "text/plain": [
       "{'b': 2, 'd': 8}"
      ]
     },
     "execution_count": 40,
     "metadata": {},
     "output_type": "execute_result"
    }
   ],
   "source": [
    "d = {'a':1,'b':2,'c':3,\"d\":8}\n",
    "{k : v for k,v in d.items() if v%2 ==0}"
   ]
  },
  {
   "cell_type": "code",
   "execution_count": 45,
   "metadata": {},
   "outputs": [
    {
     "data": {
      "text/plain": [
       "{'name0': 0,\n",
       " 'name1': 1,\n",
       " 'name2': 2,\n",
       " 'name3': 3,\n",
       " 'name4': 4,\n",
       " 'name5': 5,\n",
       " 'name6': 6,\n",
       " 'name7': 7,\n",
       " 'name8': 8,\n",
       " 'name9': 9,\n",
       " 'name10': 10,\n",
       " 'name11': 11,\n",
       " 'name12': 12,\n",
       " 'name13': 13,\n",
       " 'name14': 14,\n",
       " 'name15': 15,\n",
       " 'name16': 16,\n",
       " 'name17': 17,\n",
       " 'name18': 18,\n",
       " 'name19': 19,\n",
       " 'name20': 20,\n",
       " 'name21': 21,\n",
       " 'name22': 22,\n",
       " 'name23': 23,\n",
       " 'name24': 24,\n",
       " 'name25': 25,\n",
       " 'name26': 26,\n",
       " 'name27': 27,\n",
       " 'name28': 28,\n",
       " 'name29': 29,\n",
       " 'name30': 30,\n",
       " 'name31': 31,\n",
       " 'name32': 32,\n",
       " 'name33': 33,\n",
       " 'name34': 34,\n",
       " 'name35': 35,\n",
       " 'name36': 36,\n",
       " 'name37': 37,\n",
       " 'name38': 38,\n",
       " 'name39': 39,\n",
       " 'name40': 40,\n",
       " 'name41': 41,\n",
       " 'name42': 42,\n",
       " 'name43': 43,\n",
       " 'name44': 44,\n",
       " 'name45': 45,\n",
       " 'name46': 46,\n",
       " 'name47': 47,\n",
       " 'name48': 48,\n",
       " 'name49': 49,\n",
       " 'name50': 50,\n",
       " 'name51': 51,\n",
       " 'name52': 52,\n",
       " 'name53': 53,\n",
       " 'name54': 54,\n",
       " 'name55': 55,\n",
       " 'name56': 56,\n",
       " 'name57': 57,\n",
       " 'name58': 58,\n",
       " 'name59': 59,\n",
       " 'name60': 60,\n",
       " 'name61': 61,\n",
       " 'name62': 62,\n",
       " 'name63': 63,\n",
       " 'name64': 64,\n",
       " 'name65': 65,\n",
       " 'name66': 66,\n",
       " 'name67': 67,\n",
       " 'name68': 68,\n",
       " 'name69': 69,\n",
       " 'name70': 70,\n",
       " 'name71': 71,\n",
       " 'name72': 72,\n",
       " 'name73': 73,\n",
       " 'name74': 74,\n",
       " 'name75': 75,\n",
       " 'name76': 76,\n",
       " 'name77': 77,\n",
       " 'name78': 78,\n",
       " 'name79': 79,\n",
       " 'name80': 80,\n",
       " 'name81': 81,\n",
       " 'name82': 82,\n",
       " 'name83': 83,\n",
       " 'name84': 84,\n",
       " 'name85': 85,\n",
       " 'name86': 86,\n",
       " 'name87': 87,\n",
       " 'name88': 88,\n",
       " 'name89': 89,\n",
       " 'name90': 90,\n",
       " 'name91': 91,\n",
       " 'name92': 92,\n",
       " 'name93': 93,\n",
       " 'name94': 94,\n",
       " 'name95': 95,\n",
       " 'name96': 96,\n",
       " 'name97': 97,\n",
       " 'name98': 98,\n",
       " 'name99': 99,\n",
       " 'name100': 100}"
      ]
     },
     "execution_count": 45,
     "metadata": {},
     "output_type": "execute_result"
    }
   ],
   "source": [
    "n = 101\n",
    "{f\"name{val}\":val for val in range(n)}"
   ]
  },
  {
   "cell_type": "code",
   "execution_count": null,
   "metadata": {},
   "outputs": [],
   "source": []
  }
 ],
 "metadata": {
  "kernelspec": {
   "display_name": "Python 3",
   "language": "python",
   "name": "python3"
  },
  "language_info": {
   "codemirror_mode": {
    "name": "ipython",
    "version": 3
   },
   "file_extension": ".py",
   "mimetype": "text/x-python",
   "name": "python",
   "nbconvert_exporter": "python",
   "pygments_lexer": "ipython3",
   "version": "3.0.0"
  }
 },
 "nbformat": 4,
 "nbformat_minor": 2
}
